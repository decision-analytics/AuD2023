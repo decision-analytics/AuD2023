{
 "cells": [
  {
   "cell_type": "markdown",
   "metadata": {
    "slideshow": {
     "slide_type": "slide"
    }
   },
   "source": [
    "<img src=\"./img/logo_wiwi.png\" width=\"23%\" align=\"left\">\n",
    "<img src=\"./img/decision_analytics_logo.png\" width=\"17%\" align=\"right\">\n",
    "\n",
    "<br><br><br><br><br><br><br>\n",
    "\n",
    "\n",
    "## Algorithmen und Datenstrukturen\n",
    "Wintersemester 2023/24\n",
    "\n",
    "\n",
    "# Übung 5: Rekursion\n",
    "\n",
    "\n",
    "<br><br><br>\n",
    "J-Prof. Dr. Michael Römer, Till Porrmann "
   ]
  },
  {
   "cell_type": "markdown",
   "metadata": {
    "slideshow": {
     "slide_type": "slide"
    }
   },
   "source": [
    "# Überblick\n",
    "\n",
    "0. Übungszettel\n",
    "1. Wiederholung Vorlesung\n",
    "2. Rekursion\n",
    "3. Call-Stack"
   ]
  },
  {
   "cell_type": "markdown",
   "metadata": {
    "slideshow": {
     "slide_type": "slide"
    }
   },
   "source": [
    "# 0. Übungszettel\n",
    "## Termine\n",
    "\n",
    "| ÜZ Nr. | Bearbeitungszeitraum | Präsentation | Thema (voraussichtlich) | Vorstellende |\n",
    "| :-: | :-: | :-: | :-: | :-: |\n",
    "| 1 | 19.10.-28.10. | 02.11. | Grundlagen Python / Algorithmen      |   Michelle+Dennis     |\n",
    "| **2** | **02.11.-11.11.** | **16.11.** | **Datenstrukturen / Sortierverfahren**   |   **Mohammed+Denis**|\n",
    "| 3 | 16.11.-25.11. | 30.11. | Rekursion                            |   Daniela+Erik     |\n",
    "| 4 | 30.11.-09.12. | 14.12. | Hash-Tabellen                        |   Levin+Emre     |\n",
    "| 5 | 14.12.-22.12. | 11.01. | Graphen / Kürzeste Wege Verfahren    |   Dmytro+Lena     |\n",
    "| 6 | 11.01.-20.01. | 25.01. | DAGs / Greedy-Algorithmen            |   Rehman+Lucas     |\n",
    "| 7 | 25.01.-31.01. | 01.02  | Dynamische Programmierung            |   Lukas+Sven+Espen     |"
   ]
  },
  {
   "cell_type": "markdown",
   "metadata": {
    "slideshow": {
     "slide_type": "slide"
    }
   },
   "source": [
    "# Übungszettel - Präsentation\n"
   ]
  },
  {
   "cell_type": "markdown",
   "metadata": {
    "slideshow": {
     "slide_type": "slide"
    }
   },
   "source": [
    "# 1. Wiederholung Vorlesung"
   ]
  },
  {
   "cell_type": "markdown",
   "metadata": {
    "slideshow": {
     "slide_type": "slide"
    }
   },
   "source": [
    "# Wiederholung Vorlesung\n",
    "## Rekursion\n",
    "- Rekursive Funktionen rufen sich selber auf"
   ]
  },
  {
   "cell_type": "code",
   "execution_count": null,
   "metadata": {},
   "outputs": [],
   "source": [
    "def rek_func(): # Die Funktion\n",
    "    ...\n",
    "    rek_func()  # Aufruf der Funktion innerhalb von sich selbst"
   ]
  },
  {
   "cell_type": "markdown",
   "metadata": {
    "slideshow": {
     "slide_type": "fragment"
    }
   },
   "source": [
    "<br>\n",
    "\n",
    "- Dabei wird im inneren Funktionsaufruf immer ein vereinfachtes Teilproblem betrachtet"
   ]
  },
  {
   "cell_type": "code",
   "execution_count": null,
   "metadata": {},
   "outputs": [],
   "source": [
    "def rek_func(gesamtproblem):\n",
    "    ...\n",
    "    teilproblem = ...          # Vereinfachung zu einem Teilproblem    \n",
    "    rek_func(teilproblem)      # Erneuter Aufruf der Funktion mit dem Teilproblem"
   ]
  },
  {
   "cell_type": "markdown",
   "metadata": {
    "slideshow": {
     "slide_type": "slide"
    }
   },
   "source": [
    "# Wiederholung Vorlesung\n",
    "## Rekursion\n",
    "\n",
    "- Rekursive Funktionen rufen sich selber auf\n",
    "- Dabei wird im inneren Funktionsaufruf immer ein vereinfachtes Teilproblem betrachtet"
   ]
  },
  {
   "cell_type": "markdown",
   "metadata": {},
   "source": [
    "- Es muss einen Basisfall geben, der für ein Ende sorgt, wenn das Teilproblem einfach genug geworden ist"
   ]
  },
  {
   "cell_type": "code",
   "execution_count": null,
   "metadata": {},
   "outputs": [],
   "source": [
    "def rek_func(gesamtproblem):\n",
    "    if basisfall == True:          # Wenn der Basisfall eintritt wird die Funktion nicht erneut aufgerufen\n",
    "        ...\n",
    "    else\n",
    "        teilproblem = ...          # Vereinfachung zu einem Teilproblem       \n",
    "        rek_func(teilproblem)      # Erneuter Aufruf der Funktion mit dem Teilproblem"
   ]
  },
  {
   "cell_type": "markdown",
   "metadata": {
    "slideshow": {
     "slide_type": "slide"
    }
   },
   "source": [
    "# Wiederholung Vorlesung\n",
    "## Binary Search Rekursion\n",
    "\n",
    "- Es ist möglich, Binary Search rekursiv zu implementieren"
   ]
  },
  {
   "cell_type": "code",
   "execution_count": 3,
   "metadata": {},
   "outputs": [],
   "source": [
    "def binary_search_recursive(liste, low, high, wert):\n",
    "    mid = (low + high) // 2\n",
    "    \n",
    "    # 1. Basisfall: Wert gefunden\n",
    "    if liste[mid] == wert:\n",
    "        print (\"gefunden\")\n",
    "        return mid\n",
    "    \n",
    "    # 2. Basisfall: Wert nicht gefunden\n",
    "    if high == low:\n",
    "        print(\"nicht gefunden\")\n",
    "        return\n",
    "    \n",
    "    if wert < liste[mid]:\n",
    "        return binary_search_recursive(liste, low, mid, wert)\n",
    "    else:\n",
    "        return binary_search_recursive(liste, mid+1, high, wert)"
   ]
  },
  {
   "cell_type": "markdown",
   "metadata": {
    "slideshow": {
     "slide_type": "slide"
    }
   },
   "source": [
    "# Wiederholung Vorlesung\n",
    "## Call-Stack\n",
    "\n",
    "<div class=\"alert alert-block alert-success\">\n",
    "    \n",
    "Der Call-Stack eines Computers ist dafür verantwortlich, die Aufgaben nacheinander abzuarbeiten.\n",
    "- Jeder Befehl von einem Programm wird oben auf den Call-Stack gelegt\n",
    "- Der Stack arbeitet diese Aufgaben nacheinander von oben nach unten ab\n",
    "- Wenn durch die Bearbeitung einer Aufgabe eine neue hinzukommt, wird diese oben auf den Stack gelegt und als nächstes ausgeführt\n",
    "</div>\n",
    "\n",
    "\n",
    "- Verständnis wichtig, um Ablauf von rekursiven Funktionen zu verstehen (und sie zu schreiben)\n",
    "- Stack als Datenstruktur außerhalb davon weniger interessant für uns\n",
    "- Python Tutor zur Visualisierung"
   ]
  },
  {
   "cell_type": "markdown",
   "metadata": {
    "slideshow": {
     "slide_type": "slide"
    }
   },
   "source": [
    "# 3. Rekursion\n"
   ]
  },
  {
   "cell_type": "markdown",
   "metadata": {
    "slideshow": {
     "slide_type": "slide"
    }
   },
   "source": [
    "# Rekursion\n",
    "## Konzeptionelles Beispiel 1 - Gerüchte verbreiten\n",
    "\n",
    "- Wir wollen ein neues Gerücht in die Welt setzen\n",
    "- Ziel: möglichst viele Personen sollen das Gerücht erfahren\n",
    "\n",
    "><div class=\"alert alert-block alert-info\">\n",
    "<b>Wie können wir vorgehen?</b></div>"
   ]
  },
  {
   "cell_type": "markdown",
   "metadata": {
    "slideshow": {
     "slide_type": "slide"
    }
   },
   "source": [
    "# Rekursion\n",
    "## Konzeptionelles Beispiel 2 - Diamanten-Raub\n",
    "\n",
    "- Wir haben 1000 Diamanten \"gefunden\"\n",
    "- Ziel ist es, diese vor der Polizei zu verstecken, bis nicht mehr nach uns gesucht wird\n",
    "- Wenn eine Person mehr als 10 Diamanten versteckt, wird sie wahrscheinlich entdeckt\n",
    "- Wir vertrauen 2 Personen, dass sie uns geliehene Diamanten später wieder geben\n",
    "- Es wird davon ausgegangen, dass jede Person 2 weiteren Personen vertraut\n",
    "- Wir wollen die Diamanten unauffällig verteilen, dabei aber möglichst kurze Vertrauensketten entstehen lassen\n",
    "\n",
    "><div class=\"alert alert-block alert-info\">\n",
    "<b>Wie können wir vorgehen?</b></div>"
   ]
  },
  {
   "cell_type": "markdown",
   "metadata": {
    "slideshow": {
     "slide_type": "slide"
    }
   },
   "source": [
    "# Rekursion\n",
    "## Binary Search - elegantere Implementierung"
   ]
  },
  {
   "cell_type": "code",
   "execution_count": 22,
   "metadata": {},
   "outputs": [],
   "source": [
    "def binary_search_recursive(liste, wert):\n",
    "    mid = len(liste) // 2\n",
    "\n",
    "    # 1. Basisfall: Wert gefunden\n",
    "    if liste[mid] == wert:\n",
    "        print (\"gefunden\")\n",
    "        return True\n",
    "    \n",
    "    # 2. Basisfall: Wert nicht gefunden\n",
    "    if len(liste)<=1:\n",
    "        print(\"nicht gefunden\")\n",
    "        return False\n",
    "    \n",
    "    if wert < liste[mid]:\n",
    "        teilliste = liste[ : mid+1]\n",
    "    else:\n",
    "        teilliste = liste[mid : ]\n",
    "        \n",
    "    return binary_search_recursive(teilliste, wert)"
   ]
  },
  {
   "cell_type": "code",
   "execution_count": 23,
   "metadata": {},
   "outputs": [
    {
     "name": "stdout",
     "output_type": "stream",
     "text": [
      "nicht gefunden\n"
     ]
    },
    {
     "data": {
      "text/plain": [
       "False"
      ]
     },
     "execution_count": 23,
     "metadata": {},
     "output_type": "execute_result"
    }
   ],
   "source": [
    "liste = [2,3,5,7,11,13,17]\n",
    "binary_search_recursive(liste,19)"
   ]
  },
  {
   "cell_type": "markdown",
   "metadata": {
    "slideshow": {
     "slide_type": "slide"
    }
   },
   "source": [
    "# Rekursion\n",
    "## Modulo\n",
    "\n",
    "- Der [Modulo-Operator](https://www.freecodecamp.org/news/the-python-modulo-operator-what-does-the-symbol-mean-in-python-solved/) gibt an, wie groß der Rest einer Ganzzahl-Division ist (z.B. 13 modulo 5 = 3). In Pyhton gibt es dafür den Operator ```%```.\n",
    "\n",
    "><div class=\"alert alert-block alert-info\">\n",
    "<b>Implementiert Modulo rekursiv</b></div>\n",
    "\n",
    "- Schreibt eine rekursive Funktion ```modulo_rekursiv(dividend, divisor)``` \n",
    "- ```%```, ```/``` und ```*``` dürfen nicht benutzt werden."
   ]
  },
  {
   "cell_type": "markdown",
   "metadata": {
    "slideshow": {
     "slide_type": "slide"
    }
   },
   "source": [
    "# 4. Call-Stack\n",
    "\n",
    "- Konzept\n",
    "- Visualisierung mit Fibonacci Beispiel"
   ]
  },
  {
   "cell_type": "markdown",
   "metadata": {
    "slideshow": {
     "slide_type": "slide"
    }
   },
   "source": [
    "# Call-Stack\n",
    "\n",
    "## Konzept\n",
    "\n",
    "- \"Aufruf-Stapel\"\n",
    "- Aufrufe von Funktionen müssen nacheinander vom Computer abgearbeitet werden\n",
    "- Einzige Regeln: \n",
    "    - neue Aufrufe kommen oben auf den Call-Stack\n",
    "    - Es wird immer der oberste Funktionsaufruf abgearbeitet und anschließend vom Callstack entfernt\n",
    "\n",
    "\n",
    "- Wenn in einem Aufruf ein weiterer Aufruf erfolgt, wird der neue abgearbeitet bevor der alte vervollständigt ist"
   ]
  },
  {
   "cell_type": "markdown",
   "metadata": {
    "slideshow": {
     "slide_type": "slide"
    }
   },
   "source": [
    "# Call-Stack\n",
    "\n",
    "## Visualisierung mit Fibonacci Beispiel"
   ]
  },
  {
   "cell_type": "code",
   "execution_count": null,
   "metadata": {},
   "outputs": [],
   "source": [
    "def fibonacci_rekursiv(n):\n",
    "    if n <= 1:\n",
    "        return n\n",
    "    return fibonacci_rekursiv(n-2) + fibonacci_rekursiv(n-1)"
   ]
  },
  {
   "cell_type": "code",
   "execution_count": null,
   "metadata": {},
   "outputs": [],
   "source": [
    "fibonacci_rekursiv(5)"
   ]
  },
  {
   "cell_type": "markdown",
   "metadata": {
    "slideshow": {
     "slide_type": "-"
    }
   },
   "source": [
    "><div class=\"alert alert-block alert-info\">\n",
    "<b>Wie sieht der Call-Stack beim Durchlaufen des Funktionsaufrufs aus?</b></div>"
   ]
  },
  {
   "cell_type": "markdown",
   "metadata": {
    "slideshow": {
     "slide_type": "slide"
    }
   },
   "source": [
    "# Vielen Dank für Eure Aufmerksamkeit"
   ]
  }
 ],
 "metadata": {
  "celltoolbar": "Slideshow",
  "kernelspec": {
   "display_name": "Python 3",
   "language": "python",
   "name": "python3"
  },
  "language_info": {
   "codemirror_mode": {
    "name": "ipython",
    "version": 3
   },
   "file_extension": ".py",
   "mimetype": "text/x-python",
   "name": "python",
   "nbconvert_exporter": "python",
   "pygments_lexer": "ipython3",
   "version": "3.7.4"
  },
  "toc": {
   "base_numbering": 1,
   "nav_menu": {},
   "number_sections": false,
   "sideBar": true,
   "skip_h1_title": false,
   "title_cell": "Table of Contents",
   "title_sidebar": "Contents",
   "toc_cell": false,
   "toc_position": {},
   "toc_section_display": true,
   "toc_window_display": false
  },
  "varInspector": {
   "cols": {
    "lenName": 16,
    "lenType": 16,
    "lenVar": 40
   },
   "kernels_config": {
    "python": {
     "delete_cmd_postfix": "",
     "delete_cmd_prefix": "del ",
     "library": "var_list.py",
     "varRefreshCmd": "print(var_dic_list())"
    },
    "r": {
     "delete_cmd_postfix": ") ",
     "delete_cmd_prefix": "rm(",
     "library": "var_list.r",
     "varRefreshCmd": "cat(var_dic_list()) "
    }
   },
   "types_to_exclude": [
    "module",
    "function",
    "builtin_function_or_method",
    "instance",
    "_Feature"
   ],
   "window_display": false
  }
 },
 "nbformat": 4,
 "nbformat_minor": 2
}
