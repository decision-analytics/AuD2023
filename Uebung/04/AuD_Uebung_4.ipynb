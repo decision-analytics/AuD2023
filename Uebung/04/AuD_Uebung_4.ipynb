{
 "cells": [
  {
   "cell_type": "markdown",
   "metadata": {
    "slideshow": {
     "slide_type": "slide"
    }
   },
   "source": [
    "<img src=\"./img/logo_wiwi.png\" width=\"23%\" align=\"left\">\n",
    "<img src=\"./img/decision_analytics_logo.png\" width=\"17%\" align=\"right\">\n",
    "\n",
    "<br><br><br><br><br><br><br>\n",
    "\n",
    "\n",
    "## Algorithmen und Datenstrukturen\n",
    "Wintersemester 2023/24\n",
    "\n",
    "\n",
    "# Übung 4: Datenstrukturen und Selectionsort\n",
    "\n",
    "\n",
    "<br><br><br>\n",
    "J-Prof. Dr. Michael Römer, Till Porrmann "
   ]
  },
  {
   "cell_type": "markdown",
   "metadata": {
    "slideshow": {
     "slide_type": "slide"
    }
   },
   "source": [
    "# Überblick\n",
    "\n",
    "0. Fortsetzung Übung 3\n",
    "1. Wiederholung Vorlesung\n",
    "2. Selectionsort\n",
    "3. (Rekursion)"
   ]
  },
  {
   "cell_type": "markdown",
   "metadata": {
    "slideshow": {
     "slide_type": "slide"
    }
   },
   "source": [
    "# 1. Wiederholung Vorlesung"
   ]
  },
  {
   "cell_type": "markdown",
   "metadata": {
    "slideshow": {
     "slide_type": "slide"
    }
   },
   "source": [
    "# Wiederholung Vorlesung\n",
    "## Selectionsort\n",
    "\n",
    "#### Sortierverfahren\n",
    "\n",
    "- Eine Auflistung von Elementen (Zahlen, Text, ...) soll sortiert werden\n",
    "- Viele verschiedene Vorgehen möglich\n",
    "\n",
    "#### Selectionsort\n",
    "\n",
    "- Intuitiver Sortieralgorithmus\n",
    "- Größtes/ kleinstes Element zuerst suchen und in neue Liste verschieben\n",
    "- Solange, bis alle Elemente in neuer Liste"
   ]
  },
  {
   "cell_type": "markdown",
   "metadata": {
    "slideshow": {
     "slide_type": "slide"
    }
   },
   "source": [
    "# Wiederholung Vorlesung\n",
    "## Selectionsort - Code"
   ]
  },
  {
   "cell_type": "code",
   "execution_count": null,
   "metadata": {},
   "outputs": [],
   "source": [
    "def selection_sort(arr):\n",
    "    \n",
    "    neues_array = []        # Erstellt ein leeres Array, das unter der Variable 'neues_Array' zu finden ist\n",
    "    \n",
    "    while len(arr) > 0:    # Solange noch Elemente im Array sind:\n",
    "        kleinstes_position = find_smallest(arr)           # Position des kleinsten Element wird mit der Funktion 'find_smallest' (siehe oben) gefunden\n",
    "        kleinstes_element = arr[kleinstes_position]\n",
    "        arr.remove(kleinstes_element)\n",
    "        neues_array.append(kleinstes_element) #Erläuterung unten*\n",
    "   \n",
    "    return neues_array      # Nachdem alles sortiert wurde, wird das neue, sortierte Array als Ergebnis zurück gegeben"
   ]
  },
  {
   "cell_type": "markdown",
   "metadata": {
    "slideshow": {
     "slide_type": "slide"
    }
   },
   "source": [
    "# Wiederholung Vorlesung"
   ]
  },
  {
   "cell_type": "markdown",
   "metadata": {
    "slideshow": {
     "slide_type": "slide"
    }
   },
   "source": [
    "# Rekursion\n",
    "## Iterativ vs Rekursiv\n",
    "\n",
    "- \"klassisches\" Vorgehen: iterativ\n",
    "    - Ein Schritt nach dem Anderen\n",
    "    - Iteratives Programm wird von vorne nach hinten durchgearbeitet (ggf. mit Schleifen)\n",
    "    - Teilweise schneller in der Ausführung\n",
    "    \n",
    "- Alternative: Rekursion\n",
    "    - Eine Funktion ein mal angegeben\n",
    "    - Immer wieder Aufruf der Funktion (aus der Funktion selbst), neue Funktionsaufrufe oben auf Call-Stack\n",
    "    - Tendenziell schneller und verständlicher beim Schreiben des Codes (für manche Problemstellungen)\n",
    "    - Rekursive Algorithmen können auch iterativ formuliert werden"
   ]
  },
  {
   "cell_type": "markdown",
   "metadata": {
    "slideshow": {
     "slide_type": "slide"
    }
   },
   "source": [
    "# 2. Selectionsort\n",
    "\n",
    "- Sortierverfahren allgemein\n",
    "- Funktionsweise\n",
    "- Code"
   ]
  },
  {
   "cell_type": "markdown",
   "metadata": {
    "slideshow": {
     "slide_type": "slide"
    }
   },
   "source": [
    "# Selectionsort\n",
    "## Sortierverfahren allgemein\n",
    "\n",
    "> **Aufgabe**: eine Auflistung soll in auf- oder absteigender Reihenfolge sortiert werden\n",
    "\n",
    "- Sehr viele verschiedene Ansätze\n",
    "- Viele Vorgänge ähnlich:\n",
    "    - Vergleichen\n",
    "    - Kopieren\n",
    "    - Aufteilen\n",
    "    - Tauschen\n",
    "- Einige konzeptionelle Unterschiede:\n",
    "    - Eine Auflistung vs zwei Auflistungen\n",
    "    - Iterativ vs rekursiv"
   ]
  },
  {
   "cell_type": "markdown",
   "metadata": {
    "slideshow": {
     "slide_type": "slide"
    }
   },
   "source": [
    "# Selectionsort\n",
    "## Sortierverfahren allgemein\n",
    "\n",
    "- Beispiele im Internet meist mit Arrays\n",
    "- Datenstrukturen können für Laufzeiten relevant sein\n",
    "- Aufgabe zu Datenstrukturen für Selectionsort auf Übungszettel"
   ]
  },
  {
   "cell_type": "markdown",
   "metadata": {
    "slideshow": {
     "slide_type": "slide"
    }
   },
   "source": [
    "# Sortierverfahren\n",
    "\n",
    "## Sortierverfahren allgemein\n",
    "\n",
    "><div class=\"alert alert-block alert-info\">\n",
    "<b>Wie würdet ihr eine Liste von Zahlen sortieren?</b></div>\n",
    "\n",
    "- Ohne Wissen über die Zahlen\n",
    "- Wenn ihr wüsstet, dass es nur Zahlen zwischen 1 und 100 sind"
   ]
  },
  {
   "cell_type": "markdown",
   "metadata": {
    "slideshow": {
     "slide_type": "slide"
    }
   },
   "source": [
    "# Selectionsort\n",
    "\n",
    "## Funktionsweise\n",
    "\n",
    "- Idee von Selectionsort einfach:\n",
    "    - Suche das kleinste Element\n",
    "    - Füge es zur Ergebnisliste hinzu\n",
    "    - Lösche es aus der ursprünglichen Liste\n",
    "    - Solange, bis alle Elemente in neuer Liste\n",
    "    "
   ]
  },
  {
   "cell_type": "markdown",
   "metadata": {
    "slideshow": {
     "slide_type": "slide"
    }
   },
   "source": [
    "# Selectionsort\n",
    "\n",
    "## Code"
   ]
  },
  {
   "cell_type": "markdown",
   "metadata": {},
   "source": [
    "Hilfsfunktion:"
   ]
  },
  {
   "cell_type": "code",
   "execution_count": null,
   "metadata": {},
   "outputs": [],
   "source": [
    "def find_smallest(arr):\n",
    "    kleinstes = arr[0]        # Variable für das kleinste Element wird mit dem ersten Element belegt\n",
    "    position_kleinstes = 0    # Die Position des kleinsten Elements ist somit 0\n",
    "    \n",
    "    for position in range(1,len(arr)):    # Es wird jede weitere Position (Index) des Arrays betrachtet, len(arr) ist Länge des Arrays\n",
    "        if arr[position] < kleinstes:         # Wenn das aktuelle Element kleiner ist als das bisher kleinste...\n",
    "            kleinstes = arr[position]              # ... wird es als neues Kleinstes gespeichert...\n",
    "            position_kleinstes = position          # ... und seine Position festgehalten\n",
    "\n",
    "    return position_kleinstes     # Nachdem die gesamte Liste überprüft wurde, wird die Position des kleinsten Elements als Ergebnis zurückgegeben."
   ]
  },
  {
   "cell_type": "markdown",
   "metadata": {},
   "source": [
    "Hauptfunktion:"
   ]
  },
  {
   "cell_type": "code",
   "execution_count": null,
   "metadata": {},
   "outputs": [],
   "source": [
    "def selection_sort(arr):\n",
    "    neues_array = []        # Erstellt ein leeres Array, das unter der Variable 'neues_Array' zu finden ist\n",
    "    \n",
    "    while len(arr) > 0:    # Solange noch Elemente im Array sind:\n",
    "        kleinstes_position = find_smallest(arr)           # Position des kleinsten Element wird mit der Funktion 'find_smallest' (siehe oben) gefunden\n",
    "        kleinstes_element = arr.pop(kleinstes_position)\n",
    "        neues_array.append(kleinstes_element)\n",
    "   \n",
    "    return neues_array      # Nachdem alles sortiert wurde, wird das neue, sortierte Array als Ergebnis zurück gegeben"
   ]
  },
  {
   "cell_type": "markdown",
   "metadata": {
    "slideshow": {
     "slide_type": "slide"
    }
   },
   "source": [
    "# Selectionsort\n",
    "\n",
    "## Funktionsweise\n",
    "\n",
    "- Idee von Selectionsort einfach:\n",
    "    - Suche das kleinste Element\n",
    "    - Füge es zur Ergebnisliste hinzu\n",
    "    - Lösche es aus der ursprünglichen Liste\n",
    "    - Solange, bis alle Elemente in neuer Liste\n",
    "    \n",
    "><div class=\"alert alert-block alert-info\">\n",
    "<b>Sortiert 7 Spielkarten mit Selectionsort.</b></div>"
   ]
  },
  {
   "cell_type": "markdown",
   "metadata": {
    "slideshow": {
     "slide_type": "slide"
    }
   },
   "source": [
    "# 3. Rekursion\n",
    "\n",
    "- Rekursive Funktionen\n",
    "- Konzeptionelles Beispiel\n",
    "- Fibonacci Beispiel\n",
    "- Binary Search Beispiel"
   ]
  },
  {
   "cell_type": "markdown",
   "metadata": {
    "slideshow": {
     "slide_type": "slide"
    }
   },
   "source": [
    "# Rekursion\n",
    "- Rekursive Funktionen rufen sich selber auf"
   ]
  },
  {
   "cell_type": "code",
   "execution_count": null,
   "metadata": {},
   "outputs": [],
   "source": [
    "def rek_func(): # Die Funktion\n",
    "    ...\n",
    "    rek_func()  # Aufruf der Funktion innerhalb von sich selbst"
   ]
  },
  {
   "cell_type": "markdown",
   "metadata": {
    "slideshow": {
     "slide_type": "fragment"
    }
   },
   "source": [
    "<br>\n",
    "\n",
    "- Dabei wird im inneren Funktionsaufruf immer ein vereinfachtes Teilproblem betrachtet"
   ]
  },
  {
   "cell_type": "code",
   "execution_count": null,
   "metadata": {},
   "outputs": [],
   "source": [
    "def rek_func(gesamtproblem):\n",
    "    ...\n",
    "    teilproblem = ...          # Vereinfachung zu einem Teilproblem    \n",
    "    rek_func(teilproblem)      # Erneuter Aufruf der Funktion mit dem Teilproblem"
   ]
  },
  {
   "cell_type": "markdown",
   "metadata": {
    "slideshow": {
     "slide_type": "slide"
    }
   },
   "source": [
    "\n",
    "# Rekursion\n",
    "\n",
    "- Rekursive Funktionen rufen sich selber auf\n",
    "- Dabei wird im inneren Funktionsaufruf immer ein vereinfachtes Teilproblem betrachtet"
   ]
  },
  {
   "cell_type": "markdown",
   "metadata": {},
   "source": [
    "- Es muss einen Basisfall geben, der für ein Ende sorgt, wenn das Teilproblem einfach genug geworden ist"
   ]
  },
  {
   "cell_type": "code",
   "execution_count": null,
   "metadata": {},
   "outputs": [],
   "source": [
    "def rek_func(gesamtproblem):\n",
    "    if basisfall == True:          # Wenn der Basisfall eintritt wird die Funktion nicht erneut aufgerufen\n",
    "        ...\n",
    "    else\n",
    "        teilproblem = ...          # Vereinfachung zu einem Teilproblem       \n",
    "        rek_func(teilproblem)      # Erneuter Aufruf der Funktion mit dem Teilproblem"
   ]
  },
  {
   "cell_type": "markdown",
   "metadata": {
    "slideshow": {
     "slide_type": "slide"
    }
   },
   "source": [
    "# Rekursion\n",
    "## Konzeptionelles Beispiel 1 - Gerüchte verbreiten\n",
    "\n",
    "- Wir wollen ein neues Gerücht in die Welt setzen\n",
    "- Ziel: möglichst viele Personen sollen das Gerücht erfahren\n",
    "\n",
    "><div class=\"alert alert-block alert-info\">\n",
    "<b>Wie können wir vorgehen?</b></div>"
   ]
  },
  {
   "cell_type": "markdown",
   "metadata": {
    "slideshow": {
     "slide_type": "slide"
    }
   },
   "source": [
    "# Rekursion\n",
    "## Konzeptionelles Beispiel 2 - Diamanten-Raub\n",
    "\n",
    "- Wir haben 1000 Diamanten \"gefunden\"\n",
    "- Ziel ist es, diese vor der Polizei zu verstecken, bis nicht mehr nach uns gesucht wird\n",
    "- Wenn eine Person mehr als 10 Diamanten versteckt, wird sie wahrscheinlich entdeckt\n",
    "- Wir vertrauen 2 Personen, dass sie uns geliehene Diamanten später wieder geben\n",
    "- Es wird davon ausgegangen, dass jede Person 2 weiteren Personen vertraut\n",
    "- Wir wollen die Diamanten unauffällig verteilen, dabei aber möglichst kurze Vertrauensketten entstehen lassen\n",
    "\n",
    "><div class=\"alert alert-block alert-info\">\n",
    "<b>Wie können wir vorgehen?</b></div>"
   ]
  },
  {
   "cell_type": "markdown",
   "metadata": {
    "slideshow": {
     "slide_type": "slide"
    }
   },
   "source": [
    "# Rekursion\n",
    "## Fibonacci\n",
    "\n",
    "- Fibonacci Folge: Berühmte Zahlenfolge, die sich an verschiedenen Stellen in der Natur beobachten lässt\n",
    "- Idee: die nächste Zahl der Folge ist die Summe der beiden vorherigen\n",
    "- Startet mit zwei Einsen (Alternativ mit 0 und 1)\n",
    "\n",
    ">1, 1, 2, 3, 5, 8, 13, 21, 34, 55, 89, 144, ..."
   ]
  },
  {
   "cell_type": "markdown",
   "metadata": {
    "slideshow": {
     "slide_type": "slide"
    }
   },
   "source": [
    "# Rekursion\n",
    "## Fibonacci\n",
    "\n",
    "><div class=\"alert alert-block alert-info\">\n",
    "<b>Schreibt eine Funktion, die die n-te Fibonaccizahl iterativ berechnet.</b></div>\n",
    "\n",
    "><div class=\"alert alert-block alert-info\">\n",
    "<b>Schreibt eine Funktion, die die n-te Fibonaccizahl rekursiv berechnet.</b></div>"
   ]
  },
  {
   "cell_type": "code",
   "execution_count": null,
   "metadata": {},
   "outputs": [],
   "source": [
    "def fibonacci_iterativ(n):\n",
    "\n",
    "    return "
   ]
  },
  {
   "cell_type": "code",
   "execution_count": null,
   "metadata": {},
   "outputs": [],
   "source": [
    "def fibonacci_rekursiv(n):\n",
    "\n",
    "    return"
   ]
  },
  {
   "cell_type": "markdown",
   "metadata": {
    "slideshow": {
     "slide_type": "slide"
    }
   },
   "source": [
    "# Vielen Dank für Eure Aufmerksamkeit"
   ]
  }
 ],
 "metadata": {
  "celltoolbar": "Slideshow",
  "kernelspec": {
   "display_name": "Python 3",
   "language": "python",
   "name": "python3"
  },
  "language_info": {
   "codemirror_mode": {
    "name": "ipython",
    "version": 3
   },
   "file_extension": ".py",
   "mimetype": "text/x-python",
   "name": "python",
   "nbconvert_exporter": "python",
   "pygments_lexer": "ipython3",
   "version": "3.7.4"
  },
  "toc": {
   "base_numbering": 1,
   "nav_menu": {},
   "number_sections": false,
   "sideBar": true,
   "skip_h1_title": false,
   "title_cell": "Table of Contents",
   "title_sidebar": "Contents",
   "toc_cell": false,
   "toc_position": {},
   "toc_section_display": true,
   "toc_window_display": false
  },
  "varInspector": {
   "cols": {
    "lenName": 16,
    "lenType": 16,
    "lenVar": 40
   },
   "kernels_config": {
    "python": {
     "delete_cmd_postfix": "",
     "delete_cmd_prefix": "del ",
     "library": "var_list.py",
     "varRefreshCmd": "print(var_dic_list())"
    },
    "r": {
     "delete_cmd_postfix": ") ",
     "delete_cmd_prefix": "rm(",
     "library": "var_list.r",
     "varRefreshCmd": "cat(var_dic_list()) "
    }
   },
   "types_to_exclude": [
    "module",
    "function",
    "builtin_function_or_method",
    "instance",
    "_Feature"
   ],
   "window_display": false
  }
 },
 "nbformat": 4,
 "nbformat_minor": 2
}
