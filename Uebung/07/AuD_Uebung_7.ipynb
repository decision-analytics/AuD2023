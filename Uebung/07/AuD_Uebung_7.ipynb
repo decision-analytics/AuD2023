{
 "cells": [
  {
   "cell_type": "markdown",
   "metadata": {
    "slideshow": {
     "slide_type": "slide"
    }
   },
   "source": [
    "<img src=\"./img/logo_wiwi.png\" width=\"23%\" align=\"left\">\n",
    "<img src=\"./img/decision_analytics_logo.png\" width=\"17%\" align=\"right\">\n",
    "\n",
    "<br><br><br><br><br><br><br><br>\n",
    "\n",
    "\n",
    "## Algorithmen und Datenstrukturen\n",
    "Wintersemester 2023/24\n",
    "\n",
    "\n",
    "# Übung 7: Hash-Tabellen\n",
    "\n",
    "\n",
    "<br><br><br>\n",
    "J-Prof. Dr. Michael Römer, Till Porrmann "
   ]
  },
  {
   "cell_type": "markdown",
   "metadata": {
    "slideshow": {
     "slide_type": "slide"
    }
   },
   "source": [
    "# Überblick\n",
    "\n",
    "0. Übungszettel\n",
    "1. Wiederholung Vorlesung\n",
    "2. Funktionsweise\n",
    "3. Implementierung"
   ]
  },
  {
   "cell_type": "markdown",
   "metadata": {
    "slideshow": {
     "slide_type": "slide"
    }
   },
   "source": [
    "# 0. Übungszettel\n",
    "## Termine\n",
    "\n",
    "| ÜZ Nr. | Bearbeitungszeitraum | Präsentation | Thema (voraussichtlich) | Vorstellende |\n",
    "| :-: | :-: | :-: | :-: | :-: |\n",
    "| 1 | 19.10.-28.10. | 02.11. | Grundlagen Python / Algorithmen      |   Michelle+Dennis     |\n",
    "| 2 | 02.11.-11.11. | 16.11. | Datenstrukturen / Sortierverfahren   |   Mohammed+Denis|\n",
    "| **3** | **16.11.-25.11.** | **30.11.** | **Rekursion**                        |   **Daniela+Erik**     |\n",
    "| 4 | 30.11.-09.12. | 14.12. | Quicksort / Hash-Tabellen  |   Levin+Emre     |\n",
    "| 5 | 14.12.-22.12. | 11.01. | Graphen / Kürzeste Wege Verfahren    |   Dmytro+Lena     |\n",
    "| 6 | 11.01.-20.01. | 25.01. | DAGs / Greedy-Algorithmen            |   Rehman+Lucas     |\n",
    "| 7 | 25.01.-31.01. | 01.02  | Dynamische Programmierung            |   Lukas+Sven+Espen     |"
   ]
  },
  {
   "cell_type": "markdown",
   "metadata": {
    "slideshow": {
     "slide_type": "slide"
    }
   },
   "source": [
    "# Übungszettel - Präsentation\n"
   ]
  },
  {
   "cell_type": "markdown",
   "metadata": {
    "slideshow": {
     "slide_type": "slide"
    }
   },
   "source": [
    "# 1. Wiederholung Vorlesung"
   ]
  },
  {
   "cell_type": "markdown",
   "metadata": {
    "slideshow": {
     "slide_type": "slide"
    }
   },
   "source": [
    "# Wiederholung Vorlesung\n",
    "## Hash-Tabellen\n",
    "\n",
    "### Allgemein\n",
    "\n",
    "- Datenstruktur, die Vorteile von Arrays und Linked Lists vereint\n",
    "- Idee: Array wird erstellt und \"clever gefüllt\"\n",
    "- Hashfunktion genutzt, um Speicherort im Array zu bestimmen\n",
    "\n",
    "\n",
    "<img src=\"./img/hash_bsp.jpg\" width=\"25%\" align=\"left\">"
   ]
  },
  {
   "cell_type": "markdown",
   "metadata": {
    "slideshow": {
     "slide_type": "slide"
    }
   },
   "source": [
    "# Wiederholung Vorlesung\n",
    "## Hash-Tabellen\n",
    "\n",
    "### Kollision\n",
    "\n",
    "- Manchmal Speicherort für neues Element schon belegt $\\rightarrow$ Kollision\n",
    "- Behebung durch Mehrfachspeicherung in zugehöriger Stelle im Array \n",
    "    - Mit Linked List\n",
    "    - Macht Hash-Tabelle langsamer\n",
    "    - Dadurch schlechte worst-case Laufzeiten\n",
    "    \n",
    "    \n",
    "<img src=\"./img/kollision_bsp.jpg\" width=\"65%\" align=\"left\">"
   ]
  },
  {
   "cell_type": "markdown",
   "metadata": {
    "slideshow": {
     "slide_type": "slide"
    }
   },
   "source": [
    "# 2. Funktionsweise\n",
    "\n",
    "- Grundlagen\n",
    "- Speicherung\n",
    "- Hash-Funktionen\n",
    "- Kollision\n"
   ]
  },
  {
   "cell_type": "markdown",
   "metadata": {
    "slideshow": {
     "slide_type": "slide"
    }
   },
   "source": [
    "# Funktionsweise\n",
    "\n",
    "## Grundlagen\n",
    "\n",
    "- Komplexere Datenstruktur\n",
    "- speichert Schlüssel-Wert-Paare\n",
    "    - Schlüssel: \"Name\" des Objekts, zu dem ein Wert hinterlegt ist. (z.B. Personal-Nr.)\n",
    "    - Wert: \"Das, was man abspeichern will\", zugehöriger Inhalt (z.B. Gehalt)\n",
    "\n",
    "- Vorteile:\n",
    "    - sehr performant\n",
    "    - finden von Wert zu gegebenem Schlüssel in O(1)\n",
    "    \n",
    "- Nachteile:\n",
    "    - keine Reihenfolge\n",
    "    - ggf Reallokationen nötig\n",
    "    - Schlechte worst case Laufzeit"
   ]
  },
  {
   "cell_type": "markdown",
   "metadata": {
    "slideshow": {
     "slide_type": "slide"
    }
   },
   "source": [
    "# Funktionsweise\n",
    "## Grundlagen \n",
    "\n",
    "> <div class=\"alert alert-block alert-info\">\n",
    "<b>Was sind in den Beispielen die Schlüssel und was die Werte?</b>\n",
    "</div>\n",
    "\n",
    "| Beispiel | Schlüssel | Wert|\n",
    "|:----:|:----:|:----:|\n",
    "|  Telefonbuch  |  ---   |  ---   |\n",
    "|  Bankkonto  |  ---   |  ---   |\n",
    "|  Wählerverzeichnis  |  ---   |  ---  |\n",
    "|  Studierenden-Verzeichnis Uni Bielefeld  |  ---  |  ---   |"
   ]
  },
  {
   "cell_type": "markdown",
   "metadata": {
    "slideshow": {
     "slide_type": "slide"
    }
   },
   "source": [
    "# Funktionsweise\n",
    "## Speicherung \n",
    "\n",
    "- Aufbauend auf der Datenstruktur Array\n",
    "    - Wert: wird im Array gespeichert\n",
    "    - Schlüssel: legt Position fest, an der im Array gespeichert wird\n",
    "- Aus Schlüssel wird mit Hashfunktion Zahlenwert *x* ermittelt\n",
    "- Wert wird im Array an Index *x* gespeichert\n",
    "\n",
    "\n",
    "- Wenn Wert wieder abgerufen werden soll: ```Hashfunktion(Schlüssel)``` berechnen und an entsprechender Stelle im Array Wert nachgucken"
   ]
  },
  {
   "cell_type": "markdown",
   "metadata": {
    "slideshow": {
     "slide_type": "slide"
    }
   },
   "source": [
    "# Funktionsweise\n",
    "## Hash-Funktionen \n",
    "\n",
    "- Ziel der Hashfunktion: Möglichst eindeutig zuordnen können\n",
    "- **Hashfunktion gibt einen Zahlenwert für eine beliebige* Eingabe zurück**\n",
    "- Dieser Zahlenwert wird für Position innerhalb eines Arrays genutzt\n",
    "\n",
    "<br>\n",
    "\n",
    "- Muss konsistent sein $\\rightarrow$ gleicher Input muss zu gleichem Output führen\n",
    "- Sollte möglichst eindeutig sein $\\rightarrow$ ungleicher Input führt (meist) zu ungleichem Output\n",
    "- Zum \"mappen\" von Schlüsseln auf Speicherorte\n",
    "- Auch andere Anwendungsbereiche (für uns aber nicht relevant)"
   ]
  },
  {
   "cell_type": "markdown",
   "metadata": {
    "slideshow": {
     "slide_type": "slide"
    }
   },
   "source": [
    "# Funktionsweise\n",
    "## Hash-Funktionen \n",
    "\n",
    "><div class=\"alert alert-block alert-info\">\n",
    "<b>Wie könnte eine Hashfunktion für Spielkarten aussehen?</b></div>"
   ]
  },
  {
   "cell_type": "code",
   "execution_count": 12,
   "metadata": {},
   "outputs": [],
   "source": [
    "#PSEUDOCODE\n",
    "def hash_fkt(karte):\n",
    "    \n",
    "    return "
   ]
  },
  {
   "cell_type": "markdown",
   "metadata": {
    "slideshow": {
     "slide_type": "slide"
    }
   },
   "source": [
    "# Funktionsweise\n",
    "## Kollisionen\n",
    "\n",
    "- Hash-Funktion nicht immer eindeutig\n",
    "- Wenn mehrere Schlüssel auf gleiche Stelle zeigen ist unklar, zu welchem Schlüssel der Wert gehören soll\n",
    "\n",
    "\n",
    "- Problem kann **behoben** werden: mehrere Werte in einer Stelle des Arrays\n",
    "    - Umgesetzt mit LinkedList an der Stelle des Arrays\n",
    "    - \"Kostet\" viel: Performance der Hash-Tabelle dadurch schlechter\n",
    "    \n",
    "- Problem kann **vermieden** werden: gute Voraussetzungen schaffen\n",
    "    - Gute Hash-Funktion wählen\n",
    "    - Aufpassen, dass Auslastung nicht zu hoch ist"
   ]
  },
  {
   "cell_type": "markdown",
   "metadata": {
    "slideshow": {
     "slide_type": "slide"
    }
   },
   "source": [
    "# Funktionsweise\n",
    "## Anwendung\n",
    "\n",
    "- Erstellt eine Hash-Tabelle, die ein Array der Größe 8 benutzt\n",
    "- (Schreibt auf, an welcher Stelle das Array beginnt und wie lang es ist)\n",
    "\n",
    "><div class=\"alert alert-block alert-info\">\n",
    "<b>Nutzt die entwickelte Hashfunktion, um 5 zufällige Karten darin zu speichern!</b></div>"
   ]
  },
  {
   "cell_type": "markdown",
   "metadata": {
    "slideshow": {
     "slide_type": "fragment"
    }
   },
   "source": [
    "><div class=\"alert alert-block alert-info\">\n",
    "<b>Finde die Position von Karte X heraus!</b></div>"
   ]
  },
  {
   "cell_type": "markdown",
   "metadata": {
    "slideshow": {
     "slide_type": "fragment"
    }
   },
   "source": [
    "><div class=\"alert alert-block alert-info\">\n",
    "<b>Entfernt die Karte Y!</b></div>"
   ]
  },
  {
   "cell_type": "markdown",
   "metadata": {
    "slideshow": {
     "slide_type": "slide"
    }
   },
   "source": [
    "# Funktionsweise\n",
    "## Kollisionen - Auslastung\n",
    "\n",
    "- Bei hoher Auslastung der Hash-Tabelle sollte *Größenanpassung* vorgenommen werden\n",
    "- Faustregeln für Größenanpassung:\n",
    "    - Bei über 70% Auslastung\n",
    "    - Verdoppelung der Größe\n",
    "    \n",
    "> <div class=\"alert alert-block alert-info\">\n",
    "<b>Warum wird das Array nicht von Anfang an sehr groß gewählt?</b>\n",
    "</div>"
   ]
  },
  {
   "cell_type": "markdown",
   "metadata": {
    "slideshow": {
     "slide_type": "slide"
    }
   },
   "source": [
    "# 3. Implementierung\n"
   ]
  },
  {
   "cell_type": "markdown",
   "metadata": {
    "slideshow": {
     "slide_type": "slide"
    }
   },
   "source": [
    "# Implementierung\n",
    "## ```dict```\n",
    "\n",
    "- In Python werden Hash-Tabellen mit ```dict``` implementiert\n",
    "- Erstellen mit ```dict()``` oder ```{}```\n",
    "- Bei Erstellung können auch Daten hinzugefügt werden: ```{schlüssel:wert}```"
   ]
  },
  {
   "cell_type": "code",
   "execution_count": 1,
   "metadata": {},
   "outputs": [],
   "source": [
    "hash_table1 = dict()\n",
    "hash_table2 = {}\n",
    "hash_table3 = {'Apfel':0.49, 'Schoki':1.39}"
   ]
  },
  {
   "cell_type": "markdown",
   "metadata": {
    "slideshow": {
     "slide_type": "slide"
    }
   },
   "source": [
    "# Implementierung\n",
    "## ```dict```\n",
    "\n",
    "- Hinzufügen und Abrufen ähnliche Syntax wie Arrays\n",
    "    - Statt Zahlen-Index wird nun Schlüssel in ```[]``` geschrieben\n",
    "- Python speichert zusätzlich alle Schlüssel von dicts, dadurch ausgeben des gesamten dicts möglich"
   ]
  },
  {
   "cell_type": "code",
   "execution_count": 2,
   "metadata": {},
   "outputs": [
    {
     "name": "stdout",
     "output_type": "stream",
     "text": [
      "Preis von Apfel: 0.49\n",
      "Gesamtes dict: {'Apfel': 0.49, 'Schoki': 1.59, 'Brot': 1.49}\n"
     ]
    }
   ],
   "source": [
    "hash_table3['Brot'] = 1.49\n",
    "hash_table3['Schoki'] = 1.69\n",
    "\n",
    "print('Preis von Apfel:', hash_table3['Apfel'] )\n",
    "\n",
    "print('Gesamtes dict:', hash_table3 )"
   ]
  },
  {
   "cell_type": "markdown",
   "metadata": {
    "slideshow": {
     "slide_type": "slide"
    }
   },
   "source": [
    "# Recap\n",
    "\n",
    "> <div class=\"alert alert-block alert-info\">\n",
    "<b>Was sind Hash-Tabellen und warum werden sie oft genutzt?</b>\n",
    "</div>\n",
    "\n",
    "> <div class=\"alert alert-block alert-info\">\n",
    "<b>Welche Probleme können bei Hash-Tabellen auftreten?</b>\n",
    "</div>\n",
    "\n",
    "> <div class=\"alert alert-block alert-info\">\n",
    "<b>Wie können diese Probleme vermieden und behoben werden?</b>\n",
    "</div>"
   ]
  },
  {
   "cell_type": "markdown",
   "metadata": {
    "slideshow": {
     "slide_type": "slide"
    }
   },
   "source": [
    "# Vielen Dank für Eure Aufmerksamkeit"
   ]
  }
 ],
 "metadata": {
  "celltoolbar": "Slideshow",
  "kernelspec": {
   "display_name": "Python 3",
   "language": "python",
   "name": "python3"
  },
  "language_info": {
   "codemirror_mode": {
    "name": "ipython",
    "version": 3
   },
   "file_extension": ".py",
   "mimetype": "text/x-python",
   "name": "python",
   "nbconvert_exporter": "python",
   "pygments_lexer": "ipython3",
   "version": "3.7.4"
  },
  "toc": {
   "base_numbering": 1,
   "nav_menu": {},
   "number_sections": false,
   "sideBar": true,
   "skip_h1_title": false,
   "title_cell": "Table of Contents",
   "title_sidebar": "Contents",
   "toc_cell": false,
   "toc_position": {},
   "toc_section_display": true,
   "toc_window_display": false
  },
  "varInspector": {
   "cols": {
    "lenName": 16,
    "lenType": 16,
    "lenVar": 40
   },
   "kernels_config": {
    "python": {
     "delete_cmd_postfix": "",
     "delete_cmd_prefix": "del ",
     "library": "var_list.py",
     "varRefreshCmd": "print(var_dic_list())"
    },
    "r": {
     "delete_cmd_postfix": ") ",
     "delete_cmd_prefix": "rm(",
     "library": "var_list.r",
     "varRefreshCmd": "cat(var_dic_list()) "
    }
   },
   "types_to_exclude": [
    "module",
    "function",
    "builtin_function_or_method",
    "instance",
    "_Feature"
   ],
   "window_display": false
  }
 },
 "nbformat": 4,
 "nbformat_minor": 2
}
