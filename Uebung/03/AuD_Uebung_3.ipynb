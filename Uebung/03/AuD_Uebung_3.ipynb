{
 "cells": [
  {
   "cell_type": "markdown",
   "metadata": {
    "slideshow": {
     "slide_type": "slide"
    }
   },
   "source": [
    "<img src=\"./img/logo_wiwi.png\" width=\"23%\" align=\"left\">\n",
    "<img src=\"./img/decision_analytics_logo.png\" width=\"17%\" align=\"right\">\n",
    "\n",
    "<br><br><br><br><br><br><br><br><br><br>\n",
    "\n",
    "\n",
    "## Algorithmen und Datenstrukturen\n",
    "Wintersemester 2023/24\n",
    "\n",
    "\n",
    "# Übung 3: Laufzeiten und grundlegende Datenstrukturen\n",
    "\n",
    "\n",
    "<br><br><br>\n",
    "J-Prof. Dr. Michael Römer, Till Porrmann "
   ]
  },
  {
   "cell_type": "markdown",
   "metadata": {
    "slideshow": {
     "slide_type": "slide"
    }
   },
   "source": [
    "# Überblick\n",
    "\n",
    "0. Vorstellung Übungszettel\n",
    "1. Wiederholung Vorlesung\n",
    "2. BigO-Laufzeiten\n",
    "3. (Arrays und LinkedLists)"
   ]
  },
  {
   "cell_type": "markdown",
   "metadata": {
    "slideshow": {
     "slide_type": "slide"
    }
   },
   "source": [
    "# 0. Übungszettel\n",
    "\n",
    "- Erster ÜZ ganz gut ausgefallen\n",
    "- Wenn ihr detailliertere Ergebnisse wissen wollt fragt mich gerne\n",
    "- Hilfreiches Feedback, gerne mehr davon\n",
    "- NLP-Models (ChatGPT)"
   ]
  },
  {
   "cell_type": "markdown",
   "metadata": {
    "slideshow": {
     "slide_type": "slide"
    }
   },
   "source": [
    "# 0. Übungszettel\n",
    "## Termine\n",
    "\n",
    "| ÜZ Nr. | Bearbeitungszeitraum | Präsentation | Thema (voraussichtlich) | Vorstellende |\n",
    "| --- | --- | --- | --- | --- |\n",
    "| 1 | 19.10.-28.10. | 02.11. | Grundlagen Python / Algorithmen      |   Michelle+Dennis     |\n",
    "| 2 | 02.11.-11.11. | 16.11. | Datenstrukturen / Sortierverfahren   |   Mohammed+Denis     |\n",
    "| 3 | 16.11.-25.11. | 30.11. | Rekursion                            |   Daniela+Erik     |\n",
    "| 4 | 30.11.-09.12. | 14.12. | Hash-Tabellen                        |   Levin+Emre     |\n",
    "| 5 | 14.12.-22.12. | 11.01. | Graphen / Kürzeste Wege Verfahren    |   Dmytro+Lena     |\n",
    "| 6 | 11.01.-20.01. | 25.01. | DAGs / Greedy-Algorithmen            |   Rehman+Lucas     |\n",
    "| 7 | 25.01.-31.01. | 01.02  | Dynamische Programmierung            |   Lukas+Sven+Espen     |"
   ]
  },
  {
   "cell_type": "markdown",
   "metadata": {
    "slideshow": {
     "slide_type": "slide"
    }
   },
   "source": [
    "# Übungszettel - Präsentation\n"
   ]
  },
  {
   "cell_type": "markdown",
   "metadata": {
    "slideshow": {
     "slide_type": "slide"
    }
   },
   "source": [
    "## Wahrheitswert Operatoren\n",
    "\n",
    "- Wahrheitswert Operatoren zum Teil nicht intuitiv\n",
    "- ```and``` und ```or``` werden \"als letztes\" ausgeführt\n",
    "- [Liste der Rangfolge von Operatoren](https://docs.python.org/3/reference/expressions.html#operator-precedence)\n",
    "- Versuchen, immer \"paarweise\" zu vergleichen und mit ```and``` und ```or``` zu verknüpfen"
   ]
  },
  {
   "cell_type": "code",
   "execution_count": 4,
   "metadata": {},
   "outputs": [
    {
     "data": {
      "text/plain": [
       "True"
      ]
     },
     "execution_count": 4,
     "metadata": {},
     "output_type": "execute_result"
    }
   ],
   "source": [
    "12 < (5 and 17)"
   ]
  },
  {
   "cell_type": "code",
   "execution_count": 5,
   "metadata": {},
   "outputs": [
    {
     "data": {
      "text/plain": [
       "False"
      ]
     },
     "execution_count": 5,
     "metadata": {},
     "output_type": "execute_result"
    }
   ],
   "source": [
    "12 < (5 or 17)"
   ]
  },
  {
   "cell_type": "code",
   "execution_count": 6,
   "metadata": {},
   "outputs": [
    {
     "data": {
      "text/plain": [
       "17"
      ]
     },
     "execution_count": 6,
     "metadata": {},
     "output_type": "execute_result"
    }
   ],
   "source": [
    "12 < 5 or 17"
   ]
  },
  {
   "cell_type": "markdown",
   "metadata": {
    "slideshow": {
     "slide_type": "slide"
    }
   },
   "source": [
    "# 1. Wiederholung Vorlesung"
   ]
  },
  {
   "cell_type": "markdown",
   "metadata": {
    "slideshow": {
     "slide_type": "slide"
    }
   },
   "source": [
    "# Wiederholung Vorlesung\n",
    "\n",
    "## Big O Notation\n",
    "- Methode um Dauer von Algorithmen zu beschreiben\n",
    "- Erfassung des Laufzeit**verhaltens**\n",
    "- Keine Zeitangabe!\n",
    "- Beschreibung des Wachstums bei zunehmender Problemgröße"
   ]
  },
  {
   "cell_type": "markdown",
   "metadata": {
    "slideshow": {
     "slide_type": "-"
    }
   },
   "source": [
    "![Bild_Laufzeiten](https://github.com/decision-analytics/AuD2023/blob/main/Vorlesung/01/img/17_%C3%9Cberblick_Laufzeiten.png?raw=true)"
   ]
  },
  {
   "cell_type": "markdown",
   "metadata": {
    "slideshow": {
     "slide_type": "slide"
    }
   },
   "source": [
    "# Wiederholung Vorlesung\n",
    "## Arbeitsspeicher\n",
    "\n",
    "- Aufgebaut wie Schubladen\n",
    "- In einzelne \"Fächer\" können Daten gelegt werden\n",
    "- Jedes Speicherelement hat eine eindeutige Adresse\n",
    "- Für uns entscheidend: Wie speichern wir zusammengehörige Daten (Auflistungen)?\n",
    "\n",
    "![Bild_Arbeitsspeicher](https://github.com/decision-analytics/AuD2023/blob/main/Vorlesung/02/img/04_Arbeitsspeicher.png?raw=true)"
   ]
  },
  {
   "cell_type": "markdown",
   "metadata": {
    "slideshow": {
     "slide_type": "slide"
    }
   },
   "source": [
    "# Wiederholung Vorlesung\n",
    "## Arrays & Linked Lists\n",
    "\n",
    "><div class=\"alert alert-block alert-info\">\n",
    "<b>Welche Eigenschaften/ Vor- und Nachteile haben die beiden Datenstrukturen?</b></div>"
   ]
  },
  {
   "cell_type": "markdown",
   "metadata": {
    "slideshow": {
     "slide_type": "-"
    }
   },
   "source": [
    "||Array|Linked List|\n",
    "|:----:|:----:|:----:|\n",
    "|  Anordnung (Arbeitsspeicher)  |  Nebeneinander   |  Verteilt   |\n",
    "|  Laufzeit (Lesen)  |  O(1)   |  O(n)   |\n",
    "|  Laufzeit (Einfügen)  |  O(n)   |  O(1)   |\n",
    "|  Laufzeit (Löschen)  |  O(n)   |  O(1)   |\n",
    "|  Typ in Python  |  ```list```   |   ```deque```  |"
   ]
  },
  {
   "cell_type": "markdown",
   "metadata": {
    "slideshow": {
     "slide_type": "slide"
    }
   },
   "source": [
    "# 2. BigO-Laufzeiten\n",
    "\n",
    "- Konzept\n",
    "- Typische Laufzeiten\n",
    "- Übungsaufgaben"
   ]
  },
  {
   "cell_type": "markdown",
   "metadata": {
    "slideshow": {
     "slide_type": "slide"
    }
   },
   "source": [
    "# BigO-Laufzeiten\n",
    "\n",
    "## Konzept\n",
    "\n",
    "- eine Funktion O(...)\n",
    "- in Abhängigkeit von der relevanten Problemgröße n\n",
    "- zum Angeben der Dauer von Operationen/Algorithmen (\"Zeitkomplexität\")"
   ]
  },
  {
   "cell_type": "markdown",
   "metadata": {
    "slideshow": {
     "slide_type": "fragment"
    }
   },
   "source": [
    "- gibt das Verhalten (\"Größenordnung\") der Laufzeit an --> NICHT die Laufzeit in Sekunden oder Minuten\n",
    "- primär wichtig für extreme Betrachtungen (n--> sehr groß)\n",
    "- Alle Konstanten werden vernachlässigt\n",
    "- Vorerst nur Betrachtung des worst-case"
   ]
  },
  {
   "cell_type": "markdown",
   "metadata": {
    "slideshow": {
     "slide_type": "slide"
    }
   },
   "source": [
    "# BigO-Laufzeiten\n",
    "\n",
    "## Konzept\n",
    "\n",
    "- Vorgehen zum Bestimmen einer BigO-Laufzeit:\n",
    "    - relevante Eingabegröße n herausfinden\n",
    "    - schauen, wie die Laufzeit wächst wenn n größer wird\n",
    "    \n",
    "><div class=\"alert alert-block alert-info\">\n",
    "<b>Bestimme für die folgenden Beispiele, welches die relevante Eingebegröße ist.</b></div>\n",
    "\n",
    "- Dauer einer Autofahrt\n",
    "- Sortieren einer Liste\n",
    "- Finden der kürzesten Rundreise (TSP)"
   ]
  },
  {
   "cell_type": "markdown",
   "metadata": {
    "cell_style": "center",
    "slideshow": {
     "slide_type": "slide"
    }
   },
   "source": [
    "# BigO-Laufzeiten\n",
    "\n",
    "## Typische Laufzeiten\n",
    "\n",
    "Polynomielle Laufzeiten:\n",
    "- Konstante Laufzeit (```O(1)```) \n",
    "- Logarithmische Laufzeit (```O(log(n))```)\n",
    "- Lineare Laufzeit (```O(n)```)\n",
    "- Quasi-lineare Laufzeit (```O(log(n)*n)```)\n",
    "- Quadratische Laufzeit (```O(n²)```)  \n",
    "\n",
    "Nicht-Polynomielle Laufzeiten:\n",
    "- Exponentielle Laufzeit (```O(2^n)```)\n",
    "- Fakultative Laufzeit (```O(n!)```)"
   ]
  },
  {
   "cell_type": "markdown",
   "metadata": {
    "slideshow": {
     "slide_type": "slide"
    }
   },
   "source": [
    "# BigO-Laufzeiten\n",
    "\n",
    "## Typische Laufzeiten\n",
    "\n",
    "\n",
    "#### Konstante Laufzeit ($O(1)$)\n",
    "- Laufzeit ist unabhängig von Problemgröße\n",
    "- Kleinste mögliche Laufzeitkomplexität, da wir Konstanten vernachlässigen\n",
    "- Erkennungsmerkmal: Laufzeit für verschieden große Instanzen immer gleich\n",
    "- Beispiel: Lesen von Element in einem Array\n",
    "\n",
    "#### Logarithmische Laufzeit ($O(log(n))$)\n",
    "- Laufzeit wächst langsam mit Problemgröße\n",
    "- Gutes Laufzeitverhalten, da für große Instanzen wenig problematisch\n",
    "- Erkennungsmerkmal: Laufzeit wächst bei kleineren Instanzen (relativ) schnell, bei großen Instanzen nur noch langsam\n",
    "- Beispiel: Binary Search"
   ]
  },
  {
   "cell_type": "markdown",
   "metadata": {
    "slideshow": {
     "slide_type": "slide"
    }
   },
   "source": [
    "# BigO-Laufzeiten\n",
    "\n",
    "## Typische Laufzeiten\n",
    "\n",
    "#### Lineare Laufzeit ($O(n)$)\n",
    "- Laufzeit hängt linear mit Problemgröße zusammen\n",
    "- Überschaubarer Aufwand; Wenn Instanzen sehr groß werden aber möglicherweise unangenehm\n",
    "- Erkennungsmerkmal: Laufzeit wächst gleichmäßig mit Problemgröße an / \"für jedes Element mache x-Mal\" / Einfache Schleifen\n",
    "- Beispiel: Linear Search\n",
    "\n",
    "#### Quadratische Laufzeit ($O(n²)$)\n",
    "- Laufzeit wächst \"schneller\" als Problemgröße\n",
    "- Für große Instanzen sehr aufwendig\n",
    "- Erkennungsmerkmal: Laufzeit wächst bei kleineren Instanzen (relativ) langsam, bei großen Instanzen schnell / Verschachtelte Schleifen\n",
    "- Beispiel: 2er Kombinationen aus Liste bilden"
   ]
  },
  {
   "cell_type": "markdown",
   "metadata": {
    "slideshow": {
     "slide_type": "slide"
    }
   },
   "source": [
    "# BigO-Laufzeiten\n",
    "\n",
    "## Typische Laufzeiten\n",
    "\n",
    "#### Exponentielle / fakultative  Laufzeit ($O(2^n)$ / $O(n!)$)\n",
    "- Laufzeit wächst extrem schnell an\n",
    "- Wenn möglich zu vermeiden\n",
    "- Erkennungsmerkmal: Meist nur für kleine Instanzen lösbar / Bei kombinatorischen Problemen\n",
    "- Beispiel: TSP"
   ]
  },
  {
   "cell_type": "markdown",
   "metadata": {
    "slideshow": {
     "slide_type": "slide"
    }
   },
   "source": [
    "# BigO-Laufzeiten\n",
    "\n",
    "## Übungsaufgaben\n",
    "\n",
    "> <div class=\"alert alert-block alert-info\"> <b>Welche BigO-Laufzeiten haben die folgenden Algorithmen/Implementierungen?</b></div>\n",
    "\n",
    "- Lies alle Bücher in einer Bibliothek (n ist Anzahl der Bücher)\n",
    "- Überprüfe, ob es in einer Bibliothek mehr als 500 Bücher gibt (n ist Anzahl der Bücher)"
   ]
  },
  {
   "cell_type": "code",
   "execution_count": null,
   "metadata": {},
   "outputs": [],
   "source": [
    "for i in range(n):\n",
    "    for j in range(n):\n",
    "        print('AuD')"
   ]
  },
  {
   "cell_type": "code",
   "execution_count": null,
   "metadata": {},
   "outputs": [],
   "source": [
    "for i in range(n):\n",
    "    for j in range(n):\n",
    "        if i < j:\n",
    "            print('AuD')"
   ]
  },
  {
   "cell_type": "code",
   "execution_count": null,
   "metadata": {},
   "outputs": [],
   "source": [
    "for i in range(n):\n",
    "    for j in range(n):\n",
    "        if i == j:\n",
    "            print('AuD')"
   ]
  },
  {
   "cell_type": "markdown",
   "metadata": {
    "slideshow": {
     "slide_type": "slide"
    }
   },
   "source": [
    "# 3. Arrays und LinkedLists\n",
    "\n",
    "- Funktionsweise Arbeitsspeicher\n",
    "- Visualisierung\n",
    "- Laufzeiten für Operationen\n",
    "- Laufzeiten in Algorithmen"
   ]
  },
  {
   "cell_type": "markdown",
   "metadata": {
    "slideshow": {
     "slide_type": "slide"
    }
   },
   "source": [
    "# Arrays und LinkedLists\n",
    "\n",
    "## Funktionsweise Arbeitsspeicher (vereinfachtes Modell)\n",
    "\n",
    "- Zur Ablage von Daten mit denen gearbeitet wird\n",
    "- \"Schubladen-Prinzip\"\n",
    "- Daten müssen eingefügt, gelesen und gelöscht werden\n",
    "\n",
    "\n",
    "- Verschiedene Möglichkeiten, Auflistungen im Arbeitsspeicher abzulegen\n",
    "- Für uns relevant sind Laufzeiten der Operationen (Zeitkomplexität) und ggf. die Menge an belegtem Speicher (Raumkomplexität)"
   ]
  },
  {
   "cell_type": "markdown",
   "metadata": {
    "slideshow": {
     "slide_type": "slide"
    }
   },
   "source": [
    "# Arrays und LinkedLists\n",
    "\n",
    "## Funktionsweise Arbeitsspeicher (vereinfachtes Modell)\n",
    "\n",
    "### Frage: wie sollen Auflistungen im Arbeitsspeicher abgelegt werden?\n",
    "\n",
    "<br>\n",
    "\n",
    "**Arrays:**\n",
    "- Datenstruktur, bei der alle Elemente hintereinander gespeichert werden\n",
    "- Wir merken uns Position des ersten Elements und Länge des Arrays\n",
    "\n",
    "**VS**\n",
    "\n",
    "**Linked Lists:**\n",
    "- Datenstruktur, bei der alle Elemente über den Speicher verteilt sind\n",
    "- Wir merken uns Position des ersten (und letzten) Elements"
   ]
  },
  {
   "cell_type": "markdown",
   "metadata": {
    "slideshow": {
     "slide_type": "slide"
    }
   },
   "source": [
    "# Arrays und LinkedLists\n",
    "\n",
    "## Visualisierung\n",
    "\n",
    "- Ausgedruckte \"Arbeitsspeicher\"\n",
    "- Spielkarten als Elemente einer Auflistung\n",
    "- Spielkarten werden in den Speicher gelegt"
   ]
  },
  {
   "cell_type": "markdown",
   "metadata": {
    "slideshow": {
     "slide_type": "fragment"
    }
   },
   "source": [
    "- Arbeiten in Kleingruppen (2-3 Personen)\n",
    "\n",
    "> <div class=\"alert alert-block alert-info\"> <b>\"Speichert\" die Karten 2-5 als Array.</b></div>\n",
    "\n",
    "> <div class=\"alert alert-block alert-info\"> <b>\"Speichert\" die Karten 2-5 als Linked List.</b></div>"
   ]
  },
  {
   "cell_type": "markdown",
   "metadata": {
    "slideshow": {
     "slide_type": "fragment"
    }
   },
   "source": [
    "- Klebezettel für Verweise in Linked Lists"
   ]
  },
  {
   "cell_type": "markdown",
   "metadata": {
    "slideshow": {
     "slide_type": "slide"
    }
   },
   "source": [
    "# Arrays und LinkedLists\n",
    "\n",
    "## Visualisierung\n",
    "\n",
    "- Gelbe Zettel für bereits belegte Speicherbereiche\n",
    "- Bereits belegt: Speicherplätze 3, 4, 9, 16\n",
    "\n",
    "> <div class=\"alert alert-block alert-info\"> <b>\"Speichert\" die Karten 2-5 als Array.</b></div>\n",
    "\n",
    "> <div class=\"alert alert-block alert-info\"> <b>\"Speichert\" die Karten 2-5 als Linked List.</b></div>"
   ]
  },
  {
   "cell_type": "markdown",
   "metadata": {
    "slideshow": {
     "slide_type": "slide"
    }
   },
   "source": [
    "# Arrays und LinkedLists\n",
    "\n",
    "## Laufzeiten für Operationen\n",
    "\n",
    "- Laufzeiten für die drei wichtigen Operationen **Einfügen**, **Lesen** und **Löschen** entscheidend für die Wahl der Datenstruktur\n",
    "- Unterschiedlich bei Arrays und Linked Lists:\n",
    "\n",
    "||Array|Linked List|\n",
    "|:----:|:----:|:----:|\n",
    "|  Laufzeit (Lesen)  |  O(1)   |  O(n)   |\n",
    "|  Laufzeit (Einfügen)  |  O(n)   |  O(1)   |\n",
    "|  Laufzeit (Löschen)  |  O(n)   |  O(1)   |"
   ]
  },
  {
   "cell_type": "markdown",
   "metadata": {
    "slideshow": {
     "slide_type": "slide"
    }
   },
   "source": [
    "# Arrays und LinkedLists\n",
    "\n",
    "## Laufzeiten für Operationen\n",
    "\n",
    "### Einfügen\n",
    "\n",
    "||Array|Linked List|\n",
    "|:----:|:----:|:----:|\n",
    "|  Laufzeit (Einfügen)  |  O(n)   |  O(1)   |\n",
    "\n",
    "**Array:**\n",
    "- Elemente müssen ggf verschoben werden\n",
    "- Aufwand dafür linear abhängig von Länge der Liste (jedes Element muss verschoben werden)\n",
    "\n",
    "**Linked Lists:**\n",
    "- Neues Element irgendwo gespeichert\n",
    "- Neuer Verweis wird an letztes Element angehängt --> Eigentlich nicht abhängig von Länge der Liste"
   ]
  },
  {
   "cell_type": "markdown",
   "metadata": {
    "slideshow": {
     "slide_type": "fragment"
    }
   },
   "source": [
    "> <div class=\"alert alert-block alert-info\"> <b>\"Speichert\" die Karten 2-4 als Array. Fügt nacheinander 4 weitere Elemente hinzu</b></div>\n",
    "\n",
    "> <div class=\"alert alert-block alert-info\"> <b>\"Speichert\" die Karten 2-4 als Linked List. Fügt nacheinander 4 weitere Elemente hinzu</b></div>"
   ]
  },
  {
   "cell_type": "markdown",
   "metadata": {
    "slideshow": {
     "slide_type": "slide"
    }
   },
   "source": [
    "# Arrays und LinkedLists\n",
    "\n",
    "## Laufzeiten für Operationen\n",
    "\n",
    "### Lesen\n",
    "\n",
    "||Array|Linked List|\n",
    "|:----:|:----:|:----:|\n",
    "|  Laufzeit (Lesen)  |  O(1)   |  O(n)   |\n",
    "\n",
    "**Array:**\n",
    "- Auf jedes Element kann sofort mit Index zugegriffen werden\n",
    "- Unabhängig von Größe des Arrays\n",
    "\n",
    "**Linked Lists:**\n",
    "- Um Element zu finden, muss durch die Liste \"gelaufen\" werden\n",
    "- Aufwendig, wenn Liste sehr lang"
   ]
  },
  {
   "cell_type": "markdown",
   "metadata": {
    "slideshow": {
     "slide_type": "fragment"
    }
   },
   "source": [
    "> <div class=\"alert alert-block alert-info\"> <b>\"Speichert\" die Karten 2-8 als Array. Findet die Karte an Index 6.</b></div>\n",
    "\n",
    "> <div class=\"alert alert-block alert-info\"> <b>\"Speichert\" die Karten 2-8 als Linked List. Findet die Karte an Index 6.</b></div>"
   ]
  },
  {
   "cell_type": "markdown",
   "metadata": {
    "slideshow": {
     "slide_type": "slide"
    }
   },
   "source": [
    "# Arrays und LinkedLists\n",
    "\n",
    "## Laufzeiten für Operationen\n",
    "\n",
    "### Löschen\n",
    "\n",
    "||Array|Linked List|\n",
    "|:----:|:----:|:----:|\n",
    "|  Laufzeit (Löschen)  |  O(n)   |  O(1)   |\n",
    "\n",
    "**Array:**\n",
    "- Enferntes Element hinterlässt eine Lücke --> nicht zulässig in Arrays\n",
    "- Dadurch Verschieben aller anderen Elemente (linearer Aufwand)\n",
    "\n",
    "**Linked Lists:**\n",
    "- Element kann entfernt werden und Verweiß des Vorgängers wird angepasst\n",
    "- Eigentlich konstanter Aufwand, da nicht abhängig von Länge der Liste"
   ]
  },
  {
   "cell_type": "markdown",
   "metadata": {
    "slideshow": {
     "slide_type": "fragment"
    }
   },
   "source": [
    "> <div class=\"alert alert-block alert-info\"> <b>\"Speichert\" die Karten 2-7 als Array. Entfernt die Karte an Index 0.</b></div>\n",
    "\n",
    "> <div class=\"alert alert-block alert-info\"> <b>\"Speichert\" die Karten 2-7 als Linked List. Entfernt die Karte an Index 0.</b></div>"
   ]
  },
  {
   "cell_type": "markdown",
   "metadata": {
    "slideshow": {
     "slide_type": "slide"
    }
   },
   "source": [
    "# Arrays und LinkedLists\n",
    "\n",
    "## Laufzeiten für Operationen\n",
    "\n",
    "### Anmerkungen zu Linked Lists\n",
    "\n",
    "> <div class=\"alert alert-block alert-info\"> <b>\"Speichert\" die Karten 2-7 als Linked List. Entferne die Karte an Index 5.</b></div>\n",
    "\n",
    "\n",
    "- Realer Aufwand bei Linked Lists (für Einfügen und Löschen) ebenfalls linear, wenn Element vorher noch gefunden werden muss\n",
    "- Speicherplatz bei Linked Lists entwas größer, da Verweise ebenfalls gespeichert werden müssen"
   ]
  },
  {
   "cell_type": "markdown",
   "metadata": {
    "slideshow": {
     "slide_type": "slide"
    }
   },
   "source": [
    "# Arrays und LinkedLists\n",
    "\n",
    "## In Algorithmen\n",
    "\n",
    "- Für verschiedene Algorithmen eignen sich verschiedene Datenstrukturen\n",
    "- Effizienz von Algorithmus hängt auch mit gewählter Datenstruktur zusammen\n",
    "- Zur Entscheidung der Datenstruktur: welche Operationen (Einfügen, Lesen, Löschen) werden wie oft benutzt?\n",
    "\n",
    "<br> \n",
    "\n",
    "**(Wenn genug Zeit ist:)**\n",
    "\n",
    "> <div class=\"alert alert-block alert-info\"> <b>\"Speichert\" die Karten 2-9 als Array. Findet die Karte 4 mit der binären Suche.</b></div>\n",
    "\n",
    "> <div class=\"alert alert-block alert-info\"> <b>\"Speichert\" die Karten 2-9 als Linked List. Findet die Karte 4 mit der binären Suche.</b></div>"
   ]
  },
  {
   "cell_type": "markdown",
   "metadata": {
    "slideshow": {
     "slide_type": "slide"
    }
   },
   "source": [
    "# Arrays und LinkedLists\n",
    "\n",
    "## In Algorithmen\n",
    "\n",
    "> <div class=\"alert alert-block alert-info\"> <b>\"Speichert\" die Karten 2-9 als Array. Findet die Karte 4 mit der binären Suche.</b></div>\n",
    "\n",
    "> <div class=\"alert alert-block alert-info\"> <b>\"Speichert\" die Karten 2-9 als Linked List. Findet die Karte 4 mit der binären Suche.</b></div>"
   ]
  },
  {
   "cell_type": "code",
   "execution_count": null,
   "metadata": {},
   "outputs": [],
   "source": [
    "low = 0\n",
    "high = len(liste)-1\n",
    "\n",
    "while low <= high:\n",
    "    mid = (low+high) // 2 # // bedeutet, dass wir eine ganze Zahl bekommen (z.B. 2), und keine Dezimalzahl (z.B. 2.5)\n",
    "    guess = liste[mid]\n",
    "    print (\"low:\", low, \"high:\", high, \"mid:\", mid, \"guess:\", guess)\n",
    "    if guess == wert:\n",
    "        print (\"Wert\", guess, \"wurde gefunden bei Index\", mid)\n",
    "        break\n",
    "    if guess > wert:\n",
    "        high = mid - 1\n",
    "    else: \n",
    "        low = mid + 1   "
   ]
  },
  {
   "cell_type": "markdown",
   "metadata": {
    "slideshow": {
     "slide_type": "slide"
    }
   },
   "source": [
    "# Vielen Dank für Eure Aufmerksamkeit"
   ]
  }
 ],
 "metadata": {
  "celltoolbar": "Slideshow",
  "kernelspec": {
   "display_name": "Python 3",
   "language": "python",
   "name": "python3"
  },
  "language_info": {
   "codemirror_mode": {
    "name": "ipython",
    "version": 3
   },
   "file_extension": ".py",
   "mimetype": "text/x-python",
   "name": "python",
   "nbconvert_exporter": "python",
   "pygments_lexer": "ipython3",
   "version": "3.7.4"
  },
  "toc": {
   "base_numbering": 1,
   "nav_menu": {},
   "number_sections": false,
   "sideBar": true,
   "skip_h1_title": false,
   "title_cell": "Table of Contents",
   "title_sidebar": "Contents",
   "toc_cell": false,
   "toc_position": {},
   "toc_section_display": true,
   "toc_window_display": false
  },
  "varInspector": {
   "cols": {
    "lenName": 16,
    "lenType": 16,
    "lenVar": 40
   },
   "kernels_config": {
    "python": {
     "delete_cmd_postfix": "",
     "delete_cmd_prefix": "del ",
     "library": "var_list.py",
     "varRefreshCmd": "print(var_dic_list())"
    },
    "r": {
     "delete_cmd_postfix": ") ",
     "delete_cmd_prefix": "rm(",
     "library": "var_list.r",
     "varRefreshCmd": "cat(var_dic_list()) "
    }
   },
   "types_to_exclude": [
    "module",
    "function",
    "builtin_function_or_method",
    "instance",
    "_Feature"
   ],
   "window_display": false
  }
 },
 "nbformat": 4,
 "nbformat_minor": 2
}
