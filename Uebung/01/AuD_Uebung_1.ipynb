{
 "cells": [
  {
   "cell_type": "markdown",
   "metadata": {
    "slideshow": {
     "slide_type": "slide"
    }
   },
   "source": [
    "<img src=\"./img/logo_wiwi.png\" width=\"23%\" align=\"left\">\n",
    "<img src=\"./img/decision_analytics_logo.png\" width=\"17%\" align=\"right\">\n",
    "\n",
    "<br><br><br><br><br><br><br><br><br><br>\n",
    "\n",
    "\n",
    "## Algorithmen und Datenstrukturen\n",
    "Wintersemester 2023/24\n",
    "\n",
    "\n",
    "# Übung 1: Einführung in Python\n",
    "\n",
    "\n",
    "<br><br><br>\n",
    "J-Prof. Dr. Michael Römer, Till Porrmann "
   ]
  },
  {
   "cell_type": "markdown",
   "metadata": {
    "slideshow": {
     "slide_type": "slide"
    }
   },
   "source": [
    "# Überblick\n",
    "\n",
    "1. Organisatorisches\n",
    "2. Einrichten von Google Colab\n",
    "3. Start in Python Programmierung\n",
    "4. Ausblick"
   ]
  },
  {
   "cell_type": "markdown",
   "metadata": {
    "slideshow": {
     "slide_type": "slide"
    }
   },
   "source": [
    "# 1. Organisatorisches\n",
    "\n",
    "- Über mich\n",
    "- Stil der Übung\n",
    "- Inhalte der Übungen"
   ]
  },
  {
   "cell_type": "markdown",
   "metadata": {
    "slideshow": {
     "slide_type": "slide"
    }
   },
   "source": [
    "# Organisatorisches\n",
    "\n",
    "## Über mich:\n",
    "\n",
    "- <u>Till</u> Porrmann\n",
    "- Übung, bei Bedarf auch Sprechstunde\n",
    "- Fokus auf Lehre\n",
    "- Drittes Mal Kurs zu AuD\n",
    "- till.porrmann@uni-bielefeld.de\n",
    "\n",
    "Grundsätzlich gilt: \n",
    "- Fragt nach, unterbrecht mich (vor allem heute), korrigiert mich\n",
    "- Schreibt mir, wenn ihr Fragen habt"
   ]
  },
  {
   "cell_type": "markdown",
   "metadata": {
    "slideshow": {
     "slide_type": "slide"
    }
   },
   "source": [
    "## Stil der Übungen\n",
    "\n",
    "- Ziel ist, Hilfe zu den Inhalten der Vorlesung zu bieten\n",
    "- Teilnahme freiwillig\n",
    "- Eher unformal und interaktiv\n",
    "- Versuch von Struktur und Flexibilität\n",
    "- Alle Notebooks/Slides werden hochgeladen, wenn ich was vergesse sagt Bescheid\n",
    "- Fragen die ich stelle sind immer optional zu beantworten, ich nehme niemanden dran"
   ]
  },
  {
   "cell_type": "markdown",
   "metadata": {
    "slideshow": {
     "slide_type": "slide"
    }
   },
   "source": [
    "## Stil der Übungen\n",
    "\n",
    "- Bei der Hälfte kurze Pause\n",
    "- Folien eher schlicht\n",
    "- Zwischendurch Quizzes\n",
    "- Fragen an euch sind (auch in der Vorlesung) so markiert:\n",
    "\n",
    "><div class=\"alert alert-block alert-info\">\n",
    "<b>Habt ihr bis hierhin Fragen?</b></div>"
   ]
  },
  {
   "cell_type": "markdown",
   "metadata": {
    "slideshow": {
     "slide_type": "slide"
    }
   },
   "source": [
    "## Inhalte der Übungen\n",
    "\n",
    "Die Übung besteht aus 3 Elementen:\n",
    "\n",
    "- Wiederholen und Vertiefen der Vorlesungsinhalte\n",
    "- Ergänzende Inhalte und Beispiele\n",
    "- Fragen und Hilfe zu den Übungszetteln"
   ]
  },
  {
   "cell_type": "markdown",
   "metadata": {
    "slideshow": {
     "slide_type": "slide"
    }
   },
   "source": [
    "## Übungszettel\n",
    "\n",
    "- Studienleistung für dieses Modul (2 LP)\n",
    "- Abgabe über moodle\n",
    "\n",
    "- Alle 2 Wochen neuer Übungszettel, erster ab heute\n",
    "- Bearbeitungszeit 9 Tage: Donnerstag bis Freitag (Alt.: Samstag) der Folgewoche\n",
    "- Programmieraufgaben und Textaufgaben\n",
    "- Fragen zu den ÜZ gerne (am besten frühzeitig) an mich\n",
    "- Bearbeitung alleine oder in 2er Gruppen\n",
    "\n",
    "><div class=\"alert alert-block alert-info\">\n",
    "<b>Wollt ihr Feedback zu den Abgaben bekommen?</b></div>"
   ]
  },
  {
   "cell_type": "markdown",
   "metadata": {
    "slideshow": {
     "slide_type": "slide"
    }
   },
   "source": [
    "## Vorstellen der Übungszettel:\n",
    "\n",
    "- Jede Person muss ein Mal im Semester Lösungen in der Veranstaltung vorstellen\n",
    "- Vorstellen in Gruppen von ca. 2 Personen\n",
    "- Dauer der Präsentation sollte ca. 20 Minuten sein\n",
    "- Es müssen nicht alle Aufgaben vollständig gelöst werden (mindestens aber durchdachte Ansätze/ Überlegungen)\n",
    "- Termine werden auf Wunsch vergeben, hier in der Veranstaltung oder per [Mail](mailto:till.porrmann@uni-bielefeld.de) \n",
    "- Wer bis zum 02.11. keinen Wunsch äußert bekommt einen Termin zugeteilt\n",
    "\n",
    "| ÜZ Nr. | Bearbeitungszeitraum | Thema (voraussichtlich) | Vorstellende |\n",
    "| --- | --- | --- | --- |\n",
    "| 1 | 19.10.-27.10. | Grundlagen Python / Algorithmen |  |\n",
    "| 2 | 02.11.-10.11. | Datenstrukturen / Sortierverfahren |  |\n",
    "| 3 | 16.11.-24.11. | Rekursion |  |\n",
    "| 4 | 30.11.-08.12. | Hash-Tabellen |  |\n",
    "| 5 | 14.12.-22.12. | Graphen / Kürzeste Wege Verfahren |  |\n",
    "| 6 | 11.01.-19.01. | DAGs / Greedy-Algorithmen |  |\n",
    "| (7) | (25.01.-31.01.) | (Dynamische Programmierung) |  |"
   ]
  },
  {
   "cell_type": "markdown",
   "metadata": {
    "slideshow": {
     "slide_type": "slide"
    }
   },
   "source": [
    "# 2. Einrichten von Google Colab\n",
    "\n",
    "- Was ist Colab/Jupyter Notebooks?\n",
    "- Anmeldung\n",
    "- Benutzeroberfläche/ Zellen"
   ]
  },
  {
   "cell_type": "markdown",
   "metadata": {
    "slideshow": {
     "slide_type": "slide"
    }
   },
   "source": [
    "## Was ist Colab?\n",
    "\n",
    "- Service von Google zur Programmierung in Python\n",
    "- Google-Konto vorausgesetzt (kann ggf. schnell erstellt werden), keine weitere Einrichtung nötig\n",
    "- Auf Basis von Jupyter Notebooks\n",
    "- Kombination von Code und Markdown\n",
    "- Zellenbasiert\n",
    "- Relativ einfach zu nutzen, schnell Ergebnisse sichtbar\n",
    "<br>\n",
    "- (Alternativ: Anaconda installieren, lokal Jupyter nutzen)"
   ]
  },
  {
   "cell_type": "markdown",
   "metadata": {
    "slideshow": {
     "slide_type": "slide"
    }
   },
   "source": [
    "## Anmeldung\n",
    "\n",
    "- (Google Account erstellen)\n",
    "- In \"meine Ablage\" bei drive gehen\n",
    "- Auf \"Neu\" - \"Mehr\" - \"Google Colaboratory\" klicken\n",
    "- (Gut) benennen!"
   ]
  },
  {
   "cell_type": "markdown",
   "metadata": {
    "slideshow": {
     "slide_type": "slide"
    }
   },
   "source": [
    "## Benutzeroberfläche \n",
    "\n",
    "\n",
    "### Übersicht\n",
    "\n",
    "\n",
    "\n",
    "><div class=\"alert alert-block alert-warning\">\n",
    "Erklärung in Colab \n",
    "</div>"
   ]
  },
  {
   "cell_type": "markdown",
   "metadata": {
    "slideshow": {
     "slide_type": "slide"
    }
   },
   "source": [
    "### Zellen\n",
    "\n",
    "- Wir arbeiten mit Zellen\n",
    "- Nach Belieben hinzufügen und entfernen\n",
    "    - HOTKEY: Hinzfügen von Zellen mit Strg+M+B oder Strg+M+A\n",
    "- Zellen können einzeln ausgeführt werden\n",
    "- 2 Typen von Zellen:\n",
    "    - Markdown $\\rightarrow$ natürliche Sprache\n",
    "    - Code $\\rightarrow$ Programmierung\n",
    "    - HOTKEY: Umwandeln von Zellen in Markdown mit Strg+M+M, in Code mit Strg+M+Y\n",
    "    \n",
    "><div class=\"alert alert-block alert-warning\">\n",
    "Ausprobieren in Colab \n",
    "</div>"
   ]
  },
  {
   "cell_type": "markdown",
   "metadata": {
    "slideshow": {
     "slide_type": "slide"
    }
   },
   "source": [
    "### Markdown Zellen\n",
    "\n",
    "- Für natürliche Sprache\n",
    "- Überschriften mit #, Listen mit -, Nummerierungen mit 1., 2.,...\n",
    "- Formatierung mit HTML, LaTeX und mehr möglich\n",
    "- Um Überblick zu gewährleisten\n",
    "\n",
    "- Guides:\n",
    "    - [Einfacher Markdown Guide](https://ingeh.medium.com/markdown-for-jupyter-notebooks-cheatsheet-386c05aeebed)\n",
    "    - [Etwas ausführlicherer Markdown Guide](https://medium.com/analytics-vidhya/the-ultimate-markdown-guide-for-jupyter-notebook-d5e5abf728fd)\n",
    "\n",
    "><div class=\"alert alert-block alert-warning\">\n",
    "Ausprobieren in Colab \n",
    "</div>"
   ]
  },
  {
   "cell_type": "markdown",
   "metadata": {
    "slideshow": {
     "slide_type": "slide"
    }
   },
   "source": [
    "### Code Zellen\n",
    "\n",
    "- Code schreiben und ausprobieren\n",
    "- Input und Output \n",
    "- \\# zum zeilenweise kommentieren \n",
    "- Zellen können ausgeführt werden mit Strg + Enter\n",
    "\n",
    "><div class=\"alert alert-block alert-warning\">\n",
    "Ausprobieren in Colab \n",
    "</div>\n",
    "\n",
    "- Zustand des Notebooks bleibt nach Ausführung erhalten "
   ]
  },
  {
   "cell_type": "markdown",
   "metadata": {
    "slideshow": {
     "slide_type": "slide"
    }
   },
   "source": [
    "#### Übungsaufgabe\n",
    "\n",
    "><div class=\"alert alert-block alert-info\">\n",
    "<b>Erstelle ein Notebook, das je 2 Code- und Markdown-Zellen hat. In den Markdown-Zellen sollten Überschriften, Listen und normaler Text vorkommen. In den Code-Zellen kann der print(  )-Befehl genutzt werden.</b></div>"
   ]
  },
  {
   "cell_type": "markdown",
   "metadata": {
    "slideshow": {
     "slide_type": "slide"
    }
   },
   "source": [
    "# 3. Start in Python Programmierung\n",
    "\n",
    "- Befehle\n",
    "- Variablen und Operatoren\n",
    "- Python Listen\n",
    "- Steuerelemente\n",
    "- (Funktionen)\n",
    "- (Pakete importieren)"
   ]
  },
  {
   "cell_type": "markdown",
   "metadata": {
    "slideshow": {
     "slide_type": "slide"
    }
   },
   "source": [
    "## Start in Python Programmierung\n",
    "\n",
    "Zwei gute Links:\n",
    "\n",
    "- Übersichtliches schriftliches Tutorial zum Nachschlagen:\n",
    "https://www.learnpython.org/\n",
    "\n",
    "- Videotutorials, zum Beispiel:\n",
    "https://www.youtube.com/watch?v=_uQrJ0TkZlc\n",
    "\n",
    "<br>\n",
    "<br>\n",
    "\n",
    "**Grundsätzlich: Google hilft**"
   ]
  },
  {
   "cell_type": "markdown",
   "metadata": {
    "slideshow": {
     "slide_type": "slide"
    }
   },
   "source": [
    "### Befehle\n",
    "\n",
    "- Befehle sind Teile eines Programmes, die ausgeführt werden können\n",
    "    - In Form von ``` NAME_DES_BEFEHLS(*Argument*)```\n",
    "\n",
    "- Eine Zeile für einen Befehl, keine ```;```\n",
    "\n",
    "- Beispiele für Befehle\n",
    "    - <font color=brown>print(...)</font> gibt einen eingegebenen Text aus\n",
    "    - <font color=brown>len(...)</font> gibt die Länge eines Textes zurück\n",
    "    - <font color=brown>sum(...)</font> summiert Elemente einer Liste\n",
    "    \n",
    "><div class=\"alert alert-block alert-warning\">\n",
    "Ausprobieren in Colab \n",
    "</div>"
   ]
  },
  {
   "cell_type": "markdown",
   "metadata": {
    "slideshow": {
     "slide_type": "slide"
    }
   },
   "source": [
    "### Variablen und Operatoren"
   ]
  },
  {
   "cell_type": "markdown",
   "metadata": {
    "slideshow": {
     "slide_type": "-"
    }
   },
   "source": [
    "### Operatoren\n",
    "\n",
    "- Verknüpfen Elemente, um ein Ergebnis zu erzielen\n",
    "- klassisches Beispiel: Arithmetische Operatoren (+ , - , \\* , / , \\**, %)\n",
    "- Für uns wichtig: Wahrheitwert-Operatoren (==,<,>,and, or)\n",
    "\n",
    "><div class=\"alert alert-block alert-warning\">\n",
    "Ausprobieren in Colab \n",
    "</div>"
   ]
  },
  {
   "cell_type": "markdown",
   "metadata": {
    "slideshow": {
     "slide_type": "slide"
    }
   },
   "source": [
    "### Variablen\n",
    "\n",
    "- Variablen sind Teile des Codes, in denen Dinge gespeichert werden können\n",
    "- Benennung von Variablen kann selbst erfolgen (mit Regeln und Konventionen)\n",
    "- Belegung einer Variable in Form von ```VARIABLENNAME = WERT```\n",
    "- Erneutes nutzen von Variablen, indem der Name aufgerufen wird\n",
    "\n",
    "><div class=\"alert alert-block alert-warning\">\n",
    "Ausprobieren in Colab \n",
    "</div>"
   ]
  },
  {
   "cell_type": "markdown",
   "metadata": {
    "slideshow": {
     "slide_type": "slide"
    }
   },
   "source": [
    "### Variablen\n",
    "\n",
    "- Variablen haben unterschiedliche Daten<span style=\"color:red\">**typen**</span>, zB:\n",
    "    - ganze Zahlen (Integer)\n",
    "    - Fließkommazahlen (Float)\n",
    "    - Text/Zeichenketten (String)\n",
    "    - ( Auflistungen (List) )\n",
    "    - ...\n",
    "- Die Datentypen bestimmen, welche Operatoren genutzt werden können"
   ]
  },
  {
   "cell_type": "markdown",
   "metadata": {
    "slideshow": {
     "slide_type": "slide"
    }
   },
   "source": [
    "### Variablen\n",
    "\n",
    "Übungsaufgabe:\n",
    "\n",
    "><div class=\"alert alert-block alert-info\">\n",
    "<b>Erstelle vier Variablen. 2 von ihnen sollten Zahlen sein, 2 sollten Zeichenketten beinhalten. Probiere verschiedene Operatoren mit den Variablen aus.</b></div>"
   ]
  },
  {
   "cell_type": "markdown",
   "metadata": {
    "slideshow": {
     "slide_type": "slide"
    }
   },
   "source": [
    "### Python Listen\n",
    "\n",
    "- Sehr wichtige Struktur für diese Vorlesung\n",
    "- Auflistungen von Elementen\n",
    "- Kann einer Variablen zugewiesen werden: **VARIABLENNAME = [ELEMENT_1, ELEMENT_2, ...]**\n",
    "- Über Listen kann iteriert werden\n",
    "- Liste können auch teilweise ausgegeben werden (mit ```Liste[x:y]```)\n",
    "\n",
    "><div class=\"alert alert-block alert-warning\">\n",
    "Ausprobieren in Colab \n",
    "</div>\n",
    "\n",
    "- (Ähnelt eigentlich eher einem Array)"
   ]
  },
  {
   "cell_type": "markdown",
   "metadata": {
    "slideshow": {
     "slide_type": "slide"
    }
   },
   "source": [
    "### Steuerelemente\n",
    "\n",
    "- Befehle, die über die Ausführung des weiteren Codes bestimmen\n",
    "- Werden mit ```:``` und Einrückungen dargestellt\n",
    "- Für uns wichtig: If-Bedingungen und for-Schleifen"
   ]
  },
  {
   "cell_type": "markdown",
   "metadata": {
    "slideshow": {
     "slide_type": "slide"
    }
   },
   "source": [
    "#### If-Bedingungen\n",
    "- Bedingung die entscheidet, ob der eingerückte Teil des Codes ausgeführt wird\n",
    "- Benutzt Wahrheitwert-Operatoren\n",
    "- Syntax: \n",
    "    \n",
    "```\n",
    "if VERGLEICHSWERT_1 == VERGLEICHSWERT_2:\n",
    "    AUSZUFÜHRENDER CODE\n",
    "RESTLICHER CODE\n",
    "```\n",
    "- Entscheidend ist, ob Wahrheitswert der Bedingung ```True``` oder ```False``` ist\n",
    "- Für Überprüfung auch ```in``` Operator (für Listen)\n",
    "- Zusätzlich um ```else``` erweiterbar\n",
    "\n",
    "><div class=\"alert alert-block alert-warning\">\n",
    "Ausprobieren in Colab \n",
    "</div>"
   ]
  },
  {
   "cell_type": "markdown",
   "metadata": {
    "slideshow": {
     "slide_type": "slide"
    }
   },
   "source": [
    "#### If-Bedingungen\n",
    "\n",
    "Übungsaufgabe:\n",
    "\n",
    "><div class=\"alert alert-block alert-info\">\n",
    "<b>Erstelle eine Liste von Zahlen. Überprüfe anschließend, ob der dritte Wert der Liste eine ungrade Zahl ist. Wenn ja, überprüfe, ob es eine durch 7 teilbare Zahl ist. Gib die Ergebnisse deiner Überprüfungen mit print()-Befehlen aus.</b></div>"
   ]
  },
  {
   "cell_type": "markdown",
   "metadata": {
    "slideshow": {
     "slide_type": "slide"
    }
   },
   "source": [
    "#### for-Schleifen\n",
    "\n",
    "- Zur Wiederholung von Teilen des Codes\n",
    "- Häufigkeit der Wiederholung muss festgelegt werden\n",
    "- Oft nutzen wir Listen und gehen alle ihre Elemente durch\n",
    "- Syntax:\n",
    "\n",
    "```\n",
    "for LAUFVARIABLE in LISTE:\n",
    "    ZU WIEDERHOLENDER CODE\n",
    "RESTLICHER CODE\n",
    "```\n",
    "- Dabei kann die Laufvariable im Code benutzt werden\n",
    "\n",
    "><div class=\"alert alert-block alert-warning\">\n",
    "Ausprobieren in Colab \n",
    "</div>"
   ]
  },
  {
   "cell_type": "markdown",
   "metadata": {
    "slideshow": {
     "slide_type": "slide"
    }
   },
   "source": [
    "#### for-Schleifen\n",
    "\n",
    "Übungsaufgabe:\n",
    "\n",
    "><div class=\"alert alert-block alert-info\">\n",
    "<b>Gib für jeden Wert einer Liste von Zahlen aus, ob es sich um eine grade oder ungrade Zahl handelt.</b></div>"
   ]
  },
  {
   "attachments": {
    "image.png": {
     "image/png": "[encoded data removed]"
    }
   },
   "cell_type": "markdown",
   "metadata": {
    "slideshow": {
     "slide_type": "slide"
    }
   },
   "source": [
    "## Quizacademy\n",
    "\n",
    "\n",
    "> **Heutiges Quiz:** https://u.quizacademy.io/LPTFAF\n",
    "\n",
    "![image.png](attachment:image.png)"
   ]
  },
  {
   "cell_type": "markdown",
   "metadata": {
    "slideshow": {
     "slide_type": "slide"
    }
   },
   "source": [
    "### Funktionen\n",
    "\n",
    "- Teil des Codes, der immer wieder benutzt werden kann\n",
    "- Kann einen Wiedergabewert haben ( ```return```)\n",
    "- \"Befehle\" sind Funktionen\n",
    "- Syntax von Funktionen wie bei Befehlen: ```FUNKTIONSNAME(*Argumente*)```\n",
    "- Funktionen werden vorher definiert im Stil von \n",
    "\n",
    "```\n",
    "def FUNKTIONSNAME(*Argumente*):\n",
    "    CODE DER FUNKTION\n",
    "RESTLICHER CODE\n",
    "```\n",
    "\n",
    "><div class=\"alert alert-block alert-warning\">\n",
    "Ausprobieren in Colab (wenn genug Zeit übrig)\n",
    "</div>"
   ]
  },
  {
   "cell_type": "markdown",
   "metadata": {
    "slideshow": {
     "slide_type": "slide"
    }
   },
   "source": [
    "### Funktionen\n",
    "\n",
    "Übungsaufgabe:\n",
    "\n",
    "><div class=\"alert alert-block alert-info\">\n",
    "<b>Schreibe eine Funktion, die für einen eingegebenen (Zahlen-)Wert ausgibt, ob er positiv, negativ oder 0 ist.</b></div>"
   ]
  },
  {
   "cell_type": "markdown",
   "metadata": {
    "slideshow": {
     "slide_type": "slide"
    }
   },
   "source": [
    "### Pakete importieren\n",
    "\n",
    "- Manchmal nötig, um Funktionen und Befehle zu nutzen\n",
    "- Syntax: ```from PAKETNAME import FUNKTION```\n",
    "- Muss hier nicht tiefer verstanden werden, könnte euch aber im Code begegnen"
   ]
  },
  {
   "cell_type": "markdown",
   "metadata": {
    "slideshow": {
     "slide_type": "slide"
    }
   },
   "source": [
    "## Ausblick\n",
    "\n",
    "- In den nächsten Wochen in Vorlesung (+Selbststudium) ein bisschen Gefühl für Programmcode bekommen\n",
    "- Sanfter Start, wir erwarten nicht, dass Ihr jetzt programmieren könnt\n",
    "\n",
    "\n",
    "- Fragen und Feedback sind willkommen, vor Ort und per Mail"
   ]
  },
  {
   "cell_type": "markdown",
   "metadata": {
    "slideshow": {
     "slide_type": "slide"
    }
   },
   "source": [
    "# Vielen Dank für Eure Aufmerksamkeit"
   ]
  }
 ],
 "metadata": {
  "celltoolbar": "Slideshow",
  "kernelspec": {
   "display_name": "Python 3",
   "language": "python",
   "name": "python3"
  },
  "language_info": {
   "codemirror_mode": {
    "name": "ipython",
    "version": 3
   },
   "file_extension": ".py",
   "mimetype": "text/x-python",
   "name": "python",
   "nbconvert_exporter": "python",
   "pygments_lexer": "ipython3",
   "version": "3.7.4"
  },
  "toc": {
   "base_numbering": 1,
   "nav_menu": {},
   "number_sections": false,
   "sideBar": true,
   "skip_h1_title": false,
   "title_cell": "Table of Contents",
   "title_sidebar": "Contents",
   "toc_cell": false,
   "toc_position": {},
   "toc_section_display": true,
   "toc_window_display": false
  },
  "varInspector": {
   "cols": {
    "lenName": 16,
    "lenType": 16,
    "lenVar": 40
   },
   "kernels_config": {
    "python": {
     "delete_cmd_postfix": "",
     "delete_cmd_prefix": "del ",
     "library": "var_list.py",
     "varRefreshCmd": "print(var_dic_list())"
    },
    "r": {
     "delete_cmd_postfix": ") ",
     "delete_cmd_prefix": "rm(",
     "library": "var_list.r",
     "varRefreshCmd": "cat(var_dic_list()) "
    }
   },
   "types_to_exclude": [
    "module",
    "function",
    "builtin_function_or_method",
    "instance",
    "_Feature"
   ],
   "window_display": false
  }
 },
 "nbformat": 4,
 "nbformat_minor": 2
}
