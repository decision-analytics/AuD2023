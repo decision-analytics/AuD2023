{
 "cells": [
  {
   "cell_type": "markdown",
   "metadata": {
    "slideshow": {
     "slide_type": "slide"
    }
   },
   "source": [
    "<img src=\"./img/logo_wiwi.png\" width=\"23%\" align=\"left\">\n",
    "<img src=\"./img/decision_analytics_logo.png\" width=\"17%\" align=\"right\">\n",
    "\n",
    "<br><br><br><br><br><br><br><br>\n",
    "\n",
    "\n",
    "## Algorithmen und Datenstrukturen\n",
    "Wintersemester 2023/24\n",
    "\n",
    "\n",
    "# Übung 12: Greedy-Algorithmen\n",
    "\n",
    "\n",
    "<br><br><br>\n",
    "J-Prof. Dr. Michael Römer, Till Porrmann "
   ]
  },
  {
   "cell_type": "markdown",
   "metadata": {
    "slideshow": {
     "slide_type": "slide"
    }
   },
   "source": [
    "# Recap\n",
    "\n",
    "> <div class=\"alert alert-block alert-info\">\n",
    "<b>Welche Laufzeit hat der Dijkstra-Algorithmus? </b>\n",
    "</div>\n",
    "\n",
    "> <div class=\"alert alert-block alert-info\">\n",
    "<b>Welche Laufzeit hat der kürzeste Wege Algorithmus in DAGs?</b>\n",
    "</div>\n",
    "\n",
    "> <div class=\"alert alert-block alert-info\">\n",
    "<b>Was versteht man unter einer topologischen Sortierung und wofür kann sie verwendet werden?</b>\n",
    "</div>\n"
   ]
  },
  {
   "cell_type": "markdown",
   "metadata": {
    "slideshow": {
     "slide_type": "slide"
    }
   },
   "source": [
    "# Überblick\n",
    "\n",
    "0. Übungszettel und Organisatorisches\n",
    "1. Wiederholung Vorlesung\n",
    "2. Konzept Greedy Algorithmen\n",
    "3. Greedy Algorithmen beim SHPP\n",
    "4. Greedy Algorithmen beim Rucksack-Problem"
   ]
  },
  {
   "cell_type": "markdown",
   "metadata": {
    "slideshow": {
     "slide_type": "slide"
    }
   },
   "source": [
    "# 0. Übungszettel und Organisatorisches"
   ]
  },
  {
   "cell_type": "markdown",
   "metadata": {
    "slideshow": {
     "slide_type": "slide"
    }
   },
   "source": [
    "# Übungszettel und Organisatorisches\n",
    "## Letzter Übungszettel\n",
    "\n",
    "- Bereits hochgeladen, Bearbeitungszeit dieses Mal nur eine Woche\n",
    "- Wird nächste Woche (01.02.) vorgestellt\n",
    "- Weniger Aufgaben als sonst, dafür mit schwieriger Implementierungsaufgabe\n"
   ]
  },
  {
   "cell_type": "markdown",
   "metadata": {
    "slideshow": {
     "slide_type": "slide"
    }
   },
   "source": [
    "# Übungszettel und Organisatorisches\n",
    "## Letzte Übung\n",
    "\n",
    "- Nächste Woche letzte Übung\n",
    "- Wenig / keine neue Inhalte\n",
    "- Wiederholung und Raum für Fragen zur Klausur\n",
    "- Überlegt euch Fragen / Aufgaben über die ihr reden wollt"
   ]
  },
  {
   "cell_type": "markdown",
   "metadata": {
    "slideshow": {
     "slide_type": "slide"
    }
   },
   "source": [
    "# Übungszettel und Organisatorisches\n",
    "## Termine\n",
    "\n",
    "| ÜZ Nr. | Bearbeitungszeitraum | Präsentation | Thema (voraussichtlich) | Vorstellende |\n",
    "| :-: | :-: | :-: | :-: | :-: |\n",
    "| 1 | 19.10.-28.10. | 02.11. | Grundlagen Python / Algorithmen      |   Michelle+Dennis     |\n",
    "| 2 | 02.11.-11.11. | 16.11. | Datenstrukturen / Sortierverfahren   |   Mohammed+Denis|\n",
    "| 3 | 16.11.-25.11.  | 30.11.  | Rekursion                            |Daniela+Erik     |\n",
    "| 4 | 30.11.-09.12. | 14.12.| Quicksort / Hash-Tabellen  |   Levin+Emre     |\n",
    "| 5 | 14.12.-22.12 | *18.01. | Graphen / Kürzeste Wege Verfahren    |   Dmytro+Lena     |\n",
    "| **6** | **11.01.-20.01.** | **25.01.** | **Dijkstra / DAGs**            |   **Rehman+Lucas**    |\n",
    "| 7 | 25.01.-31.01. | 01.02  | Greedy-Algorithmen            |   Lukas+Sven+Espen     |"
   ]
  },
  {
   "cell_type": "markdown",
   "metadata": {
    "slideshow": {
     "slide_type": "slide"
    }
   },
   "source": [
    "# Übungszettel - Präsentation\n"
   ]
  },
  {
   "cell_type": "markdown",
   "metadata": {
    "slideshow": {
     "slide_type": "slide"
    }
   },
   "source": [
    "# 1. Wiederholung Vorlesung"
   ]
  },
  {
   "cell_type": "markdown",
   "metadata": {
    "slideshow": {
     "slide_type": "slide"
    }
   },
   "source": [
    "# Wiederholung Vorlesung\n",
    "## Shortest Hamiltonian Path Problem\n",
    "\n",
    "- **Problemstellung:** In einem Graphen sollen alle Knoten besucht werden\n",
    "- Gesucht ist der kürzeste Pfad, der durch alle Knoten führt\n",
    "- Anzahl möglicher Routen wächst fakultativ an\n",
    "- Kein effizienter Algorithmus zur Lösung bekannt\n",
    "\n",
    "\n",
    "<img src=\"./img/32.png\" width=\"28%\" align=\"middle\">"
   ]
  },
  {
   "cell_type": "markdown",
   "metadata": {
    "slideshow": {
     "slide_type": "slide"
    }
   },
   "source": [
    "# Wiederholung Vorlesung\n",
    "## Greedy Verfahren\n",
    "\n",
    "<div class=\"alert alert-block alert-success\">\n",
    "    <b>Kernidee von Greedy-Algorithmen:</b>\n",
    "    \n",
    "- der Algorithmus geht Schritt für Schritt vor\n",
    "- die Auswahl des nächsten Schritts / der nächsten Aktion erfolgt \"gierig\", d.h.\n",
    "    - es wird ein (lokales) Kriterium definiert (z.B. Entfernung zu den Nachbarn) und\n",
    "    - eine \"lokal optimale\" Aktion (ein lokal optimaler nächster Schritt) gewählt (z.B. der Nachbar mit der niedrigsten Entfernung)\n",
    "</div>\n",
    "\n",
    "\n",
    "- Meist einfache/schnelle Verfahren\n",
    "- Finden nicht immer optimale Lösungen\n",
    "- Anwendung vor allem bei sehr schwierigen Problemstellungen"
   ]
  },
  {
   "cell_type": "markdown",
   "metadata": {
    "slideshow": {
     "slide_type": "slide"
    }
   },
   "source": [
    "# Wiederholung Vorlesung\n",
    "## Rucksackproblem\n",
    "\n",
    "- Viel erforschtes Problem\n",
    "- Für große Instanzen schwierig optimal zu lösen\n",
    "\n",
    "<img src=\"./img/07.png\" width=\"15%\" align=\"middle\">\n",
    "<img src=\"./img/08.png\" width=\"40%\" align=\"middle\">\n",
    "\n",
    "- Ein Behälter (\"Rucksack\") soll mit Items gefüllt werden\n",
    "- Behälter hat eine Maximalkapazität (\"Maximal-Gewicht\")\n",
    "- Items haben einen Wert und ein \"Gewicht\"\n",
    "- **Ziel:** Summe der Werte der Items im Behälter maximieren, während die Kapazitätsgrenze eingehalten wird"
   ]
  },
  {
   "cell_type": "markdown",
   "metadata": {
    "slideshow": {
     "slide_type": "slide"
    }
   },
   "source": [
    "# 2. Konzept Greedy Algorithmen"
   ]
  },
  {
   "cell_type": "markdown",
   "metadata": {
    "slideshow": {
     "slide_type": "slide"
    }
   },
   "source": [
    "# Konzept Greedy Algorithmen\n",
    "## Grundidee\n",
    "\n",
    "- Wir suchen eine schnelle Lösung für ein kompliziertes Problem\n",
    "- Wir gehen Schritt für Schritt vor\n",
    "- Wir entscheiden uns in jedem Schritt für die (Teil-)Lösung, die am besten scheint\n",
    "- Zukünftige Auswirkungen (auf die Gesamtlösung) werden vernachlässigt\n",
    "\n",
    "<br>\n",
    "\n",
    "- Greedy Algorithmen sind oft heuristisch"
   ]
  },
  {
   "cell_type": "markdown",
   "metadata": {
    "slideshow": {
     "slide_type": "slide"
    }
   },
   "source": [
    "# Konzept Greedy Algorithmen\n",
    "\n",
    "## Wechselgeld-Automat - Beispiel 1\n",
    "\n",
    "**Aufgabe:** ein gegebener Betrag soll mit möglichst wenig Münzen ausgezahlt werden\n",
    "\n",
    "- **Variante 1**: Euro-Münzen (2€, 1€, 50c, 20c, 10c, 5c, 2c, 1c)\n",
    "\n",
    "\n",
    "> <div class=\"alert alert-block alert-info\">\n",
    "<b>Wie könnte ein Greedy-Ansatz für diese Problemstellung aussehen?</b>\n",
    "</div>"
   ]
  },
  {
   "cell_type": "markdown",
   "metadata": {
    "slideshow": {
     "slide_type": "fragment"
    }
   },
   "source": [
    "> <div class=\"alert alert-block alert-info\">\n",
    "<b>Welche Münzen werden für die Beträge 1.62€, 2.39€ und 4.20€ ausgegeben?</b>\n",
    "</div>\n",
    "\n",
    "> <div class=\"alert alert-block alert-info\">\n",
    "<b>Führt dieser Algorithmus immer zur optimalen Lösung?</b>\n",
    "</div>"
   ]
  },
  {
   "cell_type": "markdown",
   "metadata": {
    "slideshow": {
     "slide_type": "slide"
    }
   },
   "source": [
    "# Konzept Greedy Algorithmen\n",
    "\n",
    "## Wechselgeld-Automat - Beispiel 2\n",
    "\n",
    "**Aufgabe:** ein gegebener Betrag soll mit möglichst wenig Münzen ausgezahlt werden\n",
    "\n",
    "- **Variante 2**: Random-Münzen (1,50€, 1€, 45c, 19c, 8c, 3c, 1c)\n",
    "\n",
    "> <div class=\"alert alert-block alert-info\">\n",
    "<b>(Wie könnte ein Greedy-Ansatz für diese Problemstellung aussehen?)</b>\n",
    "</div>"
   ]
  },
  {
   "cell_type": "markdown",
   "metadata": {
    "slideshow": {
     "slide_type": "fragment"
    }
   },
   "source": [
    "> <div class=\"alert alert-block alert-info\">\n",
    "<b>Welche Münzen werden für die Beträge 1.62€, 2.39€ und 4.20€ ausgegeben?</b>\n",
    "</div>\n",
    "\n",
    "> <div class=\"alert alert-block alert-info\">\n",
    "<b>Führt dieser Algorithmus immer zur optimalen Lösung?</b>\n",
    "</div>"
   ]
  },
  {
   "cell_type": "markdown",
   "metadata": {
    "slideshow": {
     "slide_type": "slide"
    }
   },
   "source": [
    "# 3. Greedy Algorithmen beim SHPP"
   ]
  },
  {
   "cell_type": "markdown",
   "metadata": {
    "slideshow": {
     "slide_type": "slide"
    }
   },
   "source": [
    "# Greedy Algorithmen beim SHPP\n",
    "## Problembeschreibung\n",
    "\n",
    "**SHPP (Kürzester Hamiltonscher Pfad):**\n",
    "- Wir suchen nach Wegen in Graphen, die alle Knoten beinhalten\n",
    "- Beliebiger Start- und End-Knoten\n",
    "\n",
    "\n",
    "**TSP (Handlungsreisende):**\n",
    "- Wir suchen eine Rundreise über alle Knoten\n",
    "- (Start- und End-Knoten müssen gleich sein)\n",
    "\n",
    "<br>\n",
    "<br>\n",
    "\n",
    "- Anzahl möglicher Routen für beide Problemen fakultativ\n",
    "- Keine effizienten exakten Lösungsverfahren, aber verschiedene Heuristiken (z.B. \"Nearest Neighbor\", \"2-Opt\", ...)\n",
    "- Zum Ausprobieren: [Online-Tool](https://www.math.uwaterloo.ca/tsp/app/diy.html)"
   ]
  },
  {
   "cell_type": "markdown",
   "metadata": {
    "slideshow": {
     "slide_type": "slide"
    }
   },
   "source": [
    "# Greedy Algorithmen beim SHPP\n",
    "## Problemstellung\n",
    "\n",
    "- Es sollen alle Knoten eines Graphens mit einem möglichst kurzen Pfad verbunden werden\n",
    "\n",
    "<img src=\"./img/SHPP Greedy.jpg\" width=\"70%\" align=\"middle\">\n",
    "\n",
    "><div class=\"alert alert-block alert-info\">\n",
    "<b>   \n",
    "Wie viele verschiedene Hamiltonische Pfade gibt es?\n",
    "</b></div>\n",
    "\n",
    "><div class=\"alert alert-block alert-info\">\n",
    "<b>   \n",
    "Wie viele verschiedene Hamiltonische Pfade gäbe es, wenn der Graph einen weiteren (vollständig verbundenen) Knoten hätte?\n",
    "</b></div>"
   ]
  },
  {
   "cell_type": "markdown",
   "metadata": {
    "slideshow": {
     "slide_type": "slide"
    }
   },
   "source": [
    "# Greedy Algorithmen beim SHPP\n",
    "## Vorgehen\n",
    "\n",
    "<img src=\"./img/SHPP Greedy.jpg\" width=\"70%\" align=\"middle\">\n",
    "\n",
    "><div class=\"alert alert-block alert-info\">\n",
    "<b>   \n",
    "Wie könnte ein Greedy-Ansatz für das SHPP aussehen?\n",
    "</b></div>\n",
    "\n",
    "><div class=\"alert alert-block alert-info\">\n",
    "<b>   \n",
    "Findet einen möglichst kurzen Hamiltonischen Pfad.\n",
    "</b></div>"
   ]
  },
  {
   "cell_type": "markdown",
   "metadata": {
    "slideshow": {
     "slide_type": "slide"
    }
   },
   "source": [
    "# 4. Greedy Algorithmen beim Rucksackproblem"
   ]
  },
  {
   "cell_type": "markdown",
   "metadata": {
    "slideshow": {
     "slide_type": "slide"
    }
   },
   "source": [
    "# Greedy Algorithmen beim Rucksackproblem\n",
    "## Problemstellung\n",
    "\n",
    "- Viele Varianten des Rucksackproblems, wir betrachten hier nur einfache Grundform\n",
    "- Ein Behälter, der möglichst gut mit verfügbaren Items gefüllt werden soll\n",
    "- Ziel ist, den Wert der eingepackten Gegenstände zu maximieren\n",
    "- Für gewöhnlich nicht genug Kapazität, um alle Gegenstände mitzunehmen\n",
    "- Optimale Auswahl bei großen Instanzen nicht effizient berechenbar (\"NP-vollständig\")"
   ]
  },
  {
   "cell_type": "markdown",
   "metadata": {
    "slideshow": {
     "slide_type": "slide"
    }
   },
   "source": [
    "# Greedy Algorithmen beim Rucksackproblem\n",
    "## Beispiel\n",
    "\n",
    "<img src=\"./img/Knapsack_bsp.png\" width=\"70%\" align=\"middle\">\n",
    "\n",
    "><div class=\"alert alert-block alert-info\">\n",
    "<b>   \n",
    "Wie könnte ein Greedy-Ansatz für das Rucksackproblem aussehen?\n",
    "</b></div>\n",
    "\n",
    "><div class=\"alert alert-block alert-info\">\n",
    "<b>   \n",
    "Welche Gegenstände sollten mitgenommen werden?\n",
    "</b></div>"
   ]
  },
  {
   "cell_type": "markdown",
   "metadata": {
    "slideshow": {
     "slide_type": "slide"
    }
   },
   "source": [
    "# Recap\n",
    "\n",
    "> <div class=\"alert alert-block alert-info\">\n",
    "<b>Was versteht man unter Greedy-Algorithmen? </b>\n",
    "</div>\n",
    "\n",
    "> <div class=\"alert alert-block alert-info\">\n",
    "<b>Für welche Problemstellungen bieten sich Greedy-Algorithmen an?</b>\n",
    "</div>\n",
    "\n"
   ]
  },
  {
   "cell_type": "markdown",
   "metadata": {
    "slideshow": {
     "slide_type": "slide"
    }
   },
   "source": [
    "# Vielen Dank für Eure Aufmerksamkeit"
   ]
  }
 ],
 "metadata": {
  "celltoolbar": "Slideshow",
  "kernelspec": {
   "display_name": "Python 3",
   "language": "python",
   "name": "python3"
  },
  "language_info": {
   "codemirror_mode": {
    "name": "ipython",
    "version": 3
   },
   "file_extension": ".py",
   "mimetype": "text/x-python",
   "name": "python",
   "nbconvert_exporter": "python",
   "pygments_lexer": "ipython3",
   "version": "3.7.4"
  },
  "toc": {
   "base_numbering": 1,
   "nav_menu": {},
   "number_sections": false,
   "sideBar": true,
   "skip_h1_title": false,
   "title_cell": "Table of Contents",
   "title_sidebar": "Contents",
   "toc_cell": false,
   "toc_position": {},
   "toc_section_display": true,
   "toc_window_display": false
  },
  "varInspector": {
   "cols": {
    "lenName": 16,
    "lenType": 16,
    "lenVar": 40
   },
   "kernels_config": {
    "python": {
     "delete_cmd_postfix": "",
     "delete_cmd_prefix": "del ",
     "library": "var_list.py",
     "varRefreshCmd": "print(var_dic_list())"
    },
    "r": {
     "delete_cmd_postfix": ") ",
     "delete_cmd_prefix": "rm(",
     "library": "var_list.r",
     "varRefreshCmd": "cat(var_dic_list()) "
    }
   },
   "types_to_exclude": [
    "module",
    "function",
    "builtin_function_or_method",
    "instance",
    "_Feature"
   ],
   "window_display": false
  }
 },
 "nbformat": 4,
 "nbformat_minor": 2
}
