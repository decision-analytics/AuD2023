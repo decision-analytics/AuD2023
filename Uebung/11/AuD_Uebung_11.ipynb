{
 "cells": [
  {
   "cell_type": "markdown",
   "metadata": {
    "slideshow": {
     "slide_type": "slide"
    }
   },
   "source": [
    "<img src=\"./img/logo_wiwi.png\" width=\"23%\" align=\"left\">\n",
    "<img src=\"./img/decision_analytics_logo.png\" width=\"17%\" align=\"right\">\n",
    "\n",
    "<br><br><br><br><br><br><br><br>\n",
    "\n",
    "\n",
    "## Algorithmen und Datenstrukturen\n",
    "Wintersemester 2023/24\n",
    "\n",
    "\n",
    "# Übung 11: Dijkstra-Algorithmus und Directed Acyclic Graphs (DAGs)\n",
    "\n",
    "\n",
    "<br><br><br>\n",
    "J-Prof. Dr. Michael Römer, Till Porrmann "
   ]
  },
  {
   "cell_type": "markdown",
   "metadata": {
    "slideshow": {
     "slide_type": "slide"
    }
   },
   "source": [
    "# Überblick\n",
    "\n",
    "0. Übungszettel und Organisatorisches\n",
    "1. Wiederholung Vorlesung\n",
    "2. Dijkstra-Algorithmus mit negativen Kanten\n",
    "3. Directed Acyclic Graphs (DAGs)"
   ]
  },
  {
   "cell_type": "markdown",
   "metadata": {
    "slideshow": {
     "slide_type": "slide"
    }
   },
   "source": [
    "# 0. Übungszettel und Organisatorisches"
   ]
  },
  {
   "cell_type": "markdown",
   "metadata": {},
   "source": [
    "## Probe- und Altklausuren\n",
    "\n",
    "- Eine Probe- und drei Altklausuren, hochgeladen in moodle\n",
    "- Für euch zum Üben, kein Besprechen in der Veranstaltung\n",
    "- Klausur von Februar '22 noch im alten Format\n",
    "- ~~Wenn gewünscht könnt ihr bis zum 18.1. die Probeklausur oder eine der Altklausuren (außer von Feb '22) ausgedruckt abgeben~~\n",
    "- ~~Kontrolle und Feedback bis zum 25.1.~~\n",
    "- Bei Fragen zu Aufgaben schreibt mir ne Mail \n"
   ]
  },
  {
   "cell_type": "markdown",
   "metadata": {
    "slideshow": {
     "slide_type": "slide"
    }
   },
   "source": [
    "# 0. Übungszettel\n",
    "## Evaluation\n",
    "\n",
    "- Evaluationslink per Mail verschickt\n",
    "- Feedback für uns sehr wichtig zur Verbesserung der Veranstaltung\n",
    "\n",
    "><div class=\"alert alert-block alert-info\">\n",
    "<b>   \n",
    "Füllt die Evaluation aus.\n",
    "</b></div>"
   ]
  },
  {
   "cell_type": "markdown",
   "metadata": {
    "slideshow": {
     "slide_type": "slide"
    }
   },
   "source": [
    "# 0. Übungszettel\n",
    "## Termine\n",
    "\n",
    "| ÜZ Nr. | Bearbeitungszeitraum | Präsentation | Thema (voraussichtlich) | Vorstellende |\n",
    "| :-: | :-: | :-: | :-: | :-: |\n",
    "| 1 | 19.10.-28.10. | 02.11. | Grundlagen Python / Algorithmen      |   Michelle+Dennis     |\n",
    "| 2 | 02.11.-11.11. | 16.11. | Datenstrukturen / Sortierverfahren   |   Mohammed+Denis|\n",
    "| 3 | 16.11.-25.11.  | 30.11.  | Rekursion                            |Daniela+Erik     |\n",
    "| 4 | 30.11.-09.12. | 14.12.| Quicksort / Hash-Tabellen  |   Levin+Emre     |\n",
    "| **5** | **14.12.-22.12.** | ***18.01.** | **Graphen / Kürzeste Wege Verfahren**    |   **Dmytro+Lena**     |\n",
    "| 6 | 11.01.-20.01. | 25.01. | DAGs / Greedy-Algorithmen            |   Rehman+Lucas     |\n",
    "| 7 | 25.01.-31.01. | 01.02  | Dynamische Programmierung            |   Lukas+Sven+Espen     |"
   ]
  },
  {
   "cell_type": "markdown",
   "metadata": {
    "slideshow": {
     "slide_type": "slide"
    }
   },
   "source": [
    "# Übungszettel - Präsentation\n"
   ]
  },
  {
   "cell_type": "markdown",
   "metadata": {
    "slideshow": {
     "slide_type": "slide"
    }
   },
   "source": [
    "# 1. Wiederholung Vorlesung"
   ]
  },
  {
   "cell_type": "markdown",
   "metadata": {
    "slideshow": {
     "slide_type": "slide"
    }
   },
   "source": [
    "# Wiederholung Vorlesung\n",
    "## Negative Kanten\n",
    "\n",
    "- Bei negativen Kanten kann es passieren, dass Dijkstra nicht den kürzesten Weg findet\n",
    "- Alternative Algorithmen möglich (zB Bellmann-Ford-Algorithmus)\n",
    "\n",
    "<img src=\"./img/43.png\" width=\"50%\" align=\"middle\">"
   ]
  },
  {
   "cell_type": "markdown",
   "metadata": {
    "slideshow": {
     "slide_type": "slide"
    }
   },
   "source": [
    "# Wiederholung Vorlesung\n",
    "## DAGs\n",
    "<div class=\"alert alert-block alert-success\">\n",
    "Einen gerichteten Graphen ohne Zyklen nennt man einen <b>gerichteten azyklischen Graph</b> (directed acyclic graph, <b>DAG</b>)\n",
    "\n",
    "--> gerade für Optimierungsprobleme ist diese Eigenschaft sehr wichtig, weil viele Probleme auf DAGs leichter zu lösen sind als auf allgemeinen Graphen!\n",
    "</div>\n",
    "\n",
    "- Alle gerichteten Graphen die keine Zyklen haben sind DAGs\n",
    "- In DAGs besserer Kürzeste-Wege-Algorithmus als Dijkstra möglich\n",
    "\n",
    "<img src=\"./img/03.png\" width=\"30%\" align=\"left\"> "
   ]
  },
  {
   "cell_type": "markdown",
   "metadata": {
    "slideshow": {
     "slide_type": "slide"
    }
   },
   "source": [
    "# Wiederholung Vorlesung\n",
    "## Topologische Sortierung\n",
    "\n",
    "- Knoten von DAGs lassen sich **topologisch sortieren** \n",
    "- Kein Knoten darf in der Sortierung nach einem seiner Nachfolger stehen\n",
    "- Sortierungen sind nicht im Allgemeinen eindeutig\n",
    "- Topologische Sortierung als Ausgangspunkt für Suche nach kürzesten Wegen"
   ]
  },
  {
   "cell_type": "markdown",
   "metadata": {
    "slideshow": {
     "slide_type": "slide"
    }
   },
   "source": [
    "# 2. Dijkstra-Algorithmus mit negativen Kanten\n"
   ]
  },
  {
   "cell_type": "markdown",
   "metadata": {
    "slideshow": {
     "slide_type": "slide"
    }
   },
   "source": [
    "# Dijkstra-Algorithmus mit negativen Kanten\n",
    "## Problem\n",
    "\n",
    "- Negative Kanten können für inkorrekte Lösungen sorgen\n",
    "- Bei negativen Zyklen: kein kürzester Weg vorhanden\n",
    "\n",
    "><div class=\"alert alert-block alert-info\">\n",
    "<b>   \n",
    "Wie kann man das Problem bei negativen Kanten umgehen?\n",
    "</b></div>"
   ]
  },
  {
   "cell_type": "markdown",
   "metadata": {
    "slideshow": {
     "slide_type": "fragment"
    }
   },
   "source": [
    "><div class=\"alert alert-block alert-info\">\n",
    "<b>   \n",
    "Was ist der Nachteil an der Alternativen Vorgehensweise?\n",
    "</b></div>"
   ]
  },
  {
   "cell_type": "markdown",
   "metadata": {
    "slideshow": {
     "slide_type": "slide"
    }
   },
   "source": [
    "# Dijkstra-Algorithmus mit negativen Kanten\n",
    "## Laufzeiten\n",
    "\n",
    "- Laufzeit von Dijkstra ist (je nach Implementierung): $O(|N|log(|N|) + |E|)$\n",
    "- Dijkstra ohne permanente Label: \n",
    "><div class=\"alert alert-block alert-info\">\n",
    "<b>(?)</b></div>\n",
    "- Laufzeiten in DAGs: $O(|N|+|E|)$"
   ]
  },
  {
   "cell_type": "markdown",
   "metadata": {
    "slideshow": {
     "slide_type": "slide"
    }
   },
   "source": [
    "# 3. Directed Acyclic Graphs (DAGs)"
   ]
  },
  {
   "cell_type": "markdown",
   "metadata": {
    "slideshow": {
     "slide_type": "slide"
    }
   },
   "source": [
    "# Directed Acyclic Graphs (DAGs)\n",
    "\n",
    "## Allgemein\n",
    "\n",
    "- Graphen, die gerichtet und ohne Zyklen sind\n",
    "- Erlaubt Nutzung von speziellen Algorithmen, die nicht für alle Graphen funktionieren\n",
    "    - Für uns vor allem wichtig: \n",
    "        - Topologische Sortierung \n",
    "        - Kürzeste Wege Verfahren \n",
    "- Spezialform: Bäume\n",
    "\n",
    "<img src=\"./img/dag_bsp.jpg\" width=\"45%\" align=\"middle\">"
   ]
  },
  {
   "cell_type": "markdown",
   "metadata": {
    "slideshow": {
     "slide_type": "slide"
    }
   },
   "source": [
    "# Directed Acyclic Graphs (DAGs)"
   ]
  },
  {
   "cell_type": "markdown",
   "metadata": {},
   "source": [
    "> <div class=\"alert alert-block alert-info\">\n",
    "<b>Welche der folgenden Graphen sind DAGs?</b>\n",
    "</div>\n",
    "\n"
   ]
  },
  {
   "cell_type": "markdown",
   "metadata": {},
   "source": [
    "<img src=\"./img/dags_bsp1.jpg\" width=\"45%\" align=\"left\">\n",
    "<img src=\"./img/dags_bsp3.jpg\" width=\"45%\" align=\"right\">"
   ]
  },
  {
   "cell_type": "markdown",
   "metadata": {
    "slideshow": {
     "slide_type": "slide"
    }
   },
   "source": [
    "# Directed Acyclic Graphs (DAGs)"
   ]
  },
  {
   "cell_type": "markdown",
   "metadata": {
    "cell_style": "split"
   },
   "source": [
    "**Knoten:**\n",
    "- Programmieren lernen\n",
    "- AuD bestehen\n",
    "- Zur Schule gehen\n",
    "- Abitur\n",
    "- Bachelor-Abschluss\n",
    "- Master-Abschluss\n",
    "- Nobel-Preis gewinnen"
   ]
  },
  {
   "cell_type": "markdown",
   "metadata": {
    "cell_style": "split"
   },
   "source": [
    "**Kanten:**\n",
    "- Programmieren lernen --> AuD bestehen\n",
    "- Abitur --> Bachelor-Abschluss\n",
    "- AuD bestehen --> Bachelor-Abschluss\n",
    "- Bachelor-Abschluss --> Master-Abschluss\n",
    "- Zur Schule gehen --> Abitur"
   ]
  },
  {
   "cell_type": "markdown",
   "metadata": {
    "cell_style": "center",
    "slideshow": {
     "slide_type": "-"
    }
   },
   "source": [
    "<img src=\"./img/dags_bsp2.jpg\" width=\"45%\" align=\"left\">\n"
   ]
  },
  {
   "cell_type": "markdown",
   "metadata": {
    "slideshow": {
     "slide_type": "slide"
    }
   },
   "source": [
    "# Directed Acyclic Graphs (DAGs)\n",
    "\n",
    "## Topologische Sortierung\n",
    "\n",
    "- Nur für DAGs möglich\n",
    "- Oft nicht eindeutig\n",
    "- Algorithmus zum Finden von topologischer Sortierung kann genutzt werden, um Graphen auf Zyklen zu überprüfen (wenn unklar ob Graph DAG ist oder nicht)"
   ]
  },
  {
   "cell_type": "markdown",
   "metadata": {
    "slideshow": {
     "slide_type": "slide"
    }
   },
   "source": [
    "# Directed Acyclic Graphs (DAGs)\n",
    "\n",
    "## Topologische Sortierung - Algorithmus\n",
    "\n",
    "- Schritt 0: Erstelle eine leere Liste\n",
    "\n",
    "\n",
    "- Schritt 1: Finde einen Knoten ohne Vorgänger und füge ihn der Liste hinzu\n",
    "- Schritt 2: Entferne den Knoten aus dem Graphen\n",
    "\n",
    "\n",
    "- Wiederhole 1 und 2 solange, wie es Knoten ohne Vorgänger im Graphen gibt\n",
    "\n",
    "\n",
    "<br>\n",
    "\n",
    "**Anmerkung:** Wenn es keine Knoten ohne Vorgänger mehr gibt, sind alle Knoten abgearbeitet. Sollte es doch noch Knoten geben, handelt es sich nicht um einen DAG."
   ]
  },
  {
   "cell_type": "markdown",
   "metadata": {
    "slideshow": {
     "slide_type": "slide"
    }
   },
   "source": [
    "# Directed Acyclic Graphs (DAGs)"
   ]
  },
  {
   "cell_type": "markdown",
   "metadata": {},
   "source": [
    "> <div class=\"alert alert-block alert-info\">\n",
    "<b>Gib eine topologische Sortierung für folgende Graphen an:</b>\n",
    "</div>\n",
    "\n"
   ]
  },
  {
   "cell_type": "markdown",
   "metadata": {
    "cell_style": "split"
   },
   "source": [
    "**Knoten:**\n",
    "- Programmieren lernen\n",
    "- AuD bestehen\n",
    "- Zur Schule gehen\n",
    "- Abitur\n",
    "- Bachelor-Abschluss\n",
    "- Master-Abschluss\n",
    "- Nobel-Preis gewinnen"
   ]
  },
  {
   "cell_type": "markdown",
   "metadata": {
    "cell_style": "split"
   },
   "source": [
    "**Kanten:**\n",
    "- Programmieren lernen --> AuD bestehen\n",
    "- Abitur --> Bachelor-Abschluss\n",
    "- AuD bestehen --> Bachelor-Abschluss\n",
    "- Bachelor-Abschluss --> Master-Abschluss\n",
    "- Zur Schule gehen --> Abitur"
   ]
  },
  {
   "cell_type": "markdown",
   "metadata": {
    "cell_style": "center",
    "slideshow": {
     "slide_type": "-"
    }
   },
   "source": [
    "<img src=\"./img/dags_bsp2.jpg\" width=\"45%\" align=\"left\">\n"
   ]
  },
  {
   "cell_type": "markdown",
   "metadata": {
    "slideshow": {
     "slide_type": "slide"
    }
   },
   "source": [
    "# Directed Acyclic Graphs (DAGs)\n",
    "\n",
    "## Kürzeste Wege\n",
    "\n",
    "- In Graphen kürzeste Wege zwischen Knoten oft relevant\n",
    "- Bereits kennengelernt: Dijkstra (und Breitensuche)\n",
    "- Verbessertes Verfahren für DAGs möglich\n",
    "- Ziel ist geringe Laufzeit"
   ]
  },
  {
   "cell_type": "markdown",
   "metadata": {
    "slideshow": {
     "slide_type": "slide"
    }
   },
   "source": [
    "# Directed Acyclic Graphs (DAGs)\n",
    "\n",
    "## Kürzeste Wege\n",
    "\n",
    "- Ähnlicher Ansatz wie bei Dijkstra: Knoten können temporär und permanent gelabelt werden\n",
    "- Durchlaufen aller Knoten und jeweils Aktualisierung der Nachfolger\n",
    "\n",
    "\n",
    "- **Aber:** Nutzung der topologischen Sortierung:\n",
    "    - Es muss nicht in jedem Schritt nächster Knoten zu Start gefunden werden\n",
    "    - Wenn topologische Sortierung vorliegt, existiert Reihenfolge der Knoten so, dass alle Nachfolger in der Reihenfolge **nach** ihren Vorgängern kommen\n",
    "    - Dadurch kann topologische Sortierung als Reihenfolge der Knoten-Abarbeitung genutzt werden ohne Gefahr einzugehen, dass permanent gelabelter Knoten noch geändert werden muss"
   ]
  },
  {
   "cell_type": "markdown",
   "metadata": {
    "slideshow": {
     "slide_type": "slide"
    }
   },
   "source": [
    "# Directed Acyclic Graphs (DAGs)\n",
    "\n",
    "## Kürzeste Wege - Algorithmus\n",
    "\n",
    "- (ggf. Vorbereitung: DAG topologisch sortieren)\n",
    "\n",
    "- Schritt 0: Setze Entfernung für alle Knoten auf $\\infty$, außer Startknoten (Entfernung $0$)\n",
    "\n",
    "\n",
    "- Schritt 1: Nimm den nächsten Knoten aus der topologisch sortierten Liste  \n",
    "- Schritt 2: Aktualisiere alle Nachfolger-Knoten, wenn Weg über betrachteten Knoten kürzer ist  \n",
    "\n",
    "  \n",
    "- Wiederhole Schritte 1 und 2 solange, bis Liste leer ist"
   ]
  },
  {
   "cell_type": "markdown",
   "metadata": {
    "slideshow": {
     "slide_type": "slide"
    }
   },
   "source": [
    "# Directed Acyclic Graphs (DAGs)\n",
    "\n",
    "## Kürzeste Wege - Beispiel\n",
    "\n",
    "> <div class=\"alert alert-block alert-info\">\n",
    "<b>Wende den Algorithmus für kürzeste Wege in DAGs auf den folgenden Graphen (von a zu d) an:</b>\n",
    "</div>\n",
    "\n",
    "### Topologische Sortierung: ```[a, c, e, f, b, g, d]```\n",
    "\n",
    "<img src=\"./img/dags_bsp2.jpg\" width=\"45%\" align=\"left\">"
   ]
  },
  {
   "cell_type": "markdown",
   "metadata": {},
   "source": [
    "| Knoten | Entfernung Schritt 0 |Entfernung Schritt 1 | Entfernung Schritt 2 | Entfernung Schritt 3 | Entfernung Schritt 4 | Entfernung Schritt 5 |\n",
    "| :---: | :---: | :---: | :---: | :---: | :---: | :---: |\n",
    "| **a** | 0        |    |    |    |   \n",
    "| **b** | $\\infty$ |    |    |    |   \n",
    "| **c** | $\\infty$ |    |    |    |   \n",
    "| **d** | $\\infty$ |    |    |    |   \n",
    "| **e** | $\\infty$ |    |    |    |   \n",
    "| **f** | $\\infty$ |    |    |    |   \n",
    "| **g** | $\\infty$ |    |    |    |   "
   ]
  },
  {
   "cell_type": "markdown",
   "metadata": {
    "slideshow": {
     "slide_type": "slide"
    }
   },
   "source": [
    "# Recap\n",
    "\n",
    "> <div class=\"alert alert-block alert-info\">\n",
    "<b>Welche Laufzeit hat der Dijkstra-Algorithmus? </b>\n",
    "</div>\n",
    "\n",
    "> <div class=\"alert alert-block alert-info\">\n",
    "<b>Welche Laufzeit hat der kürzeste Wege Algorithmus in DAGs?</b>\n",
    "</div>\n",
    "\n",
    "> <div class=\"alert alert-block alert-info\">\n",
    "<b>Was versteht man unter einer topologischen Sortierung und wofür kann sie verwendet werden?</b>\n",
    "</div>\n"
   ]
  },
  {
   "cell_type": "markdown",
   "metadata": {
    "slideshow": {
     "slide_type": "slide"
    }
   },
   "source": [
    "# Vielen Dank für Eure Aufmerksamkeit"
   ]
  }
 ],
 "metadata": {
  "celltoolbar": "Slideshow",
  "kernelspec": {
   "display_name": "Python 3",
   "language": "python",
   "name": "python3"
  },
  "language_info": {
   "codemirror_mode": {
    "name": "ipython",
    "version": 3
   },
   "file_extension": ".py",
   "mimetype": "text/x-python",
   "name": "python",
   "nbconvert_exporter": "python",
   "pygments_lexer": "ipython3",
   "version": "3.7.4"
  },
  "toc": {
   "base_numbering": 1,
   "nav_menu": {},
   "number_sections": false,
   "sideBar": true,
   "skip_h1_title": false,
   "title_cell": "Table of Contents",
   "title_sidebar": "Contents",
   "toc_cell": false,
   "toc_position": {},
   "toc_section_display": true,
   "toc_window_display": false
  },
  "varInspector": {
   "cols": {
    "lenName": 16,
    "lenType": 16,
    "lenVar": 40
   },
   "kernels_config": {
    "python": {
     "delete_cmd_postfix": "",
     "delete_cmd_prefix": "del ",
     "library": "var_list.py",
     "varRefreshCmd": "print(var_dic_list())"
    },
    "r": {
     "delete_cmd_postfix": ") ",
     "delete_cmd_prefix": "rm(",
     "library": "var_list.r",
     "varRefreshCmd": "cat(var_dic_list()) "
    }
   },
   "types_to_exclude": [
    "module",
    "function",
    "builtin_function_or_method",
    "instance",
    "_Feature"
   ],
   "window_display": false
  }
 },
 "nbformat": 4,
 "nbformat_minor": 2
}
