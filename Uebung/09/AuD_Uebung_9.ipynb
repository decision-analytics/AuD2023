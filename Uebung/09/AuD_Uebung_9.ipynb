{
 "cells": [
  {
   "cell_type": "markdown",
   "metadata": {
    "slideshow": {
     "slide_type": "slide"
    }
   },
   "source": [
    "<img src=\"./img/logo_wiwi.png\" width=\"23%\" align=\"left\">\n",
    "<img src=\"./img/decision_analytics_logo.png\" width=\"17%\" align=\"right\">\n",
    "\n",
    "<br><br><br><br><br><br><br><br>\n",
    "\n",
    "\n",
    "## Algorithmen und Datenstrukturen\n",
    "Wintersemester 2023/24\n",
    "\n",
    "\n",
    "# Übung 9: Breitensuche und der Dijkstra-Algorithmus\n",
    "\n",
    "\n",
    "<br><br><br>\n",
    "J-Prof. Dr. Michael Römer, Till Porrmann "
   ]
  },
  {
   "cell_type": "markdown",
   "metadata": {
    "slideshow": {
     "slide_type": "slide"
    }
   },
   "source": [
    "# Überblick\n",
    "\n",
    "0. Übungszettel\n",
    "1. Wiederholung Vorlesung\n",
    "2. Breitensuche\n",
    "3. Dijkstra-Algorithmus"
   ]
  },
  {
   "cell_type": "markdown",
   "metadata": {
    "slideshow": {
     "slide_type": "slide"
    }
   },
   "source": [
    "# 0. Übungszettel\n",
    "## Termine\n",
    "\n",
    "| ÜZ Nr. | Bearbeitungszeitraum | Präsentation | Thema (voraussichtlich) | Vorstellende |\n",
    "| :-: | :-: | :-: | :-: | :-: |\n",
    "| 1 | 19.10.-28.10. | 02.11. | Grundlagen Python / Algorithmen      |   Michelle+Dennis     |\n",
    "| 2 | 02.11.-11.11. | 16.11. | Datenstrukturen / Sortierverfahren   |   Mohammed+Denis|\n",
    "| 3 | 16.11.-25.11  | 30.11  | Rekursion                            |Daniela+Erik     |\n",
    "| **4** | **30.11.-09.12.** | **14.12.** | **Quicksort / Hash-Tabellen**  |   **Levin+Emre**     |\n",
    "| 5 | 14.12.-22.12. | 11.01. | Graphen / Kürzeste Wege Verfahren    |   Dmytro+Lena     |\n",
    "| 6 | 11.01.-20.01. | 25.01. | DAGs / Greedy-Algorithmen            |   Rehman+Lucas     |\n",
    "| 7 | 25.01.-31.01. | 01.02  | Dynamische Programmierung            |   Lukas+Sven+Espen     |"
   ]
  },
  {
   "cell_type": "markdown",
   "metadata": {
    "slideshow": {
     "slide_type": "slide"
    }
   },
   "source": [
    "# Übungszettel - Präsentation\n"
   ]
  },
  {
   "cell_type": "markdown",
   "metadata": {
    "slideshow": {
     "slide_type": "slide"
    }
   },
   "source": [
    "# 1. Wiederholung Vorlesung"
   ]
  },
  {
   "cell_type": "markdown",
   "metadata": {
    "slideshow": {
     "slide_type": "slide"
    }
   },
   "source": [
    "# Wiederholung Vorlesung\n",
    "## Breitensuche \n",
    "\n",
    "- Suche nach kürzesten/besten Pfaden ist eine wichtige Aufgabe in Graphen\n",
    "- Einfache Möglichkeit dazu: Breitensuche\n",
    "- Frage bei Breitensuche ist: wie viele **Schritte** brauchen wir mindestens, um von einem Knoten (Start) aus einen bestimmten anderen Knoten (Ziel) zu erreichen.\n",
    "- Dafür suchen wir vom Start aus alle benachbarten Knoten\n",
    "- Anschließend suchen wir von allen gefundenen Nachbarn aus deren Nachbarn\n",
    "- Wenn wir den Zielknoten finden, ist der Algorithmus abgeschlossen"
   ]
  },
  {
   "cell_type": "markdown",
   "metadata": {
    "slideshow": {
     "slide_type": "slide"
    }
   },
   "source": [
    "# Wiederholung Vorlesung\n",
    "## Dijkstra-Algorithmus \n",
    "\n",
    "\n",
    "- Der Dijkstra-Algorithmus sucht nach kürzesten Wegen\n",
    "- Dabei nicht die Anzahl der Schritte relevant, sondern der Aufwand, der mit den Schritten verbunden ist (Kantengewichte) --> Voraussetzung ist gewichteter Graph\n",
    "\n",
    "**Idee:**\n",
    "- Vom Startknoten aus wird geschaut, wie weit die direkt verbundenen Knoten entfernt sind \n",
    "- Wir gehen vom nächstgelegenen Knoten aus und bestimmen die Entfernungen seiner Nachbarn **zum Startknoten**\n",
    "- Danach wird er als abgeschlossen markiert und wir wiederholen den Vorgang mit dem Knoten, der jetzt am nächsten zum Startknoten ist\n",
    "- Wenn alle Knoten abgeschlossen sind, hat der Algorithmus den kürzesten Weg gefunden"
   ]
  },
  {
   "cell_type": "markdown",
   "metadata": {
    "slideshow": {
     "slide_type": "slide"
    }
   },
   "source": [
    "# 2. Breitensuche\n"
   ]
  },
  {
   "cell_type": "markdown",
   "metadata": {
    "slideshow": {
     "slide_type": "slide"
    }
   },
   "source": [
    "# Breitensuche\n",
    "\n",
    "## Ablauf\n",
    "\n",
    "<img src=\"./img/20_algorithmus_gesamt.png\" width=\"50%\" align=\"middle\">"
   ]
  },
  {
   "cell_type": "markdown",
   "metadata": {
    "slideshow": {
     "slide_type": "slide"
    }
   },
   "source": [
    "# Breitensuche\n",
    "## Beispiel\n",
    "\n",
    "> <div class=\"alert alert-block alert-info\">\n",
    "<b>Nutzt die Breitensuche, um im folgenden Graph einen Pfad vom Startknoten (a) zum Zielknoten (f) zu finden.</b>\n",
    "</div>\n",
    "\n",
    "<img src=\"./img/dijkstra_aufgabe.jpg\" width=\"65%\" align=\"middle\">"
   ]
  },
  {
   "cell_type": "markdown",
   "metadata": {
    "slideshow": {
     "slide_type": "slide"
    }
   },
   "source": [
    "# 3. Dijkstra\n"
   ]
  },
  {
   "cell_type": "markdown",
   "metadata": {
    "slideshow": {
     "slide_type": "slide"
    }
   },
   "source": [
    "# Dijkstra-Algorithmus\n",
    "\n",
    "## Allgemein\n",
    "\n",
    "- Algorithmus zum Finden des kürzesten Weges zwischen zwei beliebigen Knoten in einem Graph\n",
    "- Knoten werden gelabelt (temporäre und permanente Labels)\n",
    "- Alle Knoten werden im Laufe des Algorithmus als Ausgangspunkt genommen (je nach Implementierung ggf nur relevante Teilmenge)\n",
    "\n",
    "\n",
    "- Visualisierung zum Verständnis sehr hilfreich\n",
    "- Gutes [Online-Tool](https://algorithms.discrete.ma.tum.de/graph-algorithms/spp-dijkstra/index_en.html)\n",
    "- Ablauf im Graph und in den Tabellen (siehe Vorlesung) nachvollziehbar"
   ]
  },
  {
   "cell_type": "markdown",
   "metadata": {
    "slideshow": {
     "slide_type": "slide"
    }
   },
   "source": [
    "# Dijkstra-Algorithmus\n",
    "\n",
    "## Ablauf\n",
    "\n",
    "\n",
    "**Der Algorithus im Überblick:**\n",
    "0. Setze die Startwerte für die Knoten-Labels\n",
    "\n",
    "\n",
    "1. Finde den Knoten, der dem Start am nächsten ist und noch nicht bearbeitet wurde\n",
    "2. Aktualisiere die Labels seiner Nachfolger\n",
    "\n",
    "Wiederhole 1. und 2., bis alle Knoten abgearbeitet wurden\n",
    "\n",
    "<br>\n",
    "\n",
    "**Ablauf von Schritt 2:**\n",
    "- Für alle Nachfolger des Knotens:\n",
    "- 2.1 Berechne eigenes Label + Distanz zum Nachfolger\n",
    "- 2.2 Wenn Ergebnis kleiner ist als Label des Nachfolgers:\n",
    "    - 2.2a Setze Ergebnis als neues Label des Nachfolgers"
   ]
  },
  {
   "cell_type": "markdown",
   "metadata": {
    "slideshow": {
     "slide_type": "slide"
    }
   },
   "source": [
    "# Breitensuche\n",
    "## Beispiel\n",
    "\n",
    "> <div class=\"alert alert-block alert-info\">\n",
    "<b>Nutzt den Dijkstra-Algorithmus, um im folgenden Graph den kürzesten Pfad vom Startknoten (a) zum Zielknoten (f) zu finden.</b>\n",
    "</div>\n",
    "\n",
    "<img src=\"./img/dijkstra_aufgabe.jpg\" width=\"65%\" align=\"middle\">"
   ]
  },
  {
   "cell_type": "markdown",
   "metadata": {
    "slideshow": {
     "slide_type": "slide"
    }
   },
   "source": [
    "# Recap\n",
    "\n",
    "> <div class=\"alert alert-block alert-info\">\n",
    "<b>Was sind die Unterschiede zwischen Breitensuche und Dijkstra-Algorithmus?</b>\n",
    "</div>\n",
    "\n",
    "> <div class=\"alert alert-block alert-info\">\n",
    "<b>Findet der Dijkstra-Algorithmus immer den kürzesten Weg?</b>\n",
    "</div>\n"
   ]
  },
  {
   "cell_type": "markdown",
   "metadata": {
    "slideshow": {
     "slide_type": "slide"
    }
   },
   "source": [
    "# Vielen Dank für Eure Aufmerksamkeit"
   ]
  }
 ],
 "metadata": {
  "celltoolbar": "Slideshow",
  "kernelspec": {
   "display_name": "Python 3",
   "language": "python",
   "name": "python3"
  },
  "language_info": {
   "codemirror_mode": {
    "name": "ipython",
    "version": 3
   },
   "file_extension": ".py",
   "mimetype": "text/x-python",
   "name": "python",
   "nbconvert_exporter": "python",
   "pygments_lexer": "ipython3",
   "version": "3.7.4"
  },
  "toc": {
   "base_numbering": 1,
   "nav_menu": {},
   "number_sections": false,
   "sideBar": true,
   "skip_h1_title": false,
   "title_cell": "Table of Contents",
   "title_sidebar": "Contents",
   "toc_cell": false,
   "toc_position": {},
   "toc_section_display": true,
   "toc_window_display": false
  },
  "varInspector": {
   "cols": {
    "lenName": 16,
    "lenType": 16,
    "lenVar": 40
   },
   "kernels_config": {
    "python": {
     "delete_cmd_postfix": "",
     "delete_cmd_prefix": "del ",
     "library": "var_list.py",
     "varRefreshCmd": "print(var_dic_list())"
    },
    "r": {
     "delete_cmd_postfix": ") ",
     "delete_cmd_prefix": "rm(",
     "library": "var_list.r",
     "varRefreshCmd": "cat(var_dic_list()) "
    }
   },
   "types_to_exclude": [
    "module",
    "function",
    "builtin_function_or_method",
    "instance",
    "_Feature"
   ],
   "window_display": false
  }
 },
 "nbformat": 4,
 "nbformat_minor": 2
}
