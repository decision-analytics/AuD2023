{
 "cells": [
  {
   "cell_type": "markdown",
   "metadata": {
    "slideshow": {
     "slide_type": "slide"
    }
   },
   "source": [
    "<img src=\"./img/logo_wiwi.png\" width=\"23%\" align=\"left\">\n",
    "<img src=\"./img/decision_analytics_logo.png\" width=\"17%\" align=\"right\">\n",
    "\n",
    "<br><br><br><br><br><br><br><br><br><br>\n",
    "\n",
    "\n",
    "## Algorithmen und Datenstrukturen\n",
    "Wintersemester 2023/24\n",
    "\n",
    "\n",
    "# Übung 2: Algorithmen in Python\n",
    "\n",
    "\n",
    "<br><br><br>\n",
    "J-Prof. Dr. Michael Römer, Till Porrmann "
   ]
  },
  {
   "cell_type": "markdown",
   "metadata": {
    "slideshow": {
     "slide_type": "slide"
    }
   },
   "source": [
    "# 0. Organisatorisch\n",
    "\n",
    "### Auslosung Termine zur Vorstellung der ÜZ\n"
   ]
  },
  {
   "cell_type": "code",
   "execution_count": null,
   "metadata": {
    "slideshow": {
     "slide_type": "skip"
    }
   },
   "outputs": [],
   "source": [
    "import random\n",
    "\n",
    "def losen_2er_paare(input_liste,already_put=2):\n",
    "    liste = input_liste.copy()\n",
    "    for i,j in enumerate(range(len(input_liste))):\n",
    "        print('ÜZ Nr.',((i+already_put)//2+1),'wird von', liste.pop(random.randint(0,len(liste)-1)),'vorgestellt.')"
   ]
  },
  {
   "cell_type": "code",
   "execution_count": null,
   "metadata": {},
   "outputs": [],
   "source": [
    "so_früh_wie_möglich_liste = ['Daniela', 'Denis', 'Emre', 'Erik', 'Levin', 'Mohammed', '']\n",
    "egal_wann_liste = ['aa', 'bb', 'cc', 'dd', 'ee', 'ff', 'gg']"
   ]
  },
  {
   "cell_type": "code",
   "execution_count": null,
   "metadata": {},
   "outputs": [],
   "source": [
    "losen_2er_paare(so_früh_wie_möglich_liste)"
   ]
  },
  {
   "cell_type": "markdown",
   "metadata": {},
   "source": [
    "| ÜZ Nr. | Bearbeitungszeitraum | Thema (voraussichtlich) | Vorstellende |\n",
    "| --- | --- | --- | --- |\n",
    "| 1 | 19.10.-27.10. | Grundlagen Python / Algorithmen      |   Michelle+Dennis     |\n",
    "| 2 | 02.11.-10.11. | Datenstrukturen / Sortierverfahren   |   +     |\n",
    "| 3 | 16.11.-24.11. | Rekursion                            |   +     |\n",
    "| 4 | 30.11.-08.12. | Hash-Tabellen                        |   +     |\n",
    "| 5 | 14.12.-22.12. | Graphen / Kürzeste Wege Verfahren    |   +     |\n",
    "| 6 | 11.01.-19.01. | DAGs / Greedy-Algorithmen            |   +     |\n",
    "| (7) | (25.01.-31.01.) | (Dynamische Programmierung)      |   +     |"
   ]
  },
  {
   "cell_type": "markdown",
   "metadata": {
    "slideshow": {
     "slide_type": "slide"
    }
   },
   "source": [
    "# Überblick\n",
    "\n",
    "1. Wiederholung Vorlesung\n",
    "2. Logarithmen\n",
    "3. Python-Programmierung\n",
    "4. Ausblick Sortierung"
   ]
  },
  {
   "cell_type": "markdown",
   "metadata": {
    "slideshow": {
     "slide_type": "slide"
    }
   },
   "source": [
    "# 1. Wiederholung Inhalte Vorlesung\n",
    "\n",
    "- Überblick\n",
    "- Codebeispiele"
   ]
  },
  {
   "cell_type": "markdown",
   "metadata": {
    "slideshow": {
     "slide_type": "slide"
    }
   },
   "source": [
    "# Wiederholung Inhalte Vorlesung\n",
    "## Überblick\n",
    "\n",
    "#### Was ist ein Algorithmus?\n",
    "\n",
    "<div class=\"alert alert-block alert-success\">\n",
    "    \n",
    "#### (Vereinfachte) Definition:\n",
    "Ein Algorithmus ist eine **Reihe von Schritten/Anweisungen**, um **deterministisch** eine **Aufgabe** auszuführen / zu lösen / zu bewältigen\n",
    "\n",
    "- **Reihe von Anweisungen**: eine Folge von wohldefinierten Schritten, die nacheinander ausgeführt werden sollen.\n",
    "- **deterministisch**: die gleiche Folge von Schritte muss jedes Mal zum gleichen Ergebnis kommen.\n",
    "- **Aufgabe**: ein vorher bekanntes Ziel soll erreicht werden.\n",
    "</div>\n",
    "\n",
    "#### Algorithmisches Denken: \n",
    "- Schritt für Schritt voran kommen\n",
    "- Anweisungen genau beschreiben können\n",
    "- Erreichung des Ziels vor Augen haben\n"
   ]
  },
  {
   "cell_type": "markdown",
   "metadata": {
    "slideshow": {
     "slide_type": "slide"
    }
   },
   "source": [
    "# Wiederholung Inhalte Vorlesung\n",
    "## Überblick\n",
    "\n",
    "#### Suchprobleme\n",
    "\n",
    "<div class=\"alert alert-block alert-success\">\n",
    "\n",
    "### Gegeben:\n",
    "- einen zu suchenden *Wert* $x$ (z.B. eine Zahl, ein Buchstabe, ein Name)\n",
    "- eine Auflistung von vielen Werten (und ggf. zugehörigen Informationen)\n",
    "\n",
    "### Gesucht:\n",
    "- die Position (und damit ggf. die Möglichkeit, weitere Informationen abzurufen) und\n",
    "- damit verbunden die Information, ob der gesuchte Wert vorhanden ist\n",
    "\n",
    "</div>\n",
    "\n"
   ]
  },
  {
   "cell_type": "markdown",
   "metadata": {
    "heading_collapsed": true,
    "slideshow": {
     "slide_type": "slide"
    }
   },
   "source": [
    "# Wiederholung Inhalte Vorlesung\n",
    "## Überblick\n",
    "\n",
    "#### Linear Search vs Binary Search\n",
    "\n",
    "\n",
    "><div class=\"alert alert-block alert-info\">\n",
    "<b>Wendet Binary Search und Linear Search an, um die Zahl XX zu finden!</b></div>"
   ]
  },
  {
   "cell_type": "markdown",
   "metadata": {
    "slideshow": {
     "slide_type": "slide"
    }
   },
   "source": [
    "# Wiederholung Inhalte Vorlesung\n",
    "## Überblick\n",
    "\n",
    "#### Linear Search vs Binary Search\n",
    "\n",
    "\n",
    "><div class=\"alert alert-block alert-info\">\n",
    "<b>Welche Eigenschaften/ Vor- und Nachteile haben die beiden Verfahren?</b></div>"
   ]
  },
  {
   "cell_type": "markdown",
   "metadata": {
    "slideshow": {
     "slide_type": "-"
    }
   },
   "source": [
    "|        |Linear Search|Binary Search|\n",
    "|:----:|:----:|:----:|\n",
    "| Schwierigkeit |     |     |\n",
    "| Bedingungen   |     |     |\n",
    "| Laufzeitkomplexität   |     |     |"
   ]
  },
  {
   "cell_type": "markdown",
   "metadata": {
    "slideshow": {
     "slide_type": "slide"
    }
   },
   "source": [
    "# Wiederholung Inhalte Vorlesung\n",
    "## Codebeispiele"
   ]
  },
  {
   "cell_type": "code",
   "execution_count": null,
   "metadata": {},
   "outputs": [],
   "source": [
    "def linear_search(liste, wert):\n",
    "    for index in range(len(liste)):\n",
    "        if liste[index] == wert:\n",
    "            print(\"Wert\", wert, \"wurde gefunden an Index\", index)\n",
    "            return index\n",
    "    print(\"Wert\", wert, \"wurde nicht gefunden!\")\n",
    "    return None"
   ]
  },
  {
   "cell_type": "code",
   "execution_count": null,
   "metadata": {},
   "outputs": [],
   "source": [
    "zahlenliste1 = [1, 4, 6, 8, 11, 13, 16]\n",
    "gesuchter_wert = 13\n",
    "index_wert = linear_search(zahlenliste1, gesuchter_wert)\n",
    "\n",
    "print(index_wert)"
   ]
  },
  {
   "cell_type": "markdown",
   "metadata": {
    "slideshow": {
     "slide_type": "slide"
    }
   },
   "source": [
    "# 2. Logarithmen"
   ]
  },
  {
   "cell_type": "markdown",
   "metadata": {
    "slideshow": {
     "slide_type": "slide"
    }
   },
   "source": [
    "# Logarithmen"
   ]
  },
  {
   "cell_type": "markdown",
   "metadata": {
    "slideshow": {
     "slide_type": "-"
    }
   },
   "source": [
    "- \"Umkehr\" der Exponentialfunktion\n",
    "- Exponentielles Wachstum $\\rightarrow$ Sehr schnell\n",
    "- Logarithmisches Wachstum $\\rightarrow$ Sehr langsam\n",
    "\n",
    "<img src=\"./img/00_Logs.png\" width=\"40%\" align=\"middle\">"
   ]
  },
  {
   "cell_type": "markdown",
   "metadata": {
    "slideshow": {
     "slide_type": "slide"
    }
   },
   "source": [
    "https://www.khanacademy.org/math/algebra2/x2ec2f6f830c9fb89:logs/x2ec2f6f830c9fb89:log-intro/v/logarithms"
   ]
  },
  {
   "cell_type": "markdown",
   "metadata": {
    "slideshow": {
     "slide_type": "slide"
    }
   },
   "source": [
    "## Logarithmen in Python"
   ]
  },
  {
   "cell_type": "markdown",
   "metadata": {},
   "source": [
    "- Potenzieren mit ```x**y```"
   ]
  },
  {
   "cell_type": "markdown",
   "metadata": {},
   "source": [
    "><div class=\"alert alert-block alert-info\">\n",
    "<b>Wie kann man Logarithmen in Python implementieren?</b></div>"
   ]
  },
  {
   "cell_type": "code",
   "execution_count": null,
   "metadata": {},
   "outputs": [],
   "source": []
  },
  {
   "cell_type": "markdown",
   "metadata": {
    "slideshow": {
     "slide_type": "slide"
    }
   },
   "source": [
    "# 3. Weitere Python-Programmierung\n",
    "\n",
    "- Listen und Schleifen\n",
    "- Funktionen\n",
    "- Weiteres\n",
    "- Binäre Suche"
   ]
  },
  {
   "cell_type": "markdown",
   "metadata": {
    "slideshow": {
     "slide_type": "slide"
    }
   },
   "source": [
    "# Weitere Python-Programmierung\n",
    "\n",
    "## Listen und Schleifen\n",
    "\n"
   ]
  },
  {
   "cell_type": "markdown",
   "metadata": {
    "slideshow": {
     "slide_type": "-"
    }
   },
   "source": [
    "### range() / len() / enumerate()"
   ]
  },
  {
   "cell_type": "code",
   "execution_count": null,
   "metadata": {
    "slideshow": {
     "slide_type": "-"
    }
   },
   "outputs": [],
   "source": [
    "zahlen1 = [0,1,2,3,4,5,6,7,8,9]\n",
    "Städte = ['Bielefeld','New York','Cambridge','Hamburg','Rom','Boston','Herford','Denver','Paderborn','Frankfurt']"
   ]
  },
  {
   "cell_type": "code",
   "execution_count": null,
   "metadata": {},
   "outputs": [],
   "source": []
  },
  {
   "cell_type": "markdown",
   "metadata": {
    "slideshow": {
     "slide_type": "slide"
    }
   },
   "source": [
    "# Weitere Python-Programmierung\n",
    "\n",
    "## Listen und Schleifen\n",
    "\n"
   ]
  },
  {
   "cell_type": "markdown",
   "metadata": {
    "slideshow": {
     "slide_type": "-"
    }
   },
   "source": [
    "### Slicing"
   ]
  },
  {
   "cell_type": "code",
   "execution_count": null,
   "metadata": {
    "slideshow": {
     "slide_type": "-"
    }
   },
   "outputs": [],
   "source": [
    "Städte = ['Bielefeld','New York','Cambridge','Hamburg','Rom','Boston','Herford','Denver','Paderborn','Frankfurt']"
   ]
  },
  {
   "cell_type": "code",
   "execution_count": null,
   "metadata": {},
   "outputs": [],
   "source": []
  },
  {
   "cell_type": "markdown",
   "metadata": {
    "slideshow": {
     "slide_type": "slide"
    }
   },
   "source": [
    "# Weitere Python-Programmierung\n",
    "\n",
    "## Listen und Schleifen\n",
    "\n"
   ]
  },
  {
   "cell_type": "markdown",
   "metadata": {
    "slideshow": {
     "slide_type": "-"
    }
   },
   "source": [
    "### Verschachtelte Schleifen"
   ]
  },
  {
   "cell_type": "code",
   "execution_count": null,
   "metadata": {
    "slideshow": {
     "slide_type": "-"
    }
   },
   "outputs": [],
   "source": [
    "*\n",
    "**\n",
    "***\n",
    "****\n",
    "*\n",
    "**\n",
    "***\n",
    "****\n",
    "*\n",
    "**\n",
    "***\n",
    "****"
   ]
  },
  {
   "cell_type": "markdown",
   "metadata": {},
   "source": [
    "><div class=\"alert alert-block alert-info\">\n",
    "<b>Probiert zwei Schleifen ineinander zu verschachteln, sodass dieser Output entsteht.\n",
    "</b></div>"
   ]
  },
  {
   "cell_type": "code",
   "execution_count": null,
   "metadata": {},
   "outputs": [],
   "source": []
  },
  {
   "cell_type": "markdown",
   "metadata": {
    "slideshow": {
     "slide_type": "slide"
    }
   },
   "source": [
    "# Weitere Python-Programmierung\n",
    "\n",
    "## Funktionen"
   ]
  },
  {
   "cell_type": "markdown",
   "metadata": {
    "slideshow": {
     "slide_type": "slide"
    }
   },
   "source": [
    "### Funktionen\n",
    "\n",
    "- Teil des Codes, der immer wieder benutzt werden kann\n",
    "- Kann einen Wiedergabewert haben ( ```return```)\n",
    "- Nutzung von Funktionen mit: ```FUNKTIONSNAME(*Argumente*)```\n",
    "- Funktionen werden vorher definiert im Stil von \n",
    "\n",
    "```\n",
    "def FUNKTIONSNAME(*Argumente*):\n",
    "    CODE DER FUNKTION\n",
    "RESTLICHER CODE\n",
    "```"
   ]
  },
  {
   "cell_type": "markdown",
   "metadata": {
    "slideshow": {
     "slide_type": "slide"
    }
   },
   "source": [
    "# Weitere Python-Programmierung\n",
    "\n",
    "## Funktionen"
   ]
  },
  {
   "cell_type": "code",
   "execution_count": null,
   "metadata": {
    "slideshow": {
     "slide_type": "-"
    }
   },
   "outputs": [],
   "source": [
    "zahlen1 = [0,1,2,3,4,5,6,7,8,9]\n",
    "Städte = ['Bielefeld','New York','Cambridge','Hamburg','Rom','Boston','Herford','Denver','Paderborn','Frankfurt']"
   ]
  },
  {
   "cell_type": "code",
   "execution_count": null,
   "metadata": {
    "slideshow": {
     "slide_type": "-"
    }
   },
   "outputs": [],
   "source": [
    "print('Die Liste',zahlen1,'hat die Elemente:')\n",
    "for i,element in enumerate(zahlen1):   \n",
    "    print('Das',i,'. Element ist:',element)\n",
    "print('-'*50)    \n",
    "print('Insgesamt hat die Liste', len(zahlen1), 'Elemente')\n",
    "print('-'*100)\n",
    "\n",
    "\n",
    "print('Die Liste',Städte,'hat die Elemente:')\n",
    "for i,element in enumerate(Städte):    \n",
    "    print('Das',i,'. Element ist:',element)\n",
    "print('-'*50)    \n",
    "print('Insgesamt hat die Liste', len(Städte), 'Elemente')\n",
    "print('-'*100)"
   ]
  },
  {
   "cell_type": "markdown",
   "metadata": {
    "slideshow": {
     "slide_type": "slide"
    }
   },
   "source": [
    "# Weitere Python-Programmierung\n",
    "\n",
    "## Funktionen"
   ]
  },
  {
   "cell_type": "code",
   "execution_count": null,
   "metadata": {
    "slideshow": {
     "slide_type": "-"
    }
   },
   "outputs": [],
   "source": [
    "zahlen1 = [0,1,2,3,4,5,6,7,8,9]\n",
    "Städte = ['Bielefeld','New York','Cambridge','Hamburg','Rom','Boston','Herford','Denver','Paderborn','Frankfurt']"
   ]
  },
  {
   "cell_type": "markdown",
   "metadata": {
    "slideshow": {
     "slide_type": "-"
    }
   },
   "source": [
    "><div class=\"alert alert-block alert-info\">\n",
    "<b>Schreibt eine Funktion, die den gleichen Effekt wie die oben genutzten Schleifen hat. \n",
    "</b></div>"
   ]
  },
  {
   "cell_type": "code",
   "execution_count": null,
   "metadata": {},
   "outputs": [],
   "source": []
  },
  {
   "cell_type": "markdown",
   "metadata": {
    "slideshow": {
     "slide_type": "slide"
    }
   },
   "source": [
    "# Weitere Python-Programmierung\n",
    "\n",
    "## Weiteres"
   ]
  },
  {
   "cell_type": "markdown",
   "metadata": {},
   "source": [
    "### ```+=``` "
   ]
  },
  {
   "cell_type": "code",
   "execution_count": null,
   "metadata": {
    "slideshow": {
     "slide_type": "-"
    }
   },
   "outputs": [],
   "source": []
  },
  {
   "cell_type": "markdown",
   "metadata": {},
   "source": [
    "### ```while```-Schleifen"
   ]
  },
  {
   "cell_type": "code",
   "execution_count": null,
   "metadata": {},
   "outputs": [],
   "source": [
    "# Summe über Zahlenliste"
   ]
  },
  {
   "cell_type": "markdown",
   "metadata": {
    "slideshow": {
     "slide_type": "slide"
    }
   },
   "source": [
    "# Weitere Python-Programmierung\n",
    "\n",
    "## Weiteres"
   ]
  },
  {
   "cell_type": "markdown",
   "metadata": {},
   "source": [
    "### ```while```-Schleifen\n",
    "\n",
    "><div class=\"alert alert-block alert-info\">\n",
    "<b>Schreibe eine Funktion die überprüft, wie oft eine Zahl durch 2 teilbar ist. Nutze dafür eine while-Schleife.\n",
    "</b></div>"
   ]
  },
  {
   "cell_type": "code",
   "execution_count": null,
   "metadata": {},
   "outputs": [],
   "source": []
  },
  {
   "cell_type": "markdown",
   "metadata": {
    "slideshow": {
     "slide_type": "slide"
    }
   },
   "source": [
    "# Weitere Python-Programmierung\n",
    "\n",
    "## Binäre Suche"
   ]
  },
  {
   "cell_type": "markdown",
   "metadata": {},
   "source": [
    "Implementierung der binären Suche aus der Vorlesung:"
   ]
  },
  {
   "cell_type": "code",
   "execution_count": null,
   "metadata": {},
   "outputs": [],
   "source": [
    "def binary_search(liste, wert):\n",
    "    low = 0\n",
    "    high = len(liste)-1    \n",
    "    while low <= high:\n",
    "        mid = (low+high) // 2 # // bedeutet, dass wir eine ganze Zahl bekommen (z.B. 2), und keine Dezimalzahl (z.B. 2.5)\n",
    "        guess = liste[mid]\n",
    "        if guess == wert:\n",
    "            print (\"Wert\", guess, \"wurde gefunden bei Index\", mid)\n",
    "            return mid\n",
    "        if guess > wert:\n",
    "            high = mid - 1\n",
    "        else: \n",
    "            low = mid + 1\n",
    "    print(\"Wert wurde nicht gefunden!\")\n",
    "    return None"
   ]
  },
  {
   "cell_type": "code",
   "execution_count": null,
   "metadata": {
    "slideshow": {
     "slide_type": "-"
    }
   },
   "outputs": [],
   "source": [
    "zahlenliste1 = [1, 4, 6, 8, 11, 13, 16]\n",
    "gesuchter_wert = 13"
   ]
  },
  {
   "cell_type": "code",
   "execution_count": null,
   "metadata": {
    "slideshow": {
     "slide_type": "-"
    }
   },
   "outputs": [],
   "source": [
    "binary_search(zahlenliste1, gesuchter_wert)"
   ]
  },
  {
   "cell_type": "markdown",
   "metadata": {
    "slideshow": {
     "slide_type": "slide"
    }
   },
   "source": [
    "# 4. Ausblick Sortierung\n"
   ]
  },
  {
   "cell_type": "markdown",
   "metadata": {
    "slideshow": {
     "slide_type": "slide"
    }
   },
   "source": [
    "# Ausblick Sortierung\n",
    "\n",
    "><div class=\"alert alert-block alert-info\">\n",
    "<b>Sortiert die gegebenen Zahlen!</b></div>"
   ]
  },
  {
   "cell_type": "markdown",
   "metadata": {
    "slideshow": {
     "slide_type": "slide"
    }
   },
   "source": [
    "# Vielen Dank für Eure Aufmerksamkeit"
   ]
  }
 ],
 "metadata": {
  "celltoolbar": "Slideshow",
  "kernelspec": {
   "display_name": "Python 3",
   "language": "python",
   "name": "python3"
  },
  "language_info": {
   "codemirror_mode": {
    "name": "ipython",
    "version": 3
   },
   "file_extension": ".py",
   "mimetype": "text/x-python",
   "name": "python",
   "nbconvert_exporter": "python",
   "pygments_lexer": "ipython3",
   "version": "3.7.4"
  },
  "toc": {
   "base_numbering": 1,
   "nav_menu": {},
   "number_sections": false,
   "sideBar": true,
   "skip_h1_title": false,
   "title_cell": "Table of Contents",
   "title_sidebar": "Contents",
   "toc_cell": false,
   "toc_position": {},
   "toc_section_display": true,
   "toc_window_display": false
  },
  "varInspector": {
   "cols": {
    "lenName": 16,
    "lenType": 16,
    "lenVar": 40
   },
   "kernels_config": {
    "python": {
     "delete_cmd_postfix": "",
     "delete_cmd_prefix": "del ",
     "library": "var_list.py",
     "varRefreshCmd": "print(var_dic_list())"
    },
    "r": {
     "delete_cmd_postfix": ") ",
     "delete_cmd_prefix": "rm(",
     "library": "var_list.r",
     "varRefreshCmd": "cat(var_dic_list()) "
    }
   },
   "types_to_exclude": [
    "module",
    "function",
    "builtin_function_or_method",
    "instance",
    "_Feature"
   ],
   "window_display": false
  }
 },
 "nbformat": 4,
 "nbformat_minor": 2
}
