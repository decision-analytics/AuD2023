{
 "cells": [
  {
   "cell_type": "markdown",
   "metadata": {
    "slideshow": {
     "slide_type": "slide"
    }
   },
   "source": [
    "<img src=\"./img/logo_wiwi.png\" width=\"23%\" align=\"left\">\n",
    "<img src=\"./img/decision_analytics_logo.png\" width=\"17%\" align=\"right\">\n",
    "\n",
    "<br><br><br><br><br><br><br><br>\n",
    "\n",
    "\n",
    "## Algorithmen und Datenstrukturen\n",
    "Wintersemester 2023/24\n",
    "\n",
    "\n",
    "# Übung 8: Graphen\n",
    "\n",
    "\n",
    "<br><br><br>\n",
    "J-Prof. Dr. Michael Römer, Till Porrmann "
   ]
  },
  {
   "cell_type": "markdown",
   "metadata": {
    "slideshow": {
     "slide_type": "slide"
    }
   },
   "source": [
    "# Überblick\n",
    "\n",
    "0. Organisatorisches und Nachtrag letzte Woche\n",
    "1. Wiederholung Vorlesung\n",
    "2. Konzept\n",
    "3. Implementierung mit Hash-Tabellen\n",
    "4. Implementierung mit NetworkX\n",
    "5. (Breitensuche)"
   ]
  },
  {
   "cell_type": "markdown",
   "metadata": {
    "slideshow": {
     "slide_type": "slide"
    }
   },
   "source": [
    "# Organisatorisches\n",
    "## Klausur\n",
    "\n",
    "- Klausur am 8. Februar 2024 um 10 Uhr in H13\n",
    "- Dauer: 45 Minuten\n",
    "- Aufgaben stilistisch ähnlich wie auf den Übungszettel, tendenziell kürzer\n",
    "\n",
    "\n",
    "> <div class=\"alert alert-block alert-info\">\n",
    "<b>Habt ihr Interesse an einer Probeklausur (im Januar)?</b>\n",
    "</div>"
   ]
  },
  {
   "cell_type": "markdown",
   "metadata": {
    "slideshow": {
     "slide_type": "slide"
    }
   },
   "source": [
    "# Nachtrag letzte Woche\n",
    "\n",
    "\n",
    "- Hash-Tabelle selbst umsetzen\n",
    "\n",
    "- Call Stack (ÜZ 3)\n"
   ]
  },
  {
   "cell_type": "markdown",
   "metadata": {
    "slideshow": {
     "slide_type": "slide"
    }
   },
   "source": [
    "# 1. Wiederholung Vorlesung"
   ]
  },
  {
   "cell_type": "markdown",
   "metadata": {
    "slideshow": {
     "slide_type": "slide"
    }
   },
   "source": [
    "# Wiederholung Vorlesung\n",
    "## Was ist ein Graph?\n",
    "\n",
    "\n",
    "\n",
    "Typischerweise bilden die Graphen **Verbindungen** oder **Beziehungen** zwischen **Elementen** (Knoten ab)\n",
    "\n",
    "#### Beispiel: Alex schuldet Rick Geld beim Pokern \n",
    "\n",
    "<img src=\"./img/06_schulden1.png\" width=\"30%\" align=\"middle\">\n"
   ]
  },
  {
   "cell_type": "markdown",
   "metadata": {
    "slideshow": {
     "slide_type": "slide"
    }
   },
   "source": [
    "# Wiederholung Vorlesung\n",
    "## Breitensuche \n",
    "\n",
    "- Suche nach kürzesten/besten Pfaden ist eine wichtige Aufgabe in Graphen\n",
    "- Einfache Möglichkeit dazu: Breitensuche\n",
    "- Frage bei Breitensuche ist: wie viele **Schritte** brauchen wir mindestens, um von einem Knoten (Start) aus einen bestimmten anderen Knoten (Ziel) zu erreichen.\n",
    "- Dafür suchen wir vom Start aus alle benachbarten Knoten\n",
    "- Anschließend suchen wir von allen gefundenen Nachbarn aus deren Nachbarn\n",
    "- Wenn wir den Zielknoten finden, ist der Algorithmus abgeschlossen"
   ]
  },
  {
   "cell_type": "markdown",
   "metadata": {
    "slideshow": {
     "slide_type": "slide"
    }
   },
   "source": [
    "# 2. Konzept\n"
   ]
  },
  {
   "cell_type": "markdown",
   "metadata": {
    "slideshow": {
     "slide_type": "slide"
    }
   },
   "source": [
    "# Konzept\n",
    "\n",
    "\n",
    "## Formale Definition\n",
    "*Vgl. https://cg.informatik.uni-freiburg.de/course_notes/info2_15_graph.pdf*\n",
    "\n",
    "<br>\n",
    "\n",
    "- Ein Graph **G** ist ein 2-Tupel der Mengen **V** und **E**\n",
    "> $G = (V, E)$\n",
    "\n",
    "- $V = \\{v_0, ..., v_{n-1}\\}$ Menge von n Knoten (\"Vertices\")\n",
    "- $E = \\{e_0, ..., e_{m-1}\\}$ Menge von m Kanten (\"Edges\")\n",
    "- eine Kante $e_x$ ist bestimmt über die Knoten $v_i$ und $v_j$, die sie miteinander verbindet\n",
    "- zwei Knoten $v_i$ und $v_j$ heißen benachbart, wenn $(v_i, v_j) \\in E$ oder $(v_j, v_i) \\in E$"
   ]
  },
  {
   "cell_type": "markdown",
   "metadata": {
    "slideshow": {
     "slide_type": "slide"
    }
   },
   "source": [
    "# Konzept\n",
    "\n",
    "\n",
    "## Beispiel\n",
    "\n",
    "> <div class=\"alert alert-block alert-info\">\n",
    "<b>Erstellt einen Graph für Länder in Europa</b>\n",
    "</div>\n",
    "\n",
    "- Was sind die Knoten, was sind die Kanten?\n",
    "- Gerichtet oder ungerichtet?\n",
    "- Gewichtet oder ungewichtet?"
   ]
  },
  {
   "cell_type": "markdown",
   "metadata": {
    "slideshow": {
     "slide_type": "slide"
    }
   },
   "source": [
    "# 3. Implementierung mit Hash-Tabellen\n"
   ]
  },
  {
   "cell_type": "markdown",
   "metadata": {
    "slideshow": {
     "slide_type": "slide"
    }
   },
   "source": [
    "# Implementierung (Hash-Tabellen)\n",
    "\n",
    "- In der Vorlesung haben wir Implementierung von Graphen mit Hash-Tabellen kennengelernt\n",
    "- Auf nächstem Übungszettel Aufgaben dazu\n",
    "- Funktionsweise:\n",
    "    - Knoten dienen als Schlüssel\n",
    "    - Liste der Nachfolger des Knoten ist zugehöriger Wert \n",
    "\n",
    "> <div class=\"alert alert-block alert-info\">\n",
    "<b>Implementiert den Europa-Graph als Hash-Tabelle.</b>\n",
    "</div>"
   ]
  },
  {
   "cell_type": "code",
   "execution_count": null,
   "metadata": {},
   "outputs": [],
   "source": [
    "graph = {}\n",
    "graph[\"Land1\"] = [\"Land2\", \"Land3\"]\n",
    "\n",
    "print(graph)"
   ]
  },
  {
   "cell_type": "markdown",
   "metadata": {
    "slideshow": {
     "slide_type": "slide"
    }
   },
   "source": [
    "# 4. Implementierung mit NetworkX\n"
   ]
  },
  {
   "cell_type": "markdown",
   "metadata": {
    "slideshow": {
     "slide_type": "slide"
    }
   },
   "source": [
    "# Implementierung (NetworkX)\n",
    "\n",
    "- In der Praxis eher fertige Pakete für Implementierung von Netzwerken genutzt\n",
    "- In Python zum Beispiel [NetworkX](https://networkx.org/documentation/stable/tutorial.html)\n",
    "- Knoten und Kanten dabei explizit dargestellt\n",
    "- Ermöglicht einige fortgeschrittene Anwendungsmöglichkeiten"
   ]
  },
  {
   "cell_type": "code",
   "execution_count": 4,
   "metadata": {},
   "outputs": [
    {
     "data": {
      "text/plain": [
       "NodeView(('Knoten 1', 'Knoten 2'))"
      ]
     },
     "execution_count": 4,
     "metadata": {},
     "output_type": "execute_result"
    }
   ],
   "source": [
    "import networkx as nx\n",
    "\n",
    "graphX = nx.DiGraph()\n",
    "\n",
    "graphX.add_node(\"Knoten 1\")\n",
    "graphX.add_node(\"Knoten 2\")\n",
    "\n",
    "graphX.add_edge(\"Knoten 1\", \"Knoten 2\")\n",
    "\n",
    "graphX.nodes"
   ]
  },
  {
   "cell_type": "markdown",
   "metadata": {
    "slideshow": {
     "slide_type": "slide"
    }
   },
   "source": [
    "# Implementierung (NetworkX)\n",
    "\n",
    "\n",
    "> <div class=\"alert alert-block alert-info\">\n",
    "<b>Implementiert den Europa-Graph als Hash-Tabelle.</b>\n",
    "</div>"
   ]
  },
  {
   "cell_type": "markdown",
   "metadata": {
    "slideshow": {
     "slide_type": "slide"
    }
   },
   "source": [
    "# 5. Breitensuche\n"
   ]
  },
  {
   "cell_type": "markdown",
   "metadata": {
    "slideshow": {
     "slide_type": "slide"
    }
   },
   "source": [
    "# Breitensuche\n",
    "## Beispiel\n",
    "\n",
    "> <div class=\"alert alert-block alert-info\">\n",
    "<b>Nutzt die Breitensuche, um im Europa-Graph von Land 1 aus Land 2 zu finden.</b>\n",
    "</div>"
   ]
  },
  {
   "cell_type": "markdown",
   "metadata": {
    "slideshow": {
     "slide_type": "slide"
    }
   },
   "source": [
    "# Recap\n",
    "\n",
    "> <div class=\"alert alert-block alert-info\">\n",
    "<b>Wofür können Graphen genutzt werden?</b>\n",
    "</div>\n",
    "\n",
    "> <div class=\"alert alert-block alert-info\">\n",
    "<b>Welche Möglichkeiten gibt es, Graphen in Python zu implementieren?</b>\n",
    "</div>\n",
    "\n",
    "> <div class=\"alert alert-block alert-info\">\n",
    "<b>Wie funktioniert die Breitensuche?</b>\n",
    "</div>"
   ]
  },
  {
   "cell_type": "markdown",
   "metadata": {
    "slideshow": {
     "slide_type": "slide"
    }
   },
   "source": [
    "# Vielen Dank für Eure Aufmerksamkeit"
   ]
  }
 ],
 "metadata": {
  "celltoolbar": "Slideshow",
  "kernelspec": {
   "display_name": "Python 3",
   "language": "python",
   "name": "python3"
  },
  "language_info": {
   "codemirror_mode": {
    "name": "ipython",
    "version": 3
   },
   "file_extension": ".py",
   "mimetype": "text/x-python",
   "name": "python",
   "nbconvert_exporter": "python",
   "pygments_lexer": "ipython3",
   "version": "3.7.4"
  },
  "toc": {
   "base_numbering": 1,
   "nav_menu": {},
   "number_sections": false,
   "sideBar": true,
   "skip_h1_title": false,
   "title_cell": "Table of Contents",
   "title_sidebar": "Contents",
   "toc_cell": false,
   "toc_position": {},
   "toc_section_display": true,
   "toc_window_display": false
  },
  "varInspector": {
   "cols": {
    "lenName": 16,
    "lenType": 16,
    "lenVar": 40
   },
   "kernels_config": {
    "python": {
     "delete_cmd_postfix": "",
     "delete_cmd_prefix": "del ",
     "library": "var_list.py",
     "varRefreshCmd": "print(var_dic_list())"
    },
    "r": {
     "delete_cmd_postfix": ") ",
     "delete_cmd_prefix": "rm(",
     "library": "var_list.r",
     "varRefreshCmd": "cat(var_dic_list()) "
    }
   },
   "types_to_exclude": [
    "module",
    "function",
    "builtin_function_or_method",
    "instance",
    "_Feature"
   ],
   "window_display": false
  }
 },
 "nbformat": 4,
 "nbformat_minor": 2
}
