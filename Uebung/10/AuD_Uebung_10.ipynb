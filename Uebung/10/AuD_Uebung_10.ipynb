{
 "cells": [
  {
   "cell_type": "markdown",
   "metadata": {
    "slideshow": {
     "slide_type": "slide"
    }
   },
   "source": [
    "<img src=\"./img/logo_wiwi.png\" width=\"23%\" align=\"left\">\n",
    "<img src=\"./img/decision_analytics_logo.png\" width=\"17%\" align=\"right\">\n",
    "\n",
    "<br><br><br><br><br><br><br><br>\n",
    "\n",
    "\n",
    "## Algorithmen und Datenstrukturen\n",
    "Wintersemester 2023/24\n",
    "\n",
    "\n",
    "# Übung 10: Dijkstra-Algorithmus und offene Fragestunde\n",
    "\n",
    "\n",
    "<br><br><br>\n",
    "J-Prof. Dr. Michael Römer, Till Porrmann "
   ]
  },
  {
   "cell_type": "markdown",
   "metadata": {
    "slideshow": {
     "slide_type": "slide"
    }
   },
   "source": [
    "# Recap\n",
    "\n",
    "> <div class=\"alert alert-block alert-info\">\n",
    "<b>Was sind die Unterschiede zwischen Breitensuche und Dijkstra-Algorithmus?</b>\n",
    "</div>\n",
    "\n",
    "> <div class=\"alert alert-block alert-info\">\n",
    "<b>Findet der Dijkstra-Algorithmus immer den kürzesten Weg?</b>\n",
    "</div>\n"
   ]
  },
  {
   "cell_type": "markdown",
   "metadata": {
    "slideshow": {
     "slide_type": "slide"
    }
   },
   "source": [
    "# Überblick\n",
    "\n",
    "1. Wiederholung Vorlesung\n",
    "2. Dijkstra-Algorithmus Ablauf\n",
    "3. Dijkstra-Algorithmus Code\n",
    "4. Offene Fragestunde\n",
    "5. (Christmas Coding Challenge)"
   ]
  },
  {
   "cell_type": "markdown",
   "metadata": {
    "slideshow": {
     "slide_type": "slide"
    }
   },
   "source": [
    "# 1. Wiederholung Vorlesung"
   ]
  },
  {
   "cell_type": "markdown",
   "metadata": {
    "slideshow": {
     "slide_type": "slide"
    }
   },
   "source": [
    "# Wiederholung Vorlesung\n",
    "## Darstellung von Dijkstra\n",
    "\n",
    "- Ablauf von Dijkstra kann in Tabellen festgehalten werden\n",
    "- Dabei aktuelles Label und bester (bisheriger) Vorgänger festgehalten\n",
    "\n",
    "<img src=\"./img/32.png\" width=\"80%\" align=\"middle\">"
   ]
  },
  {
   "cell_type": "markdown",
   "metadata": {
    "slideshow": {
     "slide_type": "slide"
    }
   },
   "source": [
    "# Wiederholung Vorlesung\n",
    "## Darstellung von Dijkstra\n",
    "\n",
    "- Label wird für endgültige Entfernung benötigt\n",
    "- Vorgänger wird für Rekonstruktion des Pfads benötigt\n",
    "\n",
    "<img src=\"./img/34.png\" width=\"50%\" align=\"middle\">\n",
    "\n",
    "<img src=\"./img/38.png\" width=\"50%\" align=\"middle\">"
   ]
  },
  {
   "cell_type": "markdown",
   "metadata": {
    "slideshow": {
     "slide_type": "slide"
    }
   },
   "source": [
    "# Wiederholung Vorlesung\n",
    "## Implementierung Dijkstra\n",
    "\n",
    "- Implementierung mit verschachtelten Hash-Tabellen\n",
    "\n",
    "<img src=\"./img/53.png\" width=\"35%\" align=\"middle\" >"
   ]
  },
  {
   "cell_type": "code",
   "execution_count": null,
   "metadata": {},
   "outputs": [],
   "source": [
    "graph = {}\n",
    "graph[\"start\"] =  {\"A\":6, \"B\":2} # Direkte Initialisierung des dict mit Schlüssel:Wert-Paaren    \n",
    "\n",
    "graph[\"A\"] =  {\"fin\":1} \n",
    "graph[\"B\"] =  {\"A\":3, \"fin\":5}  \n",
    "graph[\"fin\"] =  {}  \n",
    "graph"
   ]
  },
  {
   "cell_type": "markdown",
   "metadata": {
    "slideshow": {
     "slide_type": "slide"
    }
   },
   "source": [
    "# 2. Dijkstra-Algorithmus Ablauf\n"
   ]
  },
  {
   "cell_type": "markdown",
   "metadata": {
    "slideshow": {
     "slide_type": "slide"
    }
   },
   "source": [
    "# Dijkstra-Algorithmus Ablauf\n",
    "\n",
    "## Visualisierung des Ablaufs\n",
    "\n",
    "<img src=\"./img/56.png\" width=\"40%\" align=\"middle\">"
   ]
  },
  {
   "cell_type": "markdown",
   "metadata": {
    "slideshow": {
     "slide_type": "slide"
    }
   },
   "source": [
    "# Dijkstra-Algorithmus Ablauf\n",
    "\n",
    "## Alte Klausuraufgabe: Anwenden des Dijkstra-Algorithmus (31 von 100 Punkten)"
   ]
  },
  {
   "cell_type": "markdown",
   "metadata": {},
   "source": [
    "Auf den folgenden Graphen wird der Dijkstra-Algorithmus zum Finden des kürzesten Weges zwischen Knoten a und Knoten e angewandt."
   ]
  },
  {
   "attachments": {},
   "cell_type": "markdown",
   "metadata": {},
   "source": [
    "<img src=\"./img/Graph Aufgabe 3 - A.png\" width=\"35%\" align=\"middle\">"
   ]
  },
  {
   "cell_type": "markdown",
   "metadata": {},
   "source": [
    "Nach 2 ausgeführten Schritten kommt der Dijkstra-Algorithmus zu folgendem Zwischenergebnis:"
   ]
  },
  {
   "attachments": {},
   "cell_type": "markdown",
   "metadata": {},
   "source": [
    "<img src=\"./img/Graph Aufgabe 3 - Tabelle.png\" width=\"25%\" align=\"middle\">"
   ]
  },
  {
   "cell_type": "markdown",
   "metadata": {},
   "source": [
    "<div class=\"alert alert-block alert-info\">\n",
    "<b>   \n",
    "a) Führen Sie die nächsten 2 Schritte des Dijkstra-Algorithmus aus und stellen Sie die Ergebnisse der Zwischenschritte    tabellarisch (wie in der obigen Tabelle) dar.\n",
    "</b></div>\n",
    "  \n",
    "<div class=\"alert alert-block alert-info\">\n",
    "<b> \n",
    "b) Würde der Dijkstra-Algorithmus (wenn er bis zum Ende ausgeführt würde) den kürzesten Weg finden? Begründen Sie Ihre Antwort kurz.\n",
    "</b> \n",
    "</div>\n",
    "  \n",
    "<div class=\"alert alert-block alert-warning\">\n",
    "<b> \n",
    "(  c) Handelt es sich bei dem gegebenen Graph um einen DAG? Inwiefern kann diese Information hilfreich sein?  )\n",
    "</b>\n",
    "</div>"
   ]
  },
  {
   "cell_type": "markdown",
   "metadata": {
    "slideshow": {
     "slide_type": "slide"
    }
   },
   "source": [
    "# 3. Dijkstra-Algorithmus Code\n"
   ]
  },
  {
   "cell_type": "markdown",
   "metadata": {
    "slideshow": {
     "slide_type": "slide"
    }
   },
   "source": [
    "# Dijkstra-Algorithmus Code\n",
    "\n",
    "## Hilfsfunktion"
   ]
  },
  {
   "cell_type": "code",
   "execution_count": null,
   "metadata": {},
   "outputs": [],
   "source": [
    "def find_lowest_cost_node(costs, processed):\n",
    "    lowest_cost = float(\"inf\") # initialisierung: Enfernung / Kosten auf unendlich\n",
    "    lowest_cost_node = None #initialisierung\n",
    "    \n",
    "    for node, cost in costs.items(): # .items() gibt uns pro Iteration ein Schlüssel-Wert Paar\n",
    "        \n",
    "        # wenn die Entfernung des aktuellen Knotens < die bisher kürzeste Entfernung UND der Knoten noch nicht bearbeitet wurde:\n",
    "        if cost < lowest_cost and node not in processed: \n",
    "            lowest_cost = cost   # aktualisiere die bisher besten Kosten\n",
    "            lowest_cost_node = node \n",
    "    return lowest_cost_node"
   ]
  },
  {
   "cell_type": "markdown",
   "metadata": {
    "slideshow": {
     "slide_type": "slide"
    }
   },
   "source": [
    "# Dijkstra-Algorithmus Code\n",
    "\n",
    "## Hauptfunktion"
   ]
  },
  {
   "cell_type": "code",
   "execution_count": null,
   "metadata": {},
   "outputs": [],
   "source": [
    "def dijkstra(graph, start_node):    \n",
    "    #initalisierung der Datenstrukturen\n",
    "    processed = set()\n",
    "    parents = {}\n",
    "    costs = {}    \n",
    "    for node in graph: # iteriere über alle Knoten \n",
    "        costs[node] = float(\"inf\")  # wir setzen zunächst alle Kosten auf unendlich\n",
    "    costs[start_node] = 0  # dann setzen wir die Kosten des Startknotens auf 0   \n",
    "    node = start_node # wir beginnen mit dem Startknoten    \n",
    "    \n",
    "    while node is not None: # solange wir einen zu bearbeitenden Knoten haben\n",
    "        print (\"betrachteter knoten:\", node)\n",
    "        # iteration über die \"innere\" Hash-Tabelle von node (Schlüssel: Nachbar, Wert: Kantengewicht (distanz))\n",
    "        for neighbor, edge_weight in graph[node].items(): # .items() sorgt dafür, dass Schlüssel-Wert-Paar genutzt wird\n",
    "            \n",
    "            # wenn: Entfernung des node vom Startknoten + Distanz von node zu neighbor < bisherige Enferung(neighbor)\n",
    "            if costs[node] + edge_weight < costs[neighbor]: \n",
    "                costs[neighbor] = costs[node] + edge_weight  # aktualisiere Entfernungslabel costs von neighbor\n",
    "                parents[neighbor] = node # aktualisiere den Vorgänger auf dem kürzesten Weg zum neighbor\n",
    "                print(\"aktualisiere nachfolger:\", neighbor, \"neue Distanz\", costs[neighbor])       \n",
    "        processed.add(node) # füge den Knoten zur Menge der beabeiteten hinzu       \n",
    "        \n",
    "        node = find_lowest_cost_node(costs, processed) # finde den nächsten Knoten (None, wenn alle bearbeitet wurden) \n",
    "    return costs, parents # gib sowohl die Kosten als auch die parents zurück    "
   ]
  },
  {
   "cell_type": "markdown",
   "metadata": {
    "slideshow": {
     "slide_type": "slide"
    }
   },
   "source": [
    "# 4. Offene Fragestunde\n",
    "\n",
    "- Bisherige Inhalte\n",
    "- Inhalte im Rest des Semesters\n",
    "- Organisatorisches\n",
    "- Aktueller Übungszettel\n",
    "- Klausur\n",
    "- Projektseminar im Sommer\n",
    "- ..."
   ]
  },
  {
   "cell_type": "markdown",
   "metadata": {
    "slideshow": {
     "slide_type": "slide"
    }
   },
   "source": [
    "# 5. Christmas Coding Challenge"
   ]
  },
  {
   "cell_type": "markdown",
   "metadata": {
    "slideshow": {
     "slide_type": "slide"
    }
   },
   "source": [
    "# Christmas Coding Challenge\n",
    "\n",
    "## Diebstahl beim Weihnachtsmann\n",
    "\n",
    "### Teil 1: Das fehlende Geschenk\n",
    "\n",
    "- Vor dem Ausliefern aller Geschenke wurden diese durchgezählt\n",
    "- Aber es fehlt eins!\n",
    "- Der Sack sollte 100 Geschenke enthalten, es sind aber nur 99\n",
    "- Die Geschenke waren durchnummeriert von 1 bis 100\n",
    "\n",
    "><div class=\"alert alert-block alert-info\">\n",
    "<b>Finde das fehlende Geschenk!</b></div>"
   ]
  },
  {
   "cell_type": "code",
   "execution_count": null,
   "metadata": {},
   "outputs": [],
   "source": [
    "import random\n",
    "geschenke = list(range(1,101))\n",
    "geschenke.remove(random.randint(1,101))"
   ]
  },
  {
   "cell_type": "code",
   "execution_count": null,
   "metadata": {},
   "outputs": [],
   "source": [
    "print(geschenke)"
   ]
  },
  {
   "cell_type": "markdown",
   "metadata": {
    "slideshow": {
     "slide_type": "slide"
    }
   },
   "source": [
    "# Christmas Coding Challenge\n",
    "\n",
    "## Diebstahl beim Weihnachtsmann\n",
    "\n",
    "### Teil 2: Verlust im Sturm\n",
    "\n",
    "- Nachdem das Geschenk ersetzt wurde fliegt der Weihnachtsmann los\n",
    "- Er wird von einem Sturm überrascht\n",
    "- In dem Sturm fallen 2 Geschenke aus dem Sack\n",
    "- Diese müssen ebenfalls ersetzt werden\n",
    "\n",
    "><div class=\"alert alert-block alert-info\">\n",
    "<b>Welche Geschenke fehlen?</b></div>\n",
    "\n",
    "><div class=\"alert alert-block alert-info\">\n",
    "<b>Finde den Fehler in Tills Code!</b></div>"
   ]
  },
  {
   "cell_type": "code",
   "execution_count": null,
   "metadata": {},
   "outputs": [],
   "source": [
    "geschenke2 = list(range(1,101))\n",
    "\n",
    "geschenke2.remove(random.randint(1,101))\n",
    "geschenke2.remove(random.randint(1,101))"
   ]
  },
  {
   "cell_type": "markdown",
   "metadata": {
    "slideshow": {
     "slide_type": "slide"
    }
   },
   "source": [
    "# Christmas Coding Challenge\n",
    "\n",
    "## Diebstahl beim Weihnachtsmann\n",
    "\n",
    "### Teil 3: Der kleptomanische Elf\n",
    "\n",
    "- Das Fehlen der Geschenke scheint kein Einzelfall zu sein\n",
    "- Ein Elf klaut systematisch jeweils ein Geschenk aus jedem Sack, den er packen soll\n",
    "- Es gibt 10 Elfen, die fürs Packen verantwortlich sind\n",
    "- Jeder dieser Elfen hat schon 100 Säcke gepackt\n",
    "- Es ist markiert welcher Sack von welchem Elf gepackt wurde\n",
    "- Die Säcke mit den fehlenden Geschenken müssen gefunden werden\n",
    "\n",
    "\n",
    "- Es herrscht Zeitdruck, daher können die Geschenke nicht gezählt werden\n",
    "- Uns steht aber eine Waage zur Verfügung, mit der wir ein Mal wiegen dürfen\n",
    "- Dabei können wir so viele Säcke wie wir wollen wiegen\n",
    "- Alle Geschenke sind exakt gleich schwer: 1kg\n",
    "\n",
    "><div class=\"alert alert-block alert-info\">\n",
    "<b>Finde den kleptomanischen Elf!</b></div>"
   ]
  },
  {
   "cell_type": "markdown",
   "metadata": {
    "slideshow": {
     "slide_type": "slide"
    }
   },
   "source": [
    "# Fröhliche Weihnachten und einen guten Rutsch ins neue Jahr!"
   ]
  }
 ],
 "metadata": {
  "celltoolbar": "Slideshow",
  "kernelspec": {
   "display_name": "Python 3",
   "language": "python",
   "name": "python3"
  },
  "language_info": {
   "codemirror_mode": {
    "name": "ipython",
    "version": 3
   },
   "file_extension": ".py",
   "mimetype": "text/x-python",
   "name": "python",
   "nbconvert_exporter": "python",
   "pygments_lexer": "ipython3",
   "version": "3.7.4"
  },
  "toc": {
   "base_numbering": 1,
   "nav_menu": {},
   "number_sections": false,
   "sideBar": true,
   "skip_h1_title": false,
   "title_cell": "Table of Contents",
   "title_sidebar": "Contents",
   "toc_cell": false,
   "toc_position": {},
   "toc_section_display": true,
   "toc_window_display": false
  },
  "varInspector": {
   "cols": {
    "lenName": 16,
    "lenType": 16,
    "lenVar": 40
   },
   "kernels_config": {
    "python": {
     "delete_cmd_postfix": "",
     "delete_cmd_prefix": "del ",
     "library": "var_list.py",
     "varRefreshCmd": "print(var_dic_list())"
    },
    "r": {
     "delete_cmd_postfix": ") ",
     "delete_cmd_prefix": "rm(",
     "library": "var_list.r",
     "varRefreshCmd": "cat(var_dic_list()) "
    }
   },
   "types_to_exclude": [
    "module",
    "function",
    "builtin_function_or_method",
    "instance",
    "_Feature"
   ],
   "window_display": false
  }
 },
 "nbformat": 4,
 "nbformat_minor": 2
}
