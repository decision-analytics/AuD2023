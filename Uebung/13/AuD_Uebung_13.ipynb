{
 "cells": [
  {
   "cell_type": "markdown",
   "metadata": {
    "slideshow": {
     "slide_type": "slide"
    }
   },
   "source": [
    "<img src=\"./img/logo_wiwi.png\" width=\"23%\" align=\"left\">\n",
    "<img src=\"./img/decision_analytics_logo.png\" width=\"17%\" align=\"right\">\n",
    "\n",
    "<br><br><br><br><br><br><br><br>\n",
    "\n",
    "\n",
    "## Algorithmen und Datenstrukturen\n",
    "Wintersemester 2023/24\n",
    "\n",
    "\n",
    "# Übung 13: Klausurvorbereitung\n",
    "\n",
    "\n",
    "<br><br><br>\n",
    "J-Prof. Dr. Michael Römer, Till Porrmann "
   ]
  },
  {
   "cell_type": "markdown",
   "metadata": {
    "slideshow": {
     "slide_type": "slide"
    }
   },
   "source": [
    "# Recap\n",
    "\n",
    "> <div class=\"alert alert-block alert-info\">\n",
    "<b>Was versteht man unter Greedy-Algorithmen? </b>\n",
    "</div>\n",
    "\n",
    "> <div class=\"alert alert-block alert-info\">\n",
    "<b>Für welche Problemstellungen bieten sich Greedy-Algorithmen an?</b>\n",
    "</div>\n",
    "\n"
   ]
  },
  {
   "cell_type": "markdown",
   "metadata": {
    "slideshow": {
     "slide_type": "slide"
    }
   },
   "source": [
    "# Überblick\n",
    "\n",
    "0. Übungszettel und Organisatorisches\n",
    "1. Wiederholung Vorlesung\n",
    "2. Klausurvorbereitung"
   ]
  },
  {
   "cell_type": "markdown",
   "metadata": {
    "slideshow": {
     "slide_type": "slide"
    }
   },
   "source": [
    "# 0. Übungszettel und Organisatorisches"
   ]
  },
  {
   "cell_type": "markdown",
   "metadata": {
    "slideshow": {
     "slide_type": "slide"
    }
   },
   "source": [
    "# Übungszettel und Organisatorisches\n",
    "## Klausur nächste Woche\n",
    "\n",
    "- Ähnlich wie Probeklausuren und Aufgaben auf Übungszettel\n",
    "- Heute letzte Möglichkeit sich anzumelden\n",
    "- Herausfordernd, aber fair (aus der Perspektive der Person die die Klausur gestellt hat)\n",
    "\n",
    "<br>\n",
    "\n",
    "- Ihr schafft das, ich wünsche euch viel Erfolg!\n"
   ]
  },
  {
   "cell_type": "markdown",
   "metadata": {
    "slideshow": {
     "slide_type": "slide"
    }
   },
   "source": [
    "# Übungszettel und Organisatorisches\n",
    "## Termine\n",
    "\n",
    "| ÜZ Nr. | Bearbeitungszeitraum | Präsentation | Thema (voraussichtlich) | Vorstellende |\n",
    "| :-: | :-: | :-: | :-: | :-: |\n",
    "| 1 | 19.10.-28.10. | 02.11. | Grundlagen Python / Algorithmen      |   Michelle+Dennis     |\n",
    "| 2 | 02.11.-11.11. | 16.11. | Datenstrukturen / Sortierverfahren   |   Mohammed+Denis|\n",
    "| 3 | 16.11.-25.11.  | 30.11.  | Rekursion                            |Daniela+Erik     |\n",
    "| 4 | 30.11.-09.12. | 14.12.| Quicksort / Hash-Tabellen  |   Levin+Emre     |\n",
    "| 5 | 14.12.-22.12 | *18.01. | Graphen / Kürzeste Wege Verfahren    |   Dmytro+Lena     |\n",
    "| 6 | 11.01.-20.01 | 25.01 | Dijkstra / DAGs            |   Rehman+Lucas    |\n",
    "| **7** | **25.01.-31.01.** | **01.02**  | **Greedy-Algorithmen**            |   **Lukas+Sven+Espen**     |"
   ]
  },
  {
   "cell_type": "markdown",
   "metadata": {
    "slideshow": {
     "slide_type": "slide"
    }
   },
   "source": [
    "# Übungszettel - Präsentation\n"
   ]
  },
  {
   "cell_type": "markdown",
   "metadata": {
    "slideshow": {
     "slide_type": "slide"
    }
   },
   "source": [
    "# 1. Wiederholung Vorlesung"
   ]
  },
  {
   "cell_type": "markdown",
   "metadata": {
    "slideshow": {
     "slide_type": "slide"
    }
   },
   "source": [
    "# Wiederholung Vorlesung\n",
    "\n",
    "## Dynamische Programmierung\n",
    "\n",
    "- Prinzip zur Gestaltung von Algorithmen\n",
    "- Oft bei optimalen Verfahren eingesetzt\n",
    "\n",
    "**Entscheidend sind zwei Eigenschaften:**\n",
    "\n",
    "<div class=\"alert alert-block alert-success\">\n",
    "    \n",
    "- **Überlappende Teilprobleme:** (overlapping subproblems)\n",
    "   - ein Problem kann in Teilprobleme \"dekomponiert\" werden, dabei tauchen \"kleinere\" Teilprobleme in verschiedenen \"größeren\" Teilproblemen wieder auf\n",
    "\n",
    "- **Optimale Teilstruktur** (optimal substructure)\n",
    "   - eine optimale Lösung für das Gesamtproblem setzt sich aus optimalen Lösungen für Teilprobleme zusammen\n",
    "</div>"
   ]
  },
  {
   "cell_type": "markdown",
   "metadata": {
    "slideshow": {
     "slide_type": "slide"
    }
   },
   "source": [
    "# Wiederholung Vorlesung\n",
    "\n",
    "## Dynamische Programmierung\n",
    "\n",
    "<div class=\"alert alert-block alert-success\">\n",
    "\n",
    "**Beide Eigenschaften zusammen führen zu folgenden Idee:**\n",
    "- eine optimale Gesamtlösung können wir aus den Lösungen für Teilprobleme zusammensetzen\n",
    "- wir müssen die Lösungen für Teilprobleme nur einmal berechnen (wir können sie speichern und wiederverwenden)\n",
    "\n",
    "</div>"
   ]
  },
  {
   "cell_type": "markdown",
   "metadata": {
    "slideshow": {
     "slide_type": "slide"
    }
   },
   "source": [
    "# Wiederholung Vorlesung\n",
    "\n",
    "## Enumeration vs. Dynamische Programmierung vs. Greedy\n",
    "\n",
    "**Greedy:**\n",
    "- sehr schnell\n",
    "- nur geringer Teil des Lösungsraums betrachtet\n",
    "- Lösung oft nicht optimal\n",
    "\n",
    "<br>\n",
    "\n",
    "**Dynamische Programmierung:**\n",
    "- tendenziell akzeptable Laufzeiten (je nach Problemstellung)\n",
    "- nur Teil des Lösungsraums betrachtet\n",
    "- Ergebnisse von Teilproblemen werden wiederverwendet \n",
    "- Lösung optimal\n",
    "\n",
    "<br>\n",
    "\n",
    "**Vollständige Enumeration:**\n",
    "- lange Laufzeiten\n",
    "- gesamter Lösungsraum wird betrachtet\n",
    "- Lösung optimal"
   ]
  },
  {
   "cell_type": "markdown",
   "metadata": {
    "slideshow": {
     "slide_type": "slide"
    }
   },
   "source": [
    "# 2. Klausurvorbereitung"
   ]
  },
  {
   "cell_type": "markdown",
   "metadata": {
    "slideshow": {
     "slide_type": "slide"
    }
   },
   "source": [
    "# Klausurvorbereitung\n",
    "## Themensammlung für heute\n",
    "\n",
    "- Callstack zeichnen\n",
    "- \n",
    "- \n",
    "- \n",
    "- "
   ]
  },
  {
   "cell_type": "markdown",
   "metadata": {
    "slideshow": {
     "slide_type": "slide"
    }
   },
   "source": [
    "# Vielen Dank für Eure Aufmerksamkeit. Danke für die aktive Mitarbeit im Kurs!"
   ]
  },
  {
   "cell_type": "markdown",
   "metadata": {},
   "source": [
    "# Viel Erfolg bei der Klausur :)"
   ]
  }
 ],
 "metadata": {
  "celltoolbar": "Slideshow",
  "kernelspec": {
   "display_name": "Python 3",
   "language": "python",
   "name": "python3"
  },
  "language_info": {
   "codemirror_mode": {
    "name": "ipython",
    "version": 3
   },
   "file_extension": ".py",
   "mimetype": "text/x-python",
   "name": "python",
   "nbconvert_exporter": "python",
   "pygments_lexer": "ipython3",
   "version": "3.7.4"
  },
  "toc": {
   "base_numbering": 1,
   "nav_menu": {},
   "number_sections": false,
   "sideBar": true,
   "skip_h1_title": false,
   "title_cell": "Table of Contents",
   "title_sidebar": "Contents",
   "toc_cell": false,
   "toc_position": {},
   "toc_section_display": true,
   "toc_window_display": false
  },
  "varInspector": {
   "cols": {
    "lenName": 16,
    "lenType": 16,
    "lenVar": 40
   },
   "kernels_config": {
    "python": {
     "delete_cmd_postfix": "",
     "delete_cmd_prefix": "del ",
     "library": "var_list.py",
     "varRefreshCmd": "print(var_dic_list())"
    },
    "r": {
     "delete_cmd_postfix": ") ",
     "delete_cmd_prefix": "rm(",
     "library": "var_list.r",
     "varRefreshCmd": "cat(var_dic_list()) "
    }
   },
   "types_to_exclude": [
    "module",
    "function",
    "builtin_function_or_method",
    "instance",
    "_Feature"
   ],
   "window_display": false
  }
 },
 "nbformat": 4,
 "nbformat_minor": 2
}
